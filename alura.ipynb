{
 "cells": [
  {
   "cell_type": "markdown",
   "metadata": {},
   "source": [
    "# Análise de Dados dos Cursos da Alura\n",
    "\n",
    "1. Obtenção de dados utilizando Web Scraping\n",
    "2. Análise exploratório de dados"
   ]
  },
  {
   "cell_type": "code",
   "execution_count": 1,
   "metadata": {},
   "outputs": [
    {
     "name": "stderr",
     "output_type": "stream",
     "text": [
      "/home/walisson/.local/lib/python3.10/site-packages/matplotlib/projections/__init__.py:63: UserWarning: Unable to import Axes3D. This may be due to multiple versions of Matplotlib being installed (e.g. as a system package and as a pip package). As a result, the 3D projection is not available.\n",
      "  warnings.warn(\"Unable to import Axes3D. This may be due to multiple versions of \"\n",
      "/usr/lib/python3/dist-packages/scipy/__init__.py:146: UserWarning: A NumPy version >=1.17.3 and <1.25.0 is required for this version of SciPy (detected version 1.26.4\n",
      "  warnings.warn(f\"A NumPy version >={np_minversion} and <{np_maxversion}\"\n"
     ]
    }
   ],
   "source": [
    "import numpy as np\n",
    "import pandas as pd\n",
    "import matplotlib.pyplot as plt\n",
    "import seaborn as sns\n",
    "import plotly.express as px\n",
    "import plotly.figure_factory as ff\n",
    "import re\n",
    "from time import sleep\n",
    "\n",
    "import requests\n",
    "from bs4 import BeautifulSoup"
   ]
  },
  {
   "cell_type": "code",
   "execution_count": 2,
   "metadata": {},
   "outputs": [],
   "source": [
    "import plotly.io as pio\n",
    "\n",
    "pio.templates.default = 'plotly_dark'"
   ]
  },
  {
   "cell_type": "code",
   "execution_count": 3,
   "metadata": {},
   "outputs": [],
   "source": [
    "schools = {\n",
    "  'Programação': 'https://www.alura.com.br/cursos-online-programacao',\n",
    "  'Data Science': 'https://www.alura.com.br/cursos-online-data-science',\n",
    "  'Front-end': 'https://www.alura.com.br/cursos-online-front-end',\n",
    "  'Inteligência Artificial': 'https://www.alura.com.br/cursos-online-inteligencia-artificial',\n",
    "  'UX & Design': 'https://www.alura.com.br/cursos-online-design-ux',\n",
    "  'DevOps': 'https://www.alura.com.br/cursos-online-devops',\n",
    "  'Inovação & Gestão': 'https://www.alura.com.br/cursos-online-inovacao-gestao',\n",
    "  'Mobile': 'https://www.alura.com.br/cursos-online-mobile'\n",
    "}"
   ]
  },
  {
   "cell_type": "code",
   "execution_count": 4,
   "metadata": {},
   "outputs": [],
   "source": [
    "df = pd.DataFrame(columns=['title', 'workload', 'url', 'school', 'registered_people', 'rating', 'instructor'])"
   ]
  },
  {
   "cell_type": "code",
   "execution_count": 5,
   "metadata": {},
   "outputs": [],
   "source": [
    "alura_courses_filename = 'alura_courses.csv'"
   ]
  },
  {
   "cell_type": "code",
   "execution_count": 6,
   "metadata": {},
   "outputs": [],
   "source": [
    "def get_courses_from_scraping():\n",
    "  number_of_requests = 0\n",
    "\n",
    "  for school, school_url in schools.items():\n",
    "    response = requests.get(school_url)\n",
    "    soup = BeautifulSoup(response.text, 'html.parser')\n",
    "\n",
    "    courses = soup.find_all('li', attrs={'class': 'subcategoria__item'})\n",
    "\n",
    "    courses_list = []\n",
    "\n",
    "    for course in courses:\n",
    "        title = course.find('span', attrs={'class': 'card-curso__nome'}).text\n",
    "        workload = course.find('span', attrs={'class': 'card-curso__carga'}).text\n",
    "        url = course.find('a', attrs={'class': 'card-curso'}).get('href')\n",
    "\n",
    "        url = f'https://www.alura.com.br{url}'\n",
    "        workload = int(re.findall(r'\\d+', workload)[0])\n",
    "\n",
    "        courses_list.append([title, workload, url])\n",
    "\n",
    "    df_school_courses = pd.DataFrame(courses_list, columns=['title', 'workload', 'url'])\n",
    "\n",
    "    additional_infos = []\n",
    "\n",
    "    for course_url in df_school_courses.url:\n",
    "      response = requests.get(course_url)\n",
    "      number_of_requests += 1\n",
    "\n",
    "      course_page = BeautifulSoup(response.text, 'html.parser')\n",
    "\n",
    "      course_registred_people = course_page.find('p', attrs={'class': 'courseInfo-card-wrapper-description'}, string=\"Pessoas nesse curso\")\n",
    "      if (course_registred_people) is not None:\n",
    "        course_registred_people = course_registred_people.parent.find('p', attrs={'class': 'courseInfo-card-wrapper-infos'}).text\n",
    "\n",
    "      course_rating = course_page.find('p', attrs={'class': 'courseInfo-card-wrapper-description'}, string=\"Avaliação média\")\n",
    "      if (course_rating) is not None:\n",
    "        course_rating = course_rating.parent.find('p', attrs={'class': 'courseInfo-card-wrapper-infos'}).text\n",
    "\n",
    "      course_instructor = course_page.find('h3', attrs={'class': 'instructor-title--name'}).text\n",
    "\n",
    "      additional_infos.append([school, course_registred_people, course_rating, course_instructor])\n",
    "\n",
    "      if number_of_requests % 10 == 0:\n",
    "        sleep(1)\n",
    "      \n",
    "\n",
    "    df_school_courses_additional_infos = pd.DataFrame(additional_infos, columns=['school', 'registered_people', 'rating', 'instructor'])\n",
    "\n",
    "    df_school_courses = pd.concat([df_school_courses, df_school_courses_additional_infos], axis=1)\n",
    "\n",
    "    df = pd.concat([df, df_school_courses], axis=0)\n",
    "\n",
    "    print(f'{school} done ✅')\n",
    "\n",
    "    return df"
   ]
  },
  {
   "cell_type": "code",
   "execution_count": 7,
   "metadata": {},
   "outputs": [],
   "source": [
    "try:\n",
    "  df = pd.read_csv(alura_courses_filename)\n",
    "except:\n",
    "  df = get_courses_from_scraping()\n",
    "  df.to_csv('alura_courses.csv', index=False)"
   ]
  },
  {
   "cell_type": "code",
   "execution_count": 8,
   "metadata": {},
   "outputs": [
    {
     "data": {
      "text/html": [
       "<div>\n",
       "<style scoped>\n",
       "    .dataframe tbody tr th:only-of-type {\n",
       "        vertical-align: middle;\n",
       "    }\n",
       "\n",
       "    .dataframe tbody tr th {\n",
       "        vertical-align: top;\n",
       "    }\n",
       "\n",
       "    .dataframe thead th {\n",
       "        text-align: right;\n",
       "    }\n",
       "</style>\n",
       "<table border=\"1\" class=\"dataframe\">\n",
       "  <thead>\n",
       "    <tr style=\"text-align: right;\">\n",
       "      <th></th>\n",
       "      <th>title</th>\n",
       "      <th>workload</th>\n",
       "      <th>url</th>\n",
       "      <th>school</th>\n",
       "      <th>registered_people</th>\n",
       "      <th>rating</th>\n",
       "      <th>instructor</th>\n",
       "    </tr>\n",
       "  </thead>\n",
       "  <tbody>\n",
       "    <tr>\n",
       "      <th>0</th>\n",
       "      <td>Curso JavaScript e HTML: desenvolva um jogo e ...</td>\n",
       "      <td>16</td>\n",
       "      <td>https://www.alura.com.br/curso-online-logica-p...</td>\n",
       "      <td>Programação</td>\n",
       "      <td>167775</td>\n",
       "      <td>9.5</td>\n",
       "      <td>Flavio Henrique de Souza Almeida</td>\n",
       "    </tr>\n",
       "    <tr>\n",
       "      <th>1</th>\n",
       "      <td>Curso JavaScript e HTML: pratique lógica com d...</td>\n",
       "      <td>10</td>\n",
       "      <td>https://www.alura.com.br/curso-online-logica-p...</td>\n",
       "      <td>Programação</td>\n",
       "      <td>63513</td>\n",
       "      <td>9.3</td>\n",
       "      <td>Flavio Henrique de Souza Almeida</td>\n",
       "    </tr>\n",
       "    <tr>\n",
       "      <th>2</th>\n",
       "      <td>Curso Lógica de programação: mergulhe em progr...</td>\n",
       "      <td>6</td>\n",
       "      <td>https://www.alura.com.br/curso-online-logica-p...</td>\n",
       "      <td>Programação</td>\n",
       "      <td>35378</td>\n",
       "      <td>9.6</td>\n",
       "      <td>Guilherme Lima</td>\n",
       "    </tr>\n",
       "    <tr>\n",
       "      <th>3</th>\n",
       "      <td>Curso Lógica de programação: explore funções e...</td>\n",
       "      <td>6</td>\n",
       "      <td>https://www.alura.com.br/curso-online-logica-p...</td>\n",
       "      <td>Programação</td>\n",
       "      <td>18258</td>\n",
       "      <td>9.6</td>\n",
       "      <td>Guilherme Lima</td>\n",
       "    </tr>\n",
       "    <tr>\n",
       "      <th>4</th>\n",
       "      <td>Curso Lógica de programação: praticando com de...</td>\n",
       "      <td>8</td>\n",
       "      <td>https://www.alura.com.br/curso-online-logica-p...</td>\n",
       "      <td>Programação</td>\n",
       "      <td>5208</td>\n",
       "      <td>9.3</td>\n",
       "      <td>Jacqueline Oliveira</td>\n",
       "    </tr>\n",
       "  </tbody>\n",
       "</table>\n",
       "</div>"
      ],
      "text/plain": [
       "                                               title  workload  \\\n",
       "0  Curso JavaScript e HTML: desenvolva um jogo e ...        16   \n",
       "1  Curso JavaScript e HTML: pratique lógica com d...        10   \n",
       "2  Curso Lógica de programação: mergulhe em progr...         6   \n",
       "3  Curso Lógica de programação: explore funções e...         6   \n",
       "4  Curso Lógica de programação: praticando com de...         8   \n",
       "\n",
       "                                                 url       school  \\\n",
       "0  https://www.alura.com.br/curso-online-logica-p...  Programação   \n",
       "1  https://www.alura.com.br/curso-online-logica-p...  Programação   \n",
       "2  https://www.alura.com.br/curso-online-logica-p...  Programação   \n",
       "3  https://www.alura.com.br/curso-online-logica-p...  Programação   \n",
       "4  https://www.alura.com.br/curso-online-logica-p...  Programação   \n",
       "\n",
       "   registered_people  rating                        instructor  \n",
       "0             167775     9.5  Flavio Henrique de Souza Almeida  \n",
       "1              63513     9.3  Flavio Henrique de Souza Almeida  \n",
       "2              35378     9.6                    Guilherme Lima  \n",
       "3              18258     9.6                    Guilherme Lima  \n",
       "4               5208     9.3               Jacqueline Oliveira  "
      ]
     },
     "execution_count": 8,
     "metadata": {},
     "output_type": "execute_result"
    }
   ],
   "source": [
    "df.head()"
   ]
  },
  {
   "cell_type": "code",
   "execution_count": 9,
   "metadata": {},
   "outputs": [
    {
     "name": "stdout",
     "output_type": "stream",
     "text": [
      "<class 'pandas.core.frame.DataFrame'>\n",
      "RangeIndex: 1440 entries, 0 to 1439\n",
      "Data columns (total 7 columns):\n",
      " #   Column             Non-Null Count  Dtype  \n",
      "---  ------             --------------  -----  \n",
      " 0   title              1440 non-null   object \n",
      " 1   workload           1440 non-null   int64  \n",
      " 2   url                1440 non-null   object \n",
      " 3   school             1440 non-null   object \n",
      " 4   registered_people  1440 non-null   int64  \n",
      " 5   rating             1434 non-null   float64\n",
      " 6   instructor         1440 non-null   object \n",
      "dtypes: float64(1), int64(2), object(4)\n",
      "memory usage: 78.9+ KB\n"
     ]
    }
   ],
   "source": [
    "df.info()"
   ]
  },
  {
   "cell_type": "code",
   "execution_count": 10,
   "metadata": {},
   "outputs": [
    {
     "data": {
      "text/html": [
       "<div>\n",
       "<style scoped>\n",
       "    .dataframe tbody tr th:only-of-type {\n",
       "        vertical-align: middle;\n",
       "    }\n",
       "\n",
       "    .dataframe tbody tr th {\n",
       "        vertical-align: top;\n",
       "    }\n",
       "\n",
       "    .dataframe thead th {\n",
       "        text-align: right;\n",
       "    }\n",
       "</style>\n",
       "<table border=\"1\" class=\"dataframe\">\n",
       "  <thead>\n",
       "    <tr style=\"text-align: right;\">\n",
       "      <th></th>\n",
       "      <th>workload</th>\n",
       "      <th>registered_people</th>\n",
       "      <th>rating</th>\n",
       "    </tr>\n",
       "  </thead>\n",
       "  <tbody>\n",
       "    <tr>\n",
       "      <th>count</th>\n",
       "      <td>1440.000000</td>\n",
       "      <td>1440.000000</td>\n",
       "      <td>1434.000000</td>\n",
       "    </tr>\n",
       "    <tr>\n",
       "      <th>mean</th>\n",
       "      <td>8.653472</td>\n",
       "      <td>4799.609722</td>\n",
       "      <td>9.227336</td>\n",
       "    </tr>\n",
       "    <tr>\n",
       "      <th>std</th>\n",
       "      <td>2.140006</td>\n",
       "      <td>9937.906284</td>\n",
       "      <td>0.171989</td>\n",
       "    </tr>\n",
       "    <tr>\n",
       "      <th>min</th>\n",
       "      <td>1.000000</td>\n",
       "      <td>52.000000</td>\n",
       "      <td>8.400000</td>\n",
       "    </tr>\n",
       "    <tr>\n",
       "      <th>25%</th>\n",
       "      <td>8.000000</td>\n",
       "      <td>778.250000</td>\n",
       "      <td>9.100000</td>\n",
       "    </tr>\n",
       "    <tr>\n",
       "      <th>50%</th>\n",
       "      <td>8.000000</td>\n",
       "      <td>1827.000000</td>\n",
       "      <td>9.200000</td>\n",
       "    </tr>\n",
       "    <tr>\n",
       "      <th>75%</th>\n",
       "      <td>10.000000</td>\n",
       "      <td>4630.750000</td>\n",
       "      <td>9.300000</td>\n",
       "    </tr>\n",
       "    <tr>\n",
       "      <th>max</th>\n",
       "      <td>20.000000</td>\n",
       "      <td>167775.000000</td>\n",
       "      <td>9.700000</td>\n",
       "    </tr>\n",
       "  </tbody>\n",
       "</table>\n",
       "</div>"
      ],
      "text/plain": [
       "          workload  registered_people       rating\n",
       "count  1440.000000        1440.000000  1434.000000\n",
       "mean      8.653472        4799.609722     9.227336\n",
       "std       2.140006        9937.906284     0.171989\n",
       "min       1.000000          52.000000     8.400000\n",
       "25%       8.000000         778.250000     9.100000\n",
       "50%       8.000000        1827.000000     9.200000\n",
       "75%      10.000000        4630.750000     9.300000\n",
       "max      20.000000      167775.000000     9.700000"
      ]
     },
     "execution_count": 10,
     "metadata": {},
     "output_type": "execute_result"
    }
   ],
   "source": [
    "df.describe()"
   ]
  },
  {
   "cell_type": "code",
   "execution_count": 11,
   "metadata": {},
   "outputs": [
    {
     "data": {
      "text/html": [
       "<div>\n",
       "<style scoped>\n",
       "    .dataframe tbody tr th:only-of-type {\n",
       "        vertical-align: middle;\n",
       "    }\n",
       "\n",
       "    .dataframe tbody tr th {\n",
       "        vertical-align: top;\n",
       "    }\n",
       "\n",
       "    .dataframe thead th {\n",
       "        text-align: right;\n",
       "    }\n",
       "</style>\n",
       "<table border=\"1\" class=\"dataframe\">\n",
       "  <thead>\n",
       "    <tr style=\"text-align: right;\">\n",
       "      <th></th>\n",
       "      <th>school</th>\n",
       "      <th>instructor</th>\n",
       "    </tr>\n",
       "  </thead>\n",
       "  <tbody>\n",
       "    <tr>\n",
       "      <th>count</th>\n",
       "      <td>1440</td>\n",
       "      <td>1440</td>\n",
       "    </tr>\n",
       "    <tr>\n",
       "      <th>unique</th>\n",
       "      <td>8</td>\n",
       "      <td>224</td>\n",
       "    </tr>\n",
       "    <tr>\n",
       "      <th>top</th>\n",
       "      <td>Inovação &amp; Gestão</td>\n",
       "      <td>Vinicius Dias</td>\n",
       "    </tr>\n",
       "    <tr>\n",
       "      <th>freq</th>\n",
       "      <td>291</td>\n",
       "      <td>75</td>\n",
       "    </tr>\n",
       "  </tbody>\n",
       "</table>\n",
       "</div>"
      ],
      "text/plain": [
       "                   school     instructor\n",
       "count                1440           1440\n",
       "unique                  8            224\n",
       "top     Inovação & Gestão  Vinicius Dias\n",
       "freq                  291             75"
      ]
     },
     "execution_count": 11,
     "metadata": {},
     "output_type": "execute_result"
    }
   ],
   "source": [
    "df[['school', 'instructor']].describe(include=object)"
   ]
  },
  {
   "cell_type": "code",
   "execution_count": 12,
   "metadata": {},
   "outputs": [
    {
     "data": {
      "text/html": [
       "<div>\n",
       "<style scoped>\n",
       "    .dataframe tbody tr th:only-of-type {\n",
       "        vertical-align: middle;\n",
       "    }\n",
       "\n",
       "    .dataframe tbody tr th {\n",
       "        vertical-align: top;\n",
       "    }\n",
       "\n",
       "    .dataframe thead tr th {\n",
       "        text-align: left;\n",
       "    }\n",
       "\n",
       "    .dataframe thead tr:last-of-type th {\n",
       "        text-align: right;\n",
       "    }\n",
       "</style>\n",
       "<table border=\"1\" class=\"dataframe\">\n",
       "  <thead>\n",
       "    <tr>\n",
       "      <th></th>\n",
       "      <th colspan=\"8\" halign=\"left\">registered_people</th>\n",
       "    </tr>\n",
       "    <tr>\n",
       "      <th></th>\n",
       "      <th>count</th>\n",
       "      <th>mean</th>\n",
       "      <th>std</th>\n",
       "      <th>min</th>\n",
       "      <th>25%</th>\n",
       "      <th>50%</th>\n",
       "      <th>75%</th>\n",
       "      <th>max</th>\n",
       "    </tr>\n",
       "    <tr>\n",
       "      <th>school</th>\n",
       "      <th></th>\n",
       "      <th></th>\n",
       "      <th></th>\n",
       "      <th></th>\n",
       "      <th></th>\n",
       "      <th></th>\n",
       "      <th></th>\n",
       "      <th></th>\n",
       "    </tr>\n",
       "  </thead>\n",
       "  <tbody>\n",
       "    <tr>\n",
       "      <th>Data Science</th>\n",
       "      <td>252.0</td>\n",
       "      <td>3898.250000</td>\n",
       "      <td>7922.147081</td>\n",
       "      <td>107.0</td>\n",
       "      <td>737.00</td>\n",
       "      <td>1639.5</td>\n",
       "      <td>4187.25</td>\n",
       "      <td>88599.0</td>\n",
       "    </tr>\n",
       "    <tr>\n",
       "      <th>DevOps</th>\n",
       "      <td>128.0</td>\n",
       "      <td>4796.710938</td>\n",
       "      <td>5230.424350</td>\n",
       "      <td>193.0</td>\n",
       "      <td>1364.50</td>\n",
       "      <td>2588.5</td>\n",
       "      <td>6299.25</td>\n",
       "      <td>31706.0</td>\n",
       "    </tr>\n",
       "    <tr>\n",
       "      <th>Front-end</th>\n",
       "      <td>128.0</td>\n",
       "      <td>5524.546875</td>\n",
       "      <td>9815.473790</td>\n",
       "      <td>85.0</td>\n",
       "      <td>574.00</td>\n",
       "      <td>1722.0</td>\n",
       "      <td>5224.75</td>\n",
       "      <td>56912.0</td>\n",
       "    </tr>\n",
       "    <tr>\n",
       "      <th>Inovação &amp; Gestão</th>\n",
       "      <td>291.0</td>\n",
       "      <td>8763.766323</td>\n",
       "      <td>14489.727463</td>\n",
       "      <td>84.0</td>\n",
       "      <td>1363.00</td>\n",
       "      <td>2900.0</td>\n",
       "      <td>9302.00</td>\n",
       "      <td>93768.0</td>\n",
       "    </tr>\n",
       "    <tr>\n",
       "      <th>Inteligência Artificial</th>\n",
       "      <td>44.0</td>\n",
       "      <td>1459.727273</td>\n",
       "      <td>2306.576940</td>\n",
       "      <td>109.0</td>\n",
       "      <td>290.50</td>\n",
       "      <td>678.0</td>\n",
       "      <td>1446.25</td>\n",
       "      <td>11503.0</td>\n",
       "    </tr>\n",
       "    <tr>\n",
       "      <th>Mobile</th>\n",
       "      <td>128.0</td>\n",
       "      <td>1802.570312</td>\n",
       "      <td>3245.343927</td>\n",
       "      <td>76.0</td>\n",
       "      <td>288.25</td>\n",
       "      <td>879.5</td>\n",
       "      <td>1891.50</td>\n",
       "      <td>23902.0</td>\n",
       "    </tr>\n",
       "    <tr>\n",
       "      <th>Programação</th>\n",
       "      <td>234.0</td>\n",
       "      <td>5417.858974</td>\n",
       "      <td>12622.729701</td>\n",
       "      <td>58.0</td>\n",
       "      <td>1247.50</td>\n",
       "      <td>2353.0</td>\n",
       "      <td>5703.75</td>\n",
       "      <td>167775.0</td>\n",
       "    </tr>\n",
       "    <tr>\n",
       "      <th>UX &amp; Design</th>\n",
       "      <td>235.0</td>\n",
       "      <td>2106.238298</td>\n",
       "      <td>3458.410950</td>\n",
       "      <td>52.0</td>\n",
       "      <td>517.50</td>\n",
       "      <td>1226.0</td>\n",
       "      <td>2216.00</td>\n",
       "      <td>38679.0</td>\n",
       "    </tr>\n",
       "  </tbody>\n",
       "</table>\n",
       "</div>"
      ],
      "text/plain": [
       "                        registered_people                                    \\\n",
       "                                    count         mean           std    min   \n",
       "school                                                                        \n",
       "Data Science                        252.0  3898.250000   7922.147081  107.0   \n",
       "DevOps                              128.0  4796.710938   5230.424350  193.0   \n",
       "Front-end                           128.0  5524.546875   9815.473790   85.0   \n",
       "Inovação & Gestão                   291.0  8763.766323  14489.727463   84.0   \n",
       "Inteligência Artificial              44.0  1459.727273   2306.576940  109.0   \n",
       "Mobile                              128.0  1802.570312   3245.343927   76.0   \n",
       "Programação                         234.0  5417.858974  12622.729701   58.0   \n",
       "UX & Design                         235.0  2106.238298   3458.410950   52.0   \n",
       "\n",
       "                                                             \n",
       "                             25%     50%      75%       max  \n",
       "school                                                       \n",
       "Data Science              737.00  1639.5  4187.25   88599.0  \n",
       "DevOps                   1364.50  2588.5  6299.25   31706.0  \n",
       "Front-end                 574.00  1722.0  5224.75   56912.0  \n",
       "Inovação & Gestão        1363.00  2900.0  9302.00   93768.0  \n",
       "Inteligência Artificial   290.50   678.0  1446.25   11503.0  \n",
       "Mobile                    288.25   879.5  1891.50   23902.0  \n",
       "Programação              1247.50  2353.0  5703.75  167775.0  \n",
       "UX & Design               517.50  1226.0  2216.00   38679.0  "
      ]
     },
     "execution_count": 12,
     "metadata": {},
     "output_type": "execute_result"
    }
   ],
   "source": [
    "df.groupby('school')[['registered_people']].describe()"
   ]
  },
  {
   "cell_type": "code",
   "execution_count": 13,
   "metadata": {},
   "outputs": [
    {
     "data": {
      "application/vnd.plotly.v1+json": {
       "config": {
        "plotlyServerURL": "https://plot.ly"
       },
       "data": [
        {
         "alignmentgroup": "True",
         "hovertemplate": "school=Programação<br>registered_people=%{x}<extra></extra>",
         "legendgroup": "Programação",
         "marker": {
          "color": "#636efa"
         },
         "name": "Programação",
         "notched": false,
         "offsetgroup": "Programação",
         "orientation": "h",
         "showlegend": true,
         "type": "box",
         "x": [
          167775,
          63513,
          35378,
          18258,
          5208,
          15952,
          244,
          6868,
          3064,
          6268,
          2988,
          2162,
          1372,
          7314,
          3183,
          2074,
          2084,
          2135,
          27366,
          13993,
          11444,
          10830,
          12252,
          5557,
          5227,
          2385,
          1580,
          7868,
          2628,
          518,
          327,
          3779,
          1196,
          644,
          469,
          2647,
          4210,
          2292,
          1522,
          508,
          2714,
          437,
          1633,
          9829,
          6443,
          7724,
          384,
          3765,
          1947,
          983,
          1201,
          559,
          406,
          1247,
          643,
          58,
          30229,
          18137,
          3308,
          5510,
          860,
          2256,
          9031,
          8531,
          1218,
          5151,
          3508,
          1302,
          711,
          2726,
          2242,
          1090,
          5719,
          2353,
          728,
          794,
          989,
          5488,
          2846,
          2189,
          1886,
          3109,
          1001,
          4535,
          4980,
          1921,
          1303,
          892,
          2080,
          3410,
          2007,
          1820,
          1249,
          504,
          373,
          647,
          432,
          270,
          1882,
          1312,
          176,
          105,
          513,
          284,
          20291,
          11362,
          8805,
          6381,
          3084,
          11583,
          7137,
          5210,
          2869,
          9866,
          6776,
          3375,
          3468,
          4615,
          1846,
          3440,
          28319,
          5877,
          4886,
          4616,
          4924,
          6117,
          4664,
          8472,
          5658,
          3732,
          12025,
          8354,
          6159,
          3939,
          2602,
          981,
          662,
          5736,
          11288,
          14633,
          8283,
          7735,
          12616,
          1373,
          1594,
          346,
          396,
          5347,
          2214,
          1280,
          1338,
          6923,
          2791,
          1123,
          2353,
          337,
          2636,
          108,
          1853,
          6350,
          3930,
          1983,
          8629,
          4669,
          2331,
          3062,
          1277,
          577,
          4936,
          1960,
          1263,
          1257,
          1110,
          1463,
          1413,
          4133,
          1663,
          556,
          400,
          459,
          269,
          22542,
          3835,
          2336,
          2276,
          7228,
          2183,
          2090,
          8583,
          571,
          20154,
          2885,
          2451,
          2111,
          882,
          815,
          517,
          468,
          1984,
          574,
          232,
          1379,
          739,
          1174,
          3371,
          1833,
          15889,
          5902,
          2022,
          4759,
          2246,
          6004,
          2449,
          1800,
          1413,
          1416,
          1355,
          972,
          16809,
          6465,
          5419,
          3327,
          1713,
          2245,
          26059,
          11348,
          7658,
          10456,
          1028,
          2994,
          1309,
          943,
          2376,
          1440
         ],
         "x0": " ",
         "xaxis": "x",
         "y0": " ",
         "yaxis": "y"
        },
        {
         "alignmentgroup": "True",
         "hovertemplate": "school=Data Science<br>registered_people=%{x}<extra></extra>",
         "legendgroup": "Data Science",
         "marker": {
          "color": "#EF553B"
         },
         "name": "Data Science",
         "notched": false,
         "offsetgroup": "Data Science",
         "orientation": "h",
         "showlegend": true,
         "type": "box",
         "x": [
          57177,
          27173,
          4391,
          10077,
          7628,
          11437,
          14765,
          11699,
          2338,
          22283,
          8464,
          5215,
          4383,
          3650,
          4042,
          794,
          5312,
          2637,
          1760,
          999,
          7932,
          1559,
          2142,
          2039,
          853,
          660,
          842,
          2904,
          1363,
          1597,
          22918,
          1457,
          1577,
          5919,
          1364,
          1522,
          143,
          363,
          135,
          287,
          215,
          3133,
          2645,
          3937,
          1758,
          964,
          734,
          484,
          8240,
          366,
          868,
          1416,
          968,
          1168,
          2943,
          1023,
          1033,
          810,
          476,
          1673,
          399,
          949,
          88599,
          14499,
          7188,
          1150,
          4795,
          1670,
          1920,
          2137,
          1694,
          8449,
          8687,
          3826,
          2875,
          4057,
          3148,
          491,
          1727,
          4862,
          3834,
          1685,
          4065,
          2163,
          1194,
          814,
          601,
          909,
          4899,
          1264,
          438,
          305,
          292,
          376,
          3982,
          2033,
          6181,
          4604,
          621,
          929,
          1113,
          1187,
          377,
          30310,
          6920,
          7568,
          5327,
          5468,
          7235,
          4402,
          2573,
          1581,
          6967,
          4985,
          1102,
          779,
          463,
          7007,
          3079,
          2235,
          1735,
          2980,
          666,
          1455,
          450,
          525,
          853,
          246,
          5289,
          2021,
          2699,
          1188,
          4752,
          2373,
          4526,
          2038,
          2047,
          1323,
          3288,
          860,
          576,
          604,
          1132,
          749,
          459,
          642,
          979,
          258,
          291,
          1030,
          113,
          142,
          187,
          188,
          177,
          188,
          6058,
          15983,
          16011,
          10325,
          29870,
          12305,
          1756,
          1898,
          1100,
          5889,
          3518,
          2312,
          1988,
          4000,
          2631,
          1171,
          1754,
          1081,
          1533,
          2971,
          210,
          107,
          1737,
          11481,
          4496,
          1991,
          1193,
          1203,
          928,
          738,
          727,
          2238,
          899,
          685,
          573,
          483,
          406,
          8838,
          5586,
          4045,
          13973,
          2411,
          4511,
          4206,
          2295,
          1609,
          3290,
          2260,
          1893,
          487,
          269,
          308,
          3039,
          1500,
          1015,
          739,
          280,
          214,
          177,
          141,
          517,
          309,
          698,
          171,
          172,
          314,
          188,
          5723,
          1604,
          1321,
          878,
          535,
          2413,
          909,
          624,
          453,
          379,
          384,
          3576,
          1453,
          1250,
          1021,
          301,
          22729,
          11794,
          5348,
          4181,
          7797,
          7391,
          12883,
          2299,
          4611,
          1463,
          1137,
          1065,
          4461
         ],
         "x0": " ",
         "xaxis": "x",
         "y0": " ",
         "yaxis": "y"
        },
        {
         "alignmentgroup": "True",
         "hovertemplate": "school=Front-end<br>registered_people=%{x}<extra></extra>",
         "legendgroup": "Front-end",
         "marker": {
          "color": "#00cc96"
         },
         "name": "Front-end",
         "notched": false,
         "offsetgroup": "Front-end",
         "orientation": "h",
         "showlegend": true,
         "type": "box",
         "x": [
          27938,
          16652,
          56912,
          35635,
          29164,
          24264,
          9929,
          6380,
          4037,
          1992,
          20086,
          7084,
          4501,
          4696,
          1347,
          768,
          421,
          543,
          802,
          523,
          405,
          7176,
          3274,
          2175,
          1165,
          2560,
          17256,
          4951,
          6457,
          3427,
          3686,
          17874,
          7422,
          2684,
          4232,
          1775,
          2015,
          1048,
          6050,
          3239,
          562,
          2092,
          1238,
          578,
          522,
          3907,
          410,
          430,
          410,
          834,
          1090,
          666,
          885,
          375,
          828,
          470,
          855,
          462,
          1263,
          182,
          224,
          267,
          333,
          1252,
          1464,
          532,
          185,
          96,
          97,
          85,
          6421,
          3037,
          2279,
          1068,
          1274,
          969,
          903,
          1196,
          441,
          505,
          3875,
          2720,
          6046,
          3299,
          2119,
          2144,
          1050,
          869,
          2025,
          1127,
          453,
          807,
          415,
          271,
          91,
          10702,
          3721,
          2459,
          183,
          38637,
          45644,
          22152,
          6645,
          6103,
          7093,
          6107,
          6266,
          1537,
          2012,
          1190,
          4778,
          1588,
          41448,
          2347,
          1588,
          26857,
          14347,
          10103,
          1669,
          889,
          507,
          470,
          92,
          124,
          1884,
          12331,
          3956,
          1170
         ],
         "x0": " ",
         "xaxis": "x",
         "y0": " ",
         "yaxis": "y"
        },
        {
         "alignmentgroup": "True",
         "hovertemplate": "school=Inteligência Artificial<br>registered_people=%{x}<extra></extra>",
         "legendgroup": "Inteligência Artificial",
         "marker": {
          "color": "#ab63fa"
         },
         "name": "Inteligência Artificial",
         "notched": false,
         "offsetgroup": "Inteligência Artificial",
         "orientation": "h",
         "showlegend": true,
         "type": "box",
         "x": [
          11503,
          2529,
          9657,
          5189,
          4461,
          2375,
          1447,
          379,
          415,
          1194,
          696,
          903,
          740,
          158,
          205,
          109,
          1446,
          1017,
          490,
          224,
          474,
          660,
          2456,
          180,
          1021,
          436,
          2099,
          596,
          816,
          291,
          1140,
          144,
          127,
          240,
          236,
          173,
          2802,
          2011,
          990,
          340,
          505,
          715,
          350,
          289
         ],
         "x0": " ",
         "xaxis": "x",
         "y0": " ",
         "yaxis": "y"
        },
        {
         "alignmentgroup": "True",
         "hovertemplate": "school=UX & Design<br>registered_people=%{x}<extra></extra>",
         "legendgroup": "UX & Design",
         "marker": {
          "color": "#FFA15A"
         },
         "name": "UX & Design",
         "notched": false,
         "offsetgroup": "UX & Design",
         "orientation": "h",
         "showlegend": true,
         "type": "box",
         "x": [
          9875,
          2349,
          1477,
          3473,
          286,
          776,
          194,
          4879,
          1544,
          1079,
          1785,
          8933,
          1178,
          3788,
          3315,
          3404,
          2058,
          2655,
          598,
          1307,
          2842,
          1355,
          444,
          189,
          258,
          7652,
          836,
          754,
          1638,
          590,
          385,
          278,
          1792,
          1454,
          624,
          2920,
          1675,
          1841,
          3598,
          866,
          608,
          1615,
          3063,
          1649,
          1004,
          865,
          731,
          228,
          2530,
          1597,
          1226,
          3009,
          1845,
          1676,
          689,
          20190,
          2154,
          1016,
          374,
          312,
          1872,
          1332,
          8100,
          2981,
          1451,
          1840,
          139,
          38679,
          3299,
          2007,
          1831,
          1361,
          1041,
          517,
          1880,
          365,
          408,
          343,
          292,
          627,
          253,
          281,
          229,
          829,
          235,
          423,
          307,
          2588,
          1213,
          627,
          538,
          4276,
          1361,
          1767,
          1083,
          9277,
          3310,
          835,
          1380,
          522,
          348,
          834,
          2513,
          2235,
          567,
          2444,
          408,
          868,
          463,
          755,
          793,
          1172,
          797,
          351,
          1750,
          518,
          549,
          391,
          1270,
          1256,
          1494,
          2805,
          5480,
          6501,
          1742,
          10037,
          2514,
          3024,
          391,
          353,
          617,
          567,
          421,
          3405,
          5277,
          2104,
          2115,
          2291,
          508,
          2542,
          1556,
          981,
          842,
          447,
          833,
          430,
          1173,
          426,
          2640,
          4332,
          2844,
          10298,
          4298,
          8552,
          1494,
          1985,
          2164,
          6774,
          6830,
          15667,
          614,
          804,
          652,
          447,
          1607,
          409,
          493,
          4232,
          352,
          425,
          2959,
          3546,
          435,
          330,
          189,
          2758,
          1302,
          331,
          143,
          157,
          52,
          4801,
          1548,
          1718,
          1248,
          10802,
          1594,
          492,
          625,
          994,
          1105,
          646,
          396,
          570,
          240,
          205,
          299,
          380,
          1426,
          1672,
          505,
          495,
          330,
          499,
          5768,
          1019,
          1890,
          1854,
          752,
          860,
          2093,
          5771,
          3524,
          959,
          1482,
          1230,
          2067,
          1789,
          502,
          637,
          405,
          749,
          318,
          1955,
          995,
          2668,
          985,
          1368,
          4019,
          895,
          1139,
          676,
          1678,
          3835,
          2197
         ],
         "x0": " ",
         "xaxis": "x",
         "y0": " ",
         "yaxis": "y"
        },
        {
         "alignmentgroup": "True",
         "hovertemplate": "school=DevOps<br>registered_people=%{x}<extra></extra>",
         "legendgroup": "DevOps",
         "marker": {
          "color": "#19d3f3"
         },
         "name": "DevOps",
         "notched": false,
         "offsetgroup": "DevOps",
         "orientation": "h",
         "showlegend": true,
         "type": "box",
         "x": [
          10950,
          13219,
          4450,
          18216,
          5112,
          3435,
          904,
          720,
          664,
          772,
          4048,
          4471,
          3103,
          4630,
          1883,
          6236,
          4633,
          2284,
          6832,
          3045,
          10384,
          5997,
          6300,
          2239,
          1820,
          1711,
          1568,
          407,
          894,
          14541,
          6356,
          1441,
          1801,
          1354,
          14671,
          6557,
          1370,
          889,
          1068,
          542,
          195,
          18648,
          8752,
          3385,
          2892,
          2172,
          6761,
          1898,
          5874,
          1692,
          1290,
          524,
          1158,
          395,
          391,
          16429,
          9832,
          12382,
          3155,
          3491,
          2206,
          2400,
          1679,
          1224,
          4411,
          1718,
          1301,
          1123,
          934,
          2530,
          1544,
          4206,
          17841,
          9124,
          6296,
          5530,
          771,
          5773,
          2931,
          2223,
          204,
          9614,
          6262,
          6353,
          4241,
          3999,
          2184,
          14071,
          2601,
          1542,
          2194,
          8929,
          3140,
          1687,
          675,
          465,
          193,
          194,
          31706,
          20548,
          12173,
          1368,
          1019,
          2401,
          1253,
          13952,
          8559,
          1967,
          1470,
          1148,
          1644,
          2253,
          19124,
          6299,
          4459,
          3661,
          814,
          7869,
          7174,
          2576,
          1068,
          922,
          2486,
          6613,
          2499,
          10131,
          4156,
          5521
         ],
         "x0": " ",
         "xaxis": "x",
         "y0": " ",
         "yaxis": "y"
        },
        {
         "alignmentgroup": "True",
         "hovertemplate": "school=Inovação & Gestão<br>registered_people=%{x}<extra></extra>",
         "legendgroup": "Inovação & Gestão",
         "marker": {
          "color": "#FF6692"
         },
         "name": "Inovação & Gestão",
         "notched": false,
         "offsetgroup": "Inovação & Gestão",
         "orientation": "h",
         "showlegend": true,
         "type": "box",
         "x": [
          5848,
          11403,
          1279,
          2311,
          1494,
          11438,
          27533,
          2235,
          3623,
          14930,
          1919,
          2100,
          1049,
          615,
          769,
          594,
          1397,
          590,
          378,
          296,
          285,
          7296,
          951,
          3037,
          10819,
          1851,
          1455,
          2221,
          873,
          54863,
          66922,
          11276,
          16707,
          7321,
          4684,
          15295,
          5154,
          4367,
          3718,
          3253,
          3156,
          2829,
          2680,
          2900,
          2349,
          2257,
          2360,
          1933,
          279,
          107,
          139,
          15326,
          5919,
          26485,
          35615,
          4095,
          14493,
          21436,
          49211,
          1458,
          2332,
          8515,
          6618,
          13663,
          11652,
          42314,
          2113,
          1248,
          2193,
          7910,
          923,
          387,
          294,
          217,
          1183,
          2508,
          1133,
          1266,
          987,
          767,
          850,
          902,
          11470,
          5049,
          4708,
          1888,
          1342,
          6157,
          4113,
          2748,
          3578,
          2851,
          1790,
          28773,
          15980,
          6474,
          9435,
          3155,
          2635,
          3383,
          2626,
          3691,
          1995,
          5051,
          5910,
          2631,
          1694,
          7879,
          3551,
          372,
          84,
          6647,
          2542,
          2812,
          946,
          1236,
          1496,
          1069,
          524,
          674,
          14824,
          1326,
          874,
          69215,
          3676,
          2766,
          93768,
          74631,
          9270,
          23460,
          11659,
          10783,
          796,
          1239,
          4046,
          41203,
          21662,
          9672,
          19424,
          22746,
          9334,
          19532,
          10894,
          7551,
          4057,
          31245,
          3995,
          5127,
          23590,
          5502,
          17359,
          10323,
          8038,
          46613,
          19656,
          74648,
          15394,
          9416,
          5954,
          3523,
          7708,
          8054,
          3751,
          2177,
          4112,
          1232,
          2644,
          8238,
          3084,
          4425,
          3448,
          5073,
          3641,
          1551,
          2754,
          2546,
          2106,
          137,
          1289,
          6308,
          896,
          1604,
          1373,
          1106,
          506,
          2111,
          84675,
          2656,
          1823,
          1980,
          1059,
          1349,
          731,
          5609,
          1373,
          960,
          733,
          507,
          629,
          10683,
          4896,
          1396,
          615,
          517,
          1396,
          742,
          1713,
          7307,
          5124,
          2825,
          1721,
          23865,
          12993,
          3806,
          8339,
          7331,
          1474,
          37743,
          15519,
          2644,
          1984,
          14962,
          1450,
          4569,
          14852,
          1420,
          10475,
          2766,
          5371,
          3364,
          985,
          2112,
          9030,
          1919,
          1714,
          1591,
          877,
          700,
          7917,
          10141,
          6556,
          2833,
          3532,
          4849,
          14598,
          16370,
          7768,
          2226,
          1367,
          1490,
          25074,
          25983,
          12461,
          876,
          1359,
          2553,
          1178,
          634,
          2102,
          1100,
          1587,
          1487,
          853,
          487,
          539,
          5048,
          7802,
          2001,
          1374,
          1127,
          1218,
          1043,
          882,
          1245,
          935,
          720,
          484,
          62468,
          25586,
          30341,
          31647,
          59394,
          32567,
          10011,
          48770,
          16977,
          35137,
          24382,
          8344,
          5132,
          2052
         ],
         "x0": " ",
         "xaxis": "x",
         "y0": " ",
         "yaxis": "y"
        },
        {
         "alignmentgroup": "True",
         "hovertemplate": "school=Mobile<br>registered_people=%{x}<extra></extra>",
         "legendgroup": "Mobile",
         "marker": {
          "color": "#B6E880"
         },
         "name": "Mobile",
         "notched": false,
         "offsetgroup": "Mobile",
         "orientation": "h",
         "showlegend": true,
         "type": "box",
         "x": [
          6163,
          2135,
          1517,
          3112,
          1331,
          1103,
          457,
          898,
          395,
          346,
          1602,
          600,
          369,
          164,
          120,
          167,
          142,
          76,
          79,
          7696,
          3223,
          22806,
          1410,
          5877,
          3925,
          1028,
          2532,
          1641,
          1571,
          1118,
          8346,
          3223,
          2108,
          1759,
          1046,
          1027,
          1299,
          831,
          481,
          466,
          354,
          534,
          729,
          291,
          418,
          266,
          137,
          241,
          203,
          133,
          92,
          105,
          113,
          9198,
          4873,
          2308,
          2911,
          1821,
          23902,
          5360,
          3765,
          1519,
          6462,
          1129,
          687,
          882,
          623,
          459,
          2557,
          1733,
          5164,
          2278,
          2073,
          1831,
          1168,
          4871,
          2978,
          1286,
          877,
          2608,
          770,
          3023,
          2197,
          1571,
          3149,
          874,
          1364,
          687,
          564,
          280,
          411,
          1191,
          704,
          429,
          371,
          468,
          378,
          185,
          158,
          146,
          182,
          141,
          132,
          2295,
          964,
          122,
          87,
          988,
          636,
          521,
          601,
          1055,
          1563,
          1021,
          197,
          505,
          227,
          328,
          163,
          117,
          234,
          168,
          127,
          117,
          111,
          3608,
          1122,
          1349
         ],
         "x0": " ",
         "xaxis": "x",
         "y0": " ",
         "yaxis": "y"
        }
       ],
       "layout": {
        "boxmode": "group",
        "legend": {
         "title": {
          "text": "school"
         },
         "tracegroupgap": 0
        },
        "margin": {
         "t": 60
        },
        "template": {
         "data": {
          "bar": [
           {
            "error_x": {
             "color": "#f2f5fa"
            },
            "error_y": {
             "color": "#f2f5fa"
            },
            "marker": {
             "line": {
              "color": "rgb(17,17,17)",
              "width": 0.5
             },
             "pattern": {
              "fillmode": "overlay",
              "size": 10,
              "solidity": 0.2
             }
            },
            "type": "bar"
           }
          ],
          "barpolar": [
           {
            "marker": {
             "line": {
              "color": "rgb(17,17,17)",
              "width": 0.5
             },
             "pattern": {
              "fillmode": "overlay",
              "size": 10,
              "solidity": 0.2
             }
            },
            "type": "barpolar"
           }
          ],
          "carpet": [
           {
            "aaxis": {
             "endlinecolor": "#A2B1C6",
             "gridcolor": "#506784",
             "linecolor": "#506784",
             "minorgridcolor": "#506784",
             "startlinecolor": "#A2B1C6"
            },
            "baxis": {
             "endlinecolor": "#A2B1C6",
             "gridcolor": "#506784",
             "linecolor": "#506784",
             "minorgridcolor": "#506784",
             "startlinecolor": "#A2B1C6"
            },
            "type": "carpet"
           }
          ],
          "choropleth": [
           {
            "colorbar": {
             "outlinewidth": 0,
             "ticks": ""
            },
            "type": "choropleth"
           }
          ],
          "contour": [
           {
            "colorbar": {
             "outlinewidth": 0,
             "ticks": ""
            },
            "colorscale": [
             [
              0,
              "#0d0887"
             ],
             [
              0.1111111111111111,
              "#46039f"
             ],
             [
              0.2222222222222222,
              "#7201a8"
             ],
             [
              0.3333333333333333,
              "#9c179e"
             ],
             [
              0.4444444444444444,
              "#bd3786"
             ],
             [
              0.5555555555555556,
              "#d8576b"
             ],
             [
              0.6666666666666666,
              "#ed7953"
             ],
             [
              0.7777777777777778,
              "#fb9f3a"
             ],
             [
              0.8888888888888888,
              "#fdca26"
             ],
             [
              1,
              "#f0f921"
             ]
            ],
            "type": "contour"
           }
          ],
          "contourcarpet": [
           {
            "colorbar": {
             "outlinewidth": 0,
             "ticks": ""
            },
            "type": "contourcarpet"
           }
          ],
          "heatmap": [
           {
            "colorbar": {
             "outlinewidth": 0,
             "ticks": ""
            },
            "colorscale": [
             [
              0,
              "#0d0887"
             ],
             [
              0.1111111111111111,
              "#46039f"
             ],
             [
              0.2222222222222222,
              "#7201a8"
             ],
             [
              0.3333333333333333,
              "#9c179e"
             ],
             [
              0.4444444444444444,
              "#bd3786"
             ],
             [
              0.5555555555555556,
              "#d8576b"
             ],
             [
              0.6666666666666666,
              "#ed7953"
             ],
             [
              0.7777777777777778,
              "#fb9f3a"
             ],
             [
              0.8888888888888888,
              "#fdca26"
             ],
             [
              1,
              "#f0f921"
             ]
            ],
            "type": "heatmap"
           }
          ],
          "heatmapgl": [
           {
            "colorbar": {
             "outlinewidth": 0,
             "ticks": ""
            },
            "colorscale": [
             [
              0,
              "#0d0887"
             ],
             [
              0.1111111111111111,
              "#46039f"
             ],
             [
              0.2222222222222222,
              "#7201a8"
             ],
             [
              0.3333333333333333,
              "#9c179e"
             ],
             [
              0.4444444444444444,
              "#bd3786"
             ],
             [
              0.5555555555555556,
              "#d8576b"
             ],
             [
              0.6666666666666666,
              "#ed7953"
             ],
             [
              0.7777777777777778,
              "#fb9f3a"
             ],
             [
              0.8888888888888888,
              "#fdca26"
             ],
             [
              1,
              "#f0f921"
             ]
            ],
            "type": "heatmapgl"
           }
          ],
          "histogram": [
           {
            "marker": {
             "pattern": {
              "fillmode": "overlay",
              "size": 10,
              "solidity": 0.2
             }
            },
            "type": "histogram"
           }
          ],
          "histogram2d": [
           {
            "colorbar": {
             "outlinewidth": 0,
             "ticks": ""
            },
            "colorscale": [
             [
              0,
              "#0d0887"
             ],
             [
              0.1111111111111111,
              "#46039f"
             ],
             [
              0.2222222222222222,
              "#7201a8"
             ],
             [
              0.3333333333333333,
              "#9c179e"
             ],
             [
              0.4444444444444444,
              "#bd3786"
             ],
             [
              0.5555555555555556,
              "#d8576b"
             ],
             [
              0.6666666666666666,
              "#ed7953"
             ],
             [
              0.7777777777777778,
              "#fb9f3a"
             ],
             [
              0.8888888888888888,
              "#fdca26"
             ],
             [
              1,
              "#f0f921"
             ]
            ],
            "type": "histogram2d"
           }
          ],
          "histogram2dcontour": [
           {
            "colorbar": {
             "outlinewidth": 0,
             "ticks": ""
            },
            "colorscale": [
             [
              0,
              "#0d0887"
             ],
             [
              0.1111111111111111,
              "#46039f"
             ],
             [
              0.2222222222222222,
              "#7201a8"
             ],
             [
              0.3333333333333333,
              "#9c179e"
             ],
             [
              0.4444444444444444,
              "#bd3786"
             ],
             [
              0.5555555555555556,
              "#d8576b"
             ],
             [
              0.6666666666666666,
              "#ed7953"
             ],
             [
              0.7777777777777778,
              "#fb9f3a"
             ],
             [
              0.8888888888888888,
              "#fdca26"
             ],
             [
              1,
              "#f0f921"
             ]
            ],
            "type": "histogram2dcontour"
           }
          ],
          "mesh3d": [
           {
            "colorbar": {
             "outlinewidth": 0,
             "ticks": ""
            },
            "type": "mesh3d"
           }
          ],
          "parcoords": [
           {
            "line": {
             "colorbar": {
              "outlinewidth": 0,
              "ticks": ""
             }
            },
            "type": "parcoords"
           }
          ],
          "pie": [
           {
            "automargin": true,
            "type": "pie"
           }
          ],
          "scatter": [
           {
            "marker": {
             "line": {
              "color": "#283442"
             }
            },
            "type": "scatter"
           }
          ],
          "scatter3d": [
           {
            "line": {
             "colorbar": {
              "outlinewidth": 0,
              "ticks": ""
             }
            },
            "marker": {
             "colorbar": {
              "outlinewidth": 0,
              "ticks": ""
             }
            },
            "type": "scatter3d"
           }
          ],
          "scattercarpet": [
           {
            "marker": {
             "colorbar": {
              "outlinewidth": 0,
              "ticks": ""
             }
            },
            "type": "scattercarpet"
           }
          ],
          "scattergeo": [
           {
            "marker": {
             "colorbar": {
              "outlinewidth": 0,
              "ticks": ""
             }
            },
            "type": "scattergeo"
           }
          ],
          "scattergl": [
           {
            "marker": {
             "line": {
              "color": "#283442"
             }
            },
            "type": "scattergl"
           }
          ],
          "scattermapbox": [
           {
            "marker": {
             "colorbar": {
              "outlinewidth": 0,
              "ticks": ""
             }
            },
            "type": "scattermapbox"
           }
          ],
          "scatterpolar": [
           {
            "marker": {
             "colorbar": {
              "outlinewidth": 0,
              "ticks": ""
             }
            },
            "type": "scatterpolar"
           }
          ],
          "scatterpolargl": [
           {
            "marker": {
             "colorbar": {
              "outlinewidth": 0,
              "ticks": ""
             }
            },
            "type": "scatterpolargl"
           }
          ],
          "scatterternary": [
           {
            "marker": {
             "colorbar": {
              "outlinewidth": 0,
              "ticks": ""
             }
            },
            "type": "scatterternary"
           }
          ],
          "surface": [
           {
            "colorbar": {
             "outlinewidth": 0,
             "ticks": ""
            },
            "colorscale": [
             [
              0,
              "#0d0887"
             ],
             [
              0.1111111111111111,
              "#46039f"
             ],
             [
              0.2222222222222222,
              "#7201a8"
             ],
             [
              0.3333333333333333,
              "#9c179e"
             ],
             [
              0.4444444444444444,
              "#bd3786"
             ],
             [
              0.5555555555555556,
              "#d8576b"
             ],
             [
              0.6666666666666666,
              "#ed7953"
             ],
             [
              0.7777777777777778,
              "#fb9f3a"
             ],
             [
              0.8888888888888888,
              "#fdca26"
             ],
             [
              1,
              "#f0f921"
             ]
            ],
            "type": "surface"
           }
          ],
          "table": [
           {
            "cells": {
             "fill": {
              "color": "#506784"
             },
             "line": {
              "color": "rgb(17,17,17)"
             }
            },
            "header": {
             "fill": {
              "color": "#2a3f5f"
             },
             "line": {
              "color": "rgb(17,17,17)"
             }
            },
            "type": "table"
           }
          ]
         },
         "layout": {
          "annotationdefaults": {
           "arrowcolor": "#f2f5fa",
           "arrowhead": 0,
           "arrowwidth": 1
          },
          "autotypenumbers": "strict",
          "coloraxis": {
           "colorbar": {
            "outlinewidth": 0,
            "ticks": ""
           }
          },
          "colorscale": {
           "diverging": [
            [
             0,
             "#8e0152"
            ],
            [
             0.1,
             "#c51b7d"
            ],
            [
             0.2,
             "#de77ae"
            ],
            [
             0.3,
             "#f1b6da"
            ],
            [
             0.4,
             "#fde0ef"
            ],
            [
             0.5,
             "#f7f7f7"
            ],
            [
             0.6,
             "#e6f5d0"
            ],
            [
             0.7,
             "#b8e186"
            ],
            [
             0.8,
             "#7fbc41"
            ],
            [
             0.9,
             "#4d9221"
            ],
            [
             1,
             "#276419"
            ]
           ],
           "sequential": [
            [
             0,
             "#0d0887"
            ],
            [
             0.1111111111111111,
             "#46039f"
            ],
            [
             0.2222222222222222,
             "#7201a8"
            ],
            [
             0.3333333333333333,
             "#9c179e"
            ],
            [
             0.4444444444444444,
             "#bd3786"
            ],
            [
             0.5555555555555556,
             "#d8576b"
            ],
            [
             0.6666666666666666,
             "#ed7953"
            ],
            [
             0.7777777777777778,
             "#fb9f3a"
            ],
            [
             0.8888888888888888,
             "#fdca26"
            ],
            [
             1,
             "#f0f921"
            ]
           ],
           "sequentialminus": [
            [
             0,
             "#0d0887"
            ],
            [
             0.1111111111111111,
             "#46039f"
            ],
            [
             0.2222222222222222,
             "#7201a8"
            ],
            [
             0.3333333333333333,
             "#9c179e"
            ],
            [
             0.4444444444444444,
             "#bd3786"
            ],
            [
             0.5555555555555556,
             "#d8576b"
            ],
            [
             0.6666666666666666,
             "#ed7953"
            ],
            [
             0.7777777777777778,
             "#fb9f3a"
            ],
            [
             0.8888888888888888,
             "#fdca26"
            ],
            [
             1,
             "#f0f921"
            ]
           ]
          },
          "colorway": [
           "#636efa",
           "#EF553B",
           "#00cc96",
           "#ab63fa",
           "#FFA15A",
           "#19d3f3",
           "#FF6692",
           "#B6E880",
           "#FF97FF",
           "#FECB52"
          ],
          "font": {
           "color": "#f2f5fa"
          },
          "geo": {
           "bgcolor": "rgb(17,17,17)",
           "lakecolor": "rgb(17,17,17)",
           "landcolor": "rgb(17,17,17)",
           "showlakes": true,
           "showland": true,
           "subunitcolor": "#506784"
          },
          "hoverlabel": {
           "align": "left"
          },
          "hovermode": "closest",
          "mapbox": {
           "style": "dark"
          },
          "paper_bgcolor": "rgb(17,17,17)",
          "plot_bgcolor": "rgb(17,17,17)",
          "polar": {
           "angularaxis": {
            "gridcolor": "#506784",
            "linecolor": "#506784",
            "ticks": ""
           },
           "bgcolor": "rgb(17,17,17)",
           "radialaxis": {
            "gridcolor": "#506784",
            "linecolor": "#506784",
            "ticks": ""
           }
          },
          "scene": {
           "xaxis": {
            "backgroundcolor": "rgb(17,17,17)",
            "gridcolor": "#506784",
            "gridwidth": 2,
            "linecolor": "#506784",
            "showbackground": true,
            "ticks": "",
            "zerolinecolor": "#C8D4E3"
           },
           "yaxis": {
            "backgroundcolor": "rgb(17,17,17)",
            "gridcolor": "#506784",
            "gridwidth": 2,
            "linecolor": "#506784",
            "showbackground": true,
            "ticks": "",
            "zerolinecolor": "#C8D4E3"
           },
           "zaxis": {
            "backgroundcolor": "rgb(17,17,17)",
            "gridcolor": "#506784",
            "gridwidth": 2,
            "linecolor": "#506784",
            "showbackground": true,
            "ticks": "",
            "zerolinecolor": "#C8D4E3"
           }
          },
          "shapedefaults": {
           "line": {
            "color": "#f2f5fa"
           }
          },
          "sliderdefaults": {
           "bgcolor": "#C8D4E3",
           "bordercolor": "rgb(17,17,17)",
           "borderwidth": 1,
           "tickwidth": 0
          },
          "ternary": {
           "aaxis": {
            "gridcolor": "#506784",
            "linecolor": "#506784",
            "ticks": ""
           },
           "baxis": {
            "gridcolor": "#506784",
            "linecolor": "#506784",
            "ticks": ""
           },
           "bgcolor": "rgb(17,17,17)",
           "caxis": {
            "gridcolor": "#506784",
            "linecolor": "#506784",
            "ticks": ""
           }
          },
          "title": {
           "x": 0.05
          },
          "updatemenudefaults": {
           "bgcolor": "#506784",
           "borderwidth": 0
          },
          "xaxis": {
           "automargin": true,
           "gridcolor": "#283442",
           "linecolor": "#506784",
           "ticks": "",
           "title": {
            "standoff": 15
           },
           "zerolinecolor": "#283442",
           "zerolinewidth": 2
          },
          "yaxis": {
           "automargin": true,
           "gridcolor": "#283442",
           "linecolor": "#506784",
           "ticks": "",
           "title": {
            "standoff": 15
           },
           "zerolinecolor": "#283442",
           "zerolinewidth": 2
          }
         }
        },
        "xaxis": {
         "anchor": "y",
         "domain": [
          0,
          1
         ],
         "title": {
          "text": "registered_people"
         }
        },
        "yaxis": {
         "anchor": "x",
         "domain": [
          0,
          1
         ]
        }
       }
      }
     },
     "metadata": {},
     "output_type": "display_data"
    }
   ],
   "source": [
    "px.box(df, x='registered_people', color='school')"
   ]
  },
  {
   "cell_type": "markdown",
   "metadata": {},
   "source": [
    "## Top 10 cursos com mais matrículas"
   ]
  },
  {
   "cell_type": "code",
   "execution_count": 14,
   "metadata": {},
   "outputs": [],
   "source": [
    "pd.set_option('display.max_colwidth', None)"
   ]
  },
  {
   "cell_type": "code",
   "execution_count": 15,
   "metadata": {},
   "outputs": [
    {
     "data": {
      "text/html": [
       "<style type=\"text/css\">\n",
       "#T_f793a_row1_col0, #T_f793a_row1_col1, #T_f793a_row1_col2, #T_f793a_row1_col3, #T_f793a_row1_col4, #T_f793a_row3_col0, #T_f793a_row3_col1, #T_f793a_row3_col2, #T_f793a_row3_col3, #T_f793a_row3_col4, #T_f793a_row4_col0, #T_f793a_row4_col1, #T_f793a_row4_col2, #T_f793a_row4_col3, #T_f793a_row4_col4, #T_f793a_row5_col0, #T_f793a_row5_col1, #T_f793a_row5_col2, #T_f793a_row5_col3, #T_f793a_row5_col4, #T_f793a_row6_col0, #T_f793a_row6_col1, #T_f793a_row6_col2, #T_f793a_row6_col3, #T_f793a_row6_col4, #T_f793a_row7_col0, #T_f793a_row7_col1, #T_f793a_row7_col2, #T_f793a_row7_col3, #T_f793a_row7_col4, #T_f793a_row9_col0, #T_f793a_row9_col1, #T_f793a_row9_col2, #T_f793a_row9_col3, #T_f793a_row9_col4 {\n",
       "  background-color: rgba(0, 255, 0, 0.1);\n",
       "}\n",
       "</style>\n",
       "<table id=\"T_f793a\">\n",
       "  <thead>\n",
       "    <tr>\n",
       "      <th class=\"blank level0\" >&nbsp;</th>\n",
       "      <th id=\"T_f793a_level0_col0\" class=\"col_heading level0 col0\" >title</th>\n",
       "      <th id=\"T_f793a_level0_col1\" class=\"col_heading level0 col1\" >workload</th>\n",
       "      <th id=\"T_f793a_level0_col2\" class=\"col_heading level0 col2\" >school</th>\n",
       "      <th id=\"T_f793a_level0_col3\" class=\"col_heading level0 col3\" >registered_people</th>\n",
       "      <th id=\"T_f793a_level0_col4\" class=\"col_heading level0 col4\" >rating</th>\n",
       "    </tr>\n",
       "  </thead>\n",
       "  <tbody>\n",
       "    <tr>\n",
       "      <th id=\"T_f793a_level0_row0\" class=\"row_heading level0 row0\" >0</th>\n",
       "      <td id=\"T_f793a_row0_col0\" class=\"data row0 col0\" >Curso JavaScript e HTML: desenvolva um jogo e pratique lógica de programação</td>\n",
       "      <td id=\"T_f793a_row0_col1\" class=\"data row0 col1\" >16</td>\n",
       "      <td id=\"T_f793a_row0_col2\" class=\"data row0 col2\" >Programação</td>\n",
       "      <td id=\"T_f793a_row0_col3\" class=\"data row0 col3\" >167775</td>\n",
       "      <td id=\"T_f793a_row0_col4\" class=\"data row0 col4\" >9.500000</td>\n",
       "    </tr>\n",
       "    <tr>\n",
       "      <th id=\"T_f793a_level0_row1\" class=\"row_heading level0 row1\" >1147</th>\n",
       "      <td id=\"T_f793a_row1_col0\" class=\"data row1 col0\" >Curso Comunicação não violenta: consciência para agir</td>\n",
       "      <td id=\"T_f793a_row1_col1\" class=\"data row1 col1\" >8</td>\n",
       "      <td id=\"T_f793a_row1_col2\" class=\"data row1 col2\" >Inovação & Gestão</td>\n",
       "      <td id=\"T_f793a_row1_col3\" class=\"data row1 col3\" >93768</td>\n",
       "      <td id=\"T_f793a_row1_col4\" class=\"data row1 col4\" >9.300000</td>\n",
       "    </tr>\n",
       "    <tr>\n",
       "      <th id=\"T_f793a_level0_row2\" class=\"row_heading level0 row2\" >296</th>\n",
       "      <td id=\"T_f793a_row2_col0\" class=\"data row2 col0\" >Curso Data Science: analise e visualização de dados</td>\n",
       "      <td id=\"T_f793a_row2_col1\" class=\"data row2 col1\" >6</td>\n",
       "      <td id=\"T_f793a_row2_col2\" class=\"data row2 col2\" >Data Science</td>\n",
       "      <td id=\"T_f793a_row2_col3\" class=\"data row2 col3\" >88599</td>\n",
       "      <td id=\"T_f793a_row2_col4\" class=\"data row2 col4\" >9.200000</td>\n",
       "    </tr>\n",
       "    <tr>\n",
       "      <th id=\"T_f793a_level0_row3\" class=\"row_heading level0 row3\" >1207</th>\n",
       "      <td id=\"T_f793a_row3_col0\" class=\"data row3 col0\" >Curso Aprender a aprender: técnicas para seu autodesenvolvimento</td>\n",
       "      <td id=\"T_f793a_row3_col1\" class=\"data row3 col1\" >8</td>\n",
       "      <td id=\"T_f793a_row3_col2\" class=\"data row3 col2\" >Inovação & Gestão</td>\n",
       "      <td id=\"T_f793a_row3_col3\" class=\"data row3 col3\" >84675</td>\n",
       "      <td id=\"T_f793a_row3_col4\" class=\"data row3 col4\" >9.400000</td>\n",
       "    </tr>\n",
       "    <tr>\n",
       "      <th id=\"T_f793a_level0_row4\" class=\"row_heading level0 row4\" >1176</th>\n",
       "      <td id=\"T_f793a_row4_col0\" class=\"data row4 col0\" >Curso Comunicação assertiva: reduzindo conflitos e frustrações</td>\n",
       "      <td id=\"T_f793a_row4_col1\" class=\"data row4 col1\" >6</td>\n",
       "      <td id=\"T_f793a_row4_col2\" class=\"data row4 col2\" >Inovação & Gestão</td>\n",
       "      <td id=\"T_f793a_row4_col3\" class=\"data row4 col3\" >74648</td>\n",
       "      <td id=\"T_f793a_row4_col4\" class=\"data row4 col4\" >9.300000</td>\n",
       "    </tr>\n",
       "    <tr>\n",
       "      <th id=\"T_f793a_level0_row5\" class=\"row_heading level0 row5\" >1148</th>\n",
       "      <td id=\"T_f793a_row5_col0\" class=\"data row5 col0\" >Curso Comunicação não violenta parte 2: mantendo a empatia</td>\n",
       "      <td id=\"T_f793a_row5_col1\" class=\"data row5 col1\" >4</td>\n",
       "      <td id=\"T_f793a_row5_col2\" class=\"data row5 col2\" >Inovação & Gestão</td>\n",
       "      <td id=\"T_f793a_row5_col3\" class=\"data row5 col3\" >74631</td>\n",
       "      <td id=\"T_f793a_row5_col4\" class=\"data row5 col4\" >9.300000</td>\n",
       "    </tr>\n",
       "    <tr>\n",
       "      <th id=\"T_f793a_level0_row6\" class=\"row_heading level0 row6\" >1144</th>\n",
       "      <td id=\"T_f793a_row6_col0\" class=\"data row6 col0\" >Curso Feedback: a arte de orientar e ser orientado com sentido</td>\n",
       "      <td id=\"T_f793a_row6_col1\" class=\"data row6 col1\" >5</td>\n",
       "      <td id=\"T_f793a_row6_col2\" class=\"data row6 col2\" >Inovação & Gestão</td>\n",
       "      <td id=\"T_f793a_row6_col3\" class=\"data row6 col3\" >69215</td>\n",
       "      <td id=\"T_f793a_row6_col4\" class=\"data row6 col4\" >9.400000</td>\n",
       "    </tr>\n",
       "    <tr>\n",
       "      <th id=\"T_f793a_level0_row7\" class=\"row_heading level0 row7\" >1051</th>\n",
       "      <td id=\"T_f793a_row7_col0\" class=\"data row7 col0\" >Curso Gestão Ágil: liderando a mudança em um ambiente de agilidade</td>\n",
       "      <td id=\"T_f793a_row7_col1\" class=\"data row7 col1\" >6</td>\n",
       "      <td id=\"T_f793a_row7_col2\" class=\"data row7 col2\" >Inovação & Gestão</td>\n",
       "      <td id=\"T_f793a_row7_col3\" class=\"data row7 col3\" >66922</td>\n",
       "      <td id=\"T_f793a_row7_col4\" class=\"data row7 col4\" >9.400000</td>\n",
       "    </tr>\n",
       "    <tr>\n",
       "      <th id=\"T_f793a_level0_row8\" class=\"row_heading level0 row8\" >1</th>\n",
       "      <td id=\"T_f793a_row8_col0\" class=\"data row8 col0\" >Curso JavaScript e HTML: pratique lógica com desenhos, animações e um jogo</td>\n",
       "      <td id=\"T_f793a_row8_col1\" class=\"data row8 col1\" >10</td>\n",
       "      <td id=\"T_f793a_row8_col2\" class=\"data row8 col2\" >Programação</td>\n",
       "      <td id=\"T_f793a_row8_col3\" class=\"data row8 col3\" >63513</td>\n",
       "      <td id=\"T_f793a_row8_col4\" class=\"data row8 col4\" >9.300000</td>\n",
       "    </tr>\n",
       "    <tr>\n",
       "      <th id=\"T_f793a_level0_row9\" class=\"row_heading level0 row9\" >1298</th>\n",
       "      <td id=\"T_f793a_row9_col0\" class=\"data row9 col0\" >Curso Vendas de alta performance: vendas na era digital</td>\n",
       "      <td id=\"T_f793a_row9_col1\" class=\"data row9 col1\" >8</td>\n",
       "      <td id=\"T_f793a_row9_col2\" class=\"data row9 col2\" >Inovação & Gestão</td>\n",
       "      <td id=\"T_f793a_row9_col3\" class=\"data row9 col3\" >62468</td>\n",
       "      <td id=\"T_f793a_row9_col4\" class=\"data row9 col4\" >9.300000</td>\n",
       "    </tr>\n",
       "  </tbody>\n",
       "</table>\n"
      ],
      "text/plain": [
       "<pandas.io.formats.style.Styler at 0x7fe9bd484910>"
      ]
     },
     "execution_count": 15,
     "metadata": {},
     "output_type": "execute_result"
    }
   ],
   "source": [
    "df[['title', 'workload', 'school', 'registered_people', 'rating']].sort_values(by='registered_people', ascending=False).head(10).style.apply(lambda x: ['background-color: rgba(0, 255, 0, 0.1)' if x.school == 'Inovação & Gestão' else '']*5, axis=1)"
   ]
  },
  {
   "cell_type": "markdown",
   "metadata": {},
   "source": [
    "## Top 10 cursos com as melhores avaliações"
   ]
  },
  {
   "cell_type": "code",
   "execution_count": 16,
   "metadata": {},
   "outputs": [
    {
     "data": {
      "text/html": [
       "<div>\n",
       "<style scoped>\n",
       "    .dataframe tbody tr th:only-of-type {\n",
       "        vertical-align: middle;\n",
       "    }\n",
       "\n",
       "    .dataframe tbody tr th {\n",
       "        vertical-align: top;\n",
       "    }\n",
       "\n",
       "    .dataframe thead th {\n",
       "        text-align: right;\n",
       "    }\n",
       "</style>\n",
       "<table border=\"1\" class=\"dataframe\">\n",
       "  <thead>\n",
       "    <tr style=\"text-align: right;\">\n",
       "      <th></th>\n",
       "      <th>title</th>\n",
       "      <th>workload</th>\n",
       "      <th>school</th>\n",
       "      <th>registered_people</th>\n",
       "      <th>rating</th>\n",
       "    </tr>\n",
       "  </thead>\n",
       "  <tbody>\n",
       "    <tr>\n",
       "      <th>490</th>\n",
       "      <td>Curso HTML e CSS: cabeçalho, footer e variáveis CSS</td>\n",
       "      <td>6</td>\n",
       "      <td>Front-end</td>\n",
       "      <td>29164</td>\n",
       "      <td>9.7</td>\n",
       "    </tr>\n",
       "    <tr>\n",
       "      <th>491</th>\n",
       "      <td>Curso HTML e CSS: trabalhando com responsividade e publicação de projetos</td>\n",
       "      <td>6</td>\n",
       "      <td>Front-end</td>\n",
       "      <td>24264</td>\n",
       "      <td>9.7</td>\n",
       "    </tr>\n",
       "    <tr>\n",
       "      <th>489</th>\n",
       "      <td>Curso HTML e CSS: Classes, posicionamento e Flexbox</td>\n",
       "      <td>8</td>\n",
       "      <td>Front-end</td>\n",
       "      <td>35635</td>\n",
       "      <td>9.6</td>\n",
       "    </tr>\n",
       "    <tr>\n",
       "      <th>2</th>\n",
       "      <td>Curso Lógica de programação: mergulhe em programação com JavaScript</td>\n",
       "      <td>6</td>\n",
       "      <td>Programação</td>\n",
       "      <td>35378</td>\n",
       "      <td>9.6</td>\n",
       "    </tr>\n",
       "    <tr>\n",
       "      <th>3</th>\n",
       "      <td>Curso Lógica de programação: explore funções e listas</td>\n",
       "      <td>6</td>\n",
       "      <td>Programação</td>\n",
       "      <td>18258</td>\n",
       "      <td>9.6</td>\n",
       "    </tr>\n",
       "    <tr>\n",
       "      <th>517</th>\n",
       "      <td>Curso React: desenvolvendo com JavaScript</td>\n",
       "      <td>14</td>\n",
       "      <td>Front-end</td>\n",
       "      <td>17874</td>\n",
       "      <td>9.6</td>\n",
       "    </tr>\n",
       "    <tr>\n",
       "      <th>817</th>\n",
       "      <td>Curso Produção de vídeo: o que há por trás do mundo do audiovisual</td>\n",
       "      <td>10</td>\n",
       "      <td>UX &amp; Design</td>\n",
       "      <td>15667</td>\n",
       "      <td>9.6</td>\n",
       "    </tr>\n",
       "    <tr>\n",
       "      <th>139</th>\n",
       "      <td>Curso Spring Boot 3: desenvolva uma API Rest em Java</td>\n",
       "      <td>10</td>\n",
       "      <td>Programação</td>\n",
       "      <td>14633</td>\n",
       "      <td>9.6</td>\n",
       "    </tr>\n",
       "    <tr>\n",
       "      <th>430</th>\n",
       "      <td>Curso Power BI Desktop: construindo meu primeiro dashboard</td>\n",
       "      <td>8</td>\n",
       "      <td>Data Science</td>\n",
       "      <td>13973</td>\n",
       "      <td>9.6</td>\n",
       "    </tr>\n",
       "    <tr>\n",
       "      <th>395</th>\n",
       "      <td>Curso Excel: domine o editor de planilhas</td>\n",
       "      <td>8</td>\n",
       "      <td>Data Science</td>\n",
       "      <td>12305</td>\n",
       "      <td>9.6</td>\n",
       "    </tr>\n",
       "  </tbody>\n",
       "</table>\n",
       "</div>"
      ],
      "text/plain": [
       "                                                                         title  \\\n",
       "490                        Curso HTML e CSS: cabeçalho, footer e variáveis CSS   \n",
       "491  Curso HTML e CSS: trabalhando com responsividade e publicação de projetos   \n",
       "489                        Curso HTML e CSS: Classes, posicionamento e Flexbox   \n",
       "2          Curso Lógica de programação: mergulhe em programação com JavaScript   \n",
       "3                        Curso Lógica de programação: explore funções e listas   \n",
       "517                                  Curso React: desenvolvendo com JavaScript   \n",
       "817         Curso Produção de vídeo: o que há por trás do mundo do audiovisual   \n",
       "139                       Curso Spring Boot 3: desenvolva uma API Rest em Java   \n",
       "430                 Curso Power BI Desktop: construindo meu primeiro dashboard   \n",
       "395                                  Curso Excel: domine o editor de planilhas   \n",
       "\n",
       "     workload        school  registered_people  rating  \n",
       "490         6     Front-end              29164     9.7  \n",
       "491         6     Front-end              24264     9.7  \n",
       "489         8     Front-end              35635     9.6  \n",
       "2           6   Programação              35378     9.6  \n",
       "3           6   Programação              18258     9.6  \n",
       "517        14     Front-end              17874     9.6  \n",
       "817        10   UX & Design              15667     9.6  \n",
       "139        10   Programação              14633     9.6  \n",
       "430         8  Data Science              13973     9.6  \n",
       "395         8  Data Science              12305     9.6  "
      ]
     },
     "execution_count": 16,
     "metadata": {},
     "output_type": "execute_result"
    }
   ],
   "source": [
    "df[['title', 'workload', 'school', 'registered_people', 'rating']].sort_values(by=['rating', 'registered_people'], ascending=False).head(10)"
   ]
  },
  {
   "cell_type": "markdown",
   "metadata": {},
   "source": [
    "## Distribuição das médias do cursos"
   ]
  },
  {
   "cell_type": "code",
   "execution_count": 17,
   "metadata": {},
   "outputs": [
    {
     "data": {
      "text/plain": [
       "<Axes: xlabel='rating', ylabel='Count'>"
      ]
     },
     "execution_count": 17,
     "metadata": {},
     "output_type": "execute_result"
    },
    {
     "data": {
      "image/png": "[encoded data removed]",
      "text/plain": [
       "<Figure size 640x480 with 1 Axes>"
      ]
     },
     "metadata": {},
     "output_type": "display_data"
    }
   ],
   "source": [
    "sns.histplot(data=df, x='rating', kde=True)"
   ]
  },
  {
   "cell_type": "markdown",
   "metadata": {},
   "source": [
    "## Análises por Formação"
   ]
  },
  {
   "cell_type": "markdown",
   "metadata": {},
   "source": [
    "## Top 10 cursos por formação (número de matrículas)\n",
    "\n",
    "### Inovação & Gestão"
   ]
  },
  {
   "cell_type": "code",
   "execution_count": 23,
   "metadata": {},
   "outputs": [
    {
     "data": {
      "text/html": [
       "<div>\n",
       "<style scoped>\n",
       "    .dataframe tbody tr th:only-of-type {\n",
       "        vertical-align: middle;\n",
       "    }\n",
       "\n",
       "    .dataframe tbody tr th {\n",
       "        vertical-align: top;\n",
       "    }\n",
       "\n",
       "    .dataframe thead th {\n",
       "        text-align: right;\n",
       "    }\n",
       "</style>\n",
       "<table border=\"1\" class=\"dataframe\">\n",
       "  <thead>\n",
       "    <tr style=\"text-align: right;\">\n",
       "      <th></th>\n",
       "      <th>title</th>\n",
       "      <th>workload</th>\n",
       "      <th>registered_people</th>\n",
       "      <th>rating</th>\n",
       "    </tr>\n",
       "  </thead>\n",
       "  <tbody>\n",
       "    <tr>\n",
       "      <th>1147</th>\n",
       "      <td>Curso Comunicação não violenta: consciência para agir</td>\n",
       "      <td>8</td>\n",
       "      <td>93768</td>\n",
       "      <td>9.3</td>\n",
       "    </tr>\n",
       "    <tr>\n",
       "      <th>1207</th>\n",
       "      <td>Curso Aprender a aprender: técnicas para seu autodesenvolvimento</td>\n",
       "      <td>8</td>\n",
       "      <td>84675</td>\n",
       "      <td>9.4</td>\n",
       "    </tr>\n",
       "    <tr>\n",
       "      <th>1176</th>\n",
       "      <td>Curso Comunicação assertiva: reduzindo conflitos e frustrações</td>\n",
       "      <td>6</td>\n",
       "      <td>74648</td>\n",
       "      <td>9.3</td>\n",
       "    </tr>\n",
       "    <tr>\n",
       "      <th>1148</th>\n",
       "      <td>Curso Comunicação não violenta parte 2: mantendo a empatia</td>\n",
       "      <td>4</td>\n",
       "      <td>74631</td>\n",
       "      <td>9.3</td>\n",
       "    </tr>\n",
       "    <tr>\n",
       "      <th>1144</th>\n",
       "      <td>Curso Feedback: a arte de orientar e ser orientado com sentido</td>\n",
       "      <td>5</td>\n",
       "      <td>69215</td>\n",
       "      <td>9.4</td>\n",
       "    </tr>\n",
       "    <tr>\n",
       "      <th>1051</th>\n",
       "      <td>Curso Gestão Ágil: liderando a mudança em um ambiente de agilidade</td>\n",
       "      <td>6</td>\n",
       "      <td>66922</td>\n",
       "      <td>9.4</td>\n",
       "    </tr>\n",
       "    <tr>\n",
       "      <th>1298</th>\n",
       "      <td>Curso Vendas de alta performance: vendas na era digital</td>\n",
       "      <td>8</td>\n",
       "      <td>62468</td>\n",
       "      <td>9.3</td>\n",
       "    </tr>\n",
       "    <tr>\n",
       "      <th>1302</th>\n",
       "      <td>Curso Vendas de alta performance: perguntas poderosas</td>\n",
       "      <td>6</td>\n",
       "      <td>59394</td>\n",
       "      <td>9.3</td>\n",
       "    </tr>\n",
       "    <tr>\n",
       "      <th>1050</th>\n",
       "      <td>Curso A Empresa Ágil: implemente o Business Agility nas organizações</td>\n",
       "      <td>6</td>\n",
       "      <td>54863</td>\n",
       "      <td>9.3</td>\n",
       "    </tr>\n",
       "    <tr>\n",
       "      <th>1079</th>\n",
       "      <td>Curso Liderança ambidestra: buscando inovação e resultados</td>\n",
       "      <td>6</td>\n",
       "      <td>49211</td>\n",
       "      <td>9.2</td>\n",
       "    </tr>\n",
       "  </tbody>\n",
       "</table>\n",
       "</div>"
      ],
      "text/plain": [
       "                                                                     title  \\\n",
       "1147                 Curso Comunicação não violenta: consciência para agir   \n",
       "1207      Curso Aprender a aprender: técnicas para seu autodesenvolvimento   \n",
       "1176        Curso Comunicação assertiva: reduzindo conflitos e frustrações   \n",
       "1148            Curso Comunicação não violenta parte 2: mantendo a empatia   \n",
       "1144        Curso Feedback: a arte de orientar e ser orientado com sentido   \n",
       "1051    Curso Gestão Ágil: liderando a mudança em um ambiente de agilidade   \n",
       "1298               Curso Vendas de alta performance: vendas na era digital   \n",
       "1302                 Curso Vendas de alta performance: perguntas poderosas   \n",
       "1050  Curso A Empresa Ágil: implemente o Business Agility nas organizações   \n",
       "1079            Curso Liderança ambidestra: buscando inovação e resultados   \n",
       "\n",
       "      workload  registered_people  rating  \n",
       "1147         8              93768     9.3  \n",
       "1207         8              84675     9.4  \n",
       "1176         6              74648     9.3  \n",
       "1148         4              74631     9.3  \n",
       "1144         5              69215     9.4  \n",
       "1051         6              66922     9.4  \n",
       "1298         8              62468     9.3  \n",
       "1302         6              59394     9.3  \n",
       "1050         6              54863     9.3  \n",
       "1079         6              49211     9.2  "
      ]
     },
     "execution_count": 23,
     "metadata": {},
     "output_type": "execute_result"
    }
   ],
   "source": [
    "df.query('school == \"Inovação & Gestão\"')[['title', 'workload', 'registered_people', 'rating']].sort_values(by='registered_people', ascending=False).head(10)"
   ]
  },
  {
   "cell_type": "markdown",
   "metadata": {},
   "source": [
    "### DevOps"
   ]
  },
  {
   "cell_type": "code",
   "execution_count": 25,
   "metadata": {},
   "outputs": [
    {
     "data": {
      "text/html": [
       "<div>\n",
       "<style scoped>\n",
       "    .dataframe tbody tr th:only-of-type {\n",
       "        vertical-align: middle;\n",
       "    }\n",
       "\n",
       "    .dataframe tbody tr th {\n",
       "        vertical-align: top;\n",
       "    }\n",
       "\n",
       "    .dataframe thead th {\n",
       "        text-align: right;\n",
       "    }\n",
       "</style>\n",
       "<table border=\"1\" class=\"dataframe\">\n",
       "  <thead>\n",
       "    <tr style=\"text-align: right;\">\n",
       "      <th></th>\n",
       "      <th>title</th>\n",
       "      <th>workload</th>\n",
       "      <th>registered_people</th>\n",
       "      <th>rating</th>\n",
       "    </tr>\n",
       "  </thead>\n",
       "  <tbody>\n",
       "    <tr>\n",
       "      <th>991</th>\n",
       "      <td>Curso Docker: criando e gerenciando containers</td>\n",
       "      <td>10</td>\n",
       "      <td>31706</td>\n",
       "      <td>9.5</td>\n",
       "    </tr>\n",
       "    <tr>\n",
       "      <th>992</th>\n",
       "      <td>Curso Kubernetes: Pods, Services e ConfigMaps</td>\n",
       "      <td>8</td>\n",
       "      <td>20548</td>\n",
       "      <td>9.4</td>\n",
       "    </tr>\n",
       "    <tr>\n",
       "      <th>1005</th>\n",
       "      <td>Curso Kafka: produtores, consumidores e streams</td>\n",
       "      <td>8</td>\n",
       "      <td>19124</td>\n",
       "      <td>9.3</td>\n",
       "    </tr>\n",
       "    <tr>\n",
       "      <th>934</th>\n",
       "      <td>Curso Linux Onboarding: usando a CLI de uma forma rápida e prática</td>\n",
       "      <td>8</td>\n",
       "      <td>18648</td>\n",
       "      <td>9.3</td>\n",
       "    </tr>\n",
       "    <tr>\n",
       "      <th>896</th>\n",
       "      <td>Curso Integração Contínua: mais qualidade e menos risco no desenvolvimento</td>\n",
       "      <td>6</td>\n",
       "      <td>18216</td>\n",
       "      <td>9.2</td>\n",
       "    </tr>\n",
       "    <tr>\n",
       "      <th>965</th>\n",
       "      <td>Curso Microsoft AZ-900 parte 1: Azure Fundamentals</td>\n",
       "      <td>8</td>\n",
       "      <td>17841</td>\n",
       "      <td>9.3</td>\n",
       "    </tr>\n",
       "    <tr>\n",
       "      <th>948</th>\n",
       "      <td>Curso Microsserviços: padrões de projeto</td>\n",
       "      <td>6</td>\n",
       "      <td>16429</td>\n",
       "      <td>9.2</td>\n",
       "    </tr>\n",
       "    <tr>\n",
       "      <th>927</th>\n",
       "      <td>Curso Shell Scripting parte 1: scripts de automação de tarefas</td>\n",
       "      <td>8</td>\n",
       "      <td>14671</td>\n",
       "      <td>9.3</td>\n",
       "    </tr>\n",
       "    <tr>\n",
       "      <th>922</th>\n",
       "      <td>Curso Cloud Onboarding: trabalhando com os principais provedores</td>\n",
       "      <td>10</td>\n",
       "      <td>14541</td>\n",
       "      <td>9.2</td>\n",
       "    </tr>\n",
       "    <tr>\n",
       "      <th>980</th>\n",
       "      <td>Curso Pentest: explorando vulnerabilidades em aplicações web</td>\n",
       "      <td>10</td>\n",
       "      <td>14071</td>\n",
       "      <td>9.3</td>\n",
       "    </tr>\n",
       "  </tbody>\n",
       "</table>\n",
       "</div>"
      ],
      "text/plain": [
       "                                                                           title  \\\n",
       "991                               Curso Docker: criando e gerenciando containers   \n",
       "992                                Curso Kubernetes: Pods, Services e ConfigMaps   \n",
       "1005                             Curso Kafka: produtores, consumidores e streams   \n",
       "934           Curso Linux Onboarding: usando a CLI de uma forma rápida e prática   \n",
       "896   Curso Integração Contínua: mais qualidade e menos risco no desenvolvimento   \n",
       "965                           Curso Microsoft AZ-900 parte 1: Azure Fundamentals   \n",
       "948                                     Curso Microsserviços: padrões de projeto   \n",
       "927               Curso Shell Scripting parte 1: scripts de automação de tarefas   \n",
       "922             Curso Cloud Onboarding: trabalhando com os principais provedores   \n",
       "980                 Curso Pentest: explorando vulnerabilidades em aplicações web   \n",
       "\n",
       "      workload  registered_people  rating  \n",
       "991         10              31706     9.5  \n",
       "992          8              20548     9.4  \n",
       "1005         8              19124     9.3  \n",
       "934          8              18648     9.3  \n",
       "896          6              18216     9.2  \n",
       "965          8              17841     9.3  \n",
       "948          6              16429     9.2  \n",
       "927          8              14671     9.3  \n",
       "922         10              14541     9.2  \n",
       "980         10              14071     9.3  "
      ]
     },
     "execution_count": 25,
     "metadata": {},
     "output_type": "execute_result"
    }
   ],
   "source": [
    "df.query('school == \"DevOps\"')[['title', 'workload', 'registered_people', 'rating']].sort_values(by='registered_people', ascending=False).head(10)"
   ]
  },
  {
   "cell_type": "code",
   "execution_count": 26,
   "metadata": {},
   "outputs": [
    {
     "data": {
      "text/html": [
       "<div>\n",
       "<style scoped>\n",
       "    .dataframe tbody tr th:only-of-type {\n",
       "        vertical-align: middle;\n",
       "    }\n",
       "\n",
       "    .dataframe tbody tr th {\n",
       "        vertical-align: top;\n",
       "    }\n",
       "\n",
       "    .dataframe thead th {\n",
       "        text-align: right;\n",
       "    }\n",
       "</style>\n",
       "<table border=\"1\" class=\"dataframe\">\n",
       "  <thead>\n",
       "    <tr style=\"text-align: right;\">\n",
       "      <th></th>\n",
       "      <th>title</th>\n",
       "      <th>workload</th>\n",
       "      <th>registered_people</th>\n",
       "      <th>rating</th>\n",
       "    </tr>\n",
       "  </thead>\n",
       "  <tbody>\n",
       "    <tr>\n",
       "      <th>0</th>\n",
       "      <td>Curso JavaScript e HTML: desenvolva um jogo e pratique lógica de programação</td>\n",
       "      <td>16</td>\n",
       "      <td>167775</td>\n",
       "      <td>9.5</td>\n",
       "    </tr>\n",
       "    <tr>\n",
       "      <th>1</th>\n",
       "      <td>Curso JavaScript e HTML: pratique lógica com desenhos, animações e um jogo</td>\n",
       "      <td>10</td>\n",
       "      <td>63513</td>\n",
       "      <td>9.3</td>\n",
       "    </tr>\n",
       "    <tr>\n",
       "      <th>2</th>\n",
       "      <td>Curso Lógica de programação: mergulhe em programação com JavaScript</td>\n",
       "      <td>6</td>\n",
       "      <td>35378</td>\n",
       "      <td>9.6</td>\n",
       "    </tr>\n",
       "    <tr>\n",
       "      <th>56</th>\n",
       "      <td>Curso PHP: conceitos, lidando com dados, loops e mais</td>\n",
       "      <td>6</td>\n",
       "      <td>30229</td>\n",
       "      <td>9.5</td>\n",
       "    </tr>\n",
       "    <tr>\n",
       "      <th>120</th>\n",
       "      <td>Curso Certificação Java SE 7 Programmer I</td>\n",
       "      <td>8</td>\n",
       "      <td>28319</td>\n",
       "      <td>9.1</td>\n",
       "    </tr>\n",
       "    <tr>\n",
       "      <th>18</th>\n",
       "      <td>Curso Python: avançando na orientação a objetos</td>\n",
       "      <td>10</td>\n",
       "      <td>27366</td>\n",
       "      <td>8.9</td>\n",
       "    </tr>\n",
       "    <tr>\n",
       "      <th>224</th>\n",
       "      <td>Curso C: conhecendo a Linguagem das Linguagens</td>\n",
       "      <td>8</td>\n",
       "      <td>26059</td>\n",
       "      <td>9.2</td>\n",
       "    </tr>\n",
       "    <tr>\n",
       "      <th>181</th>\n",
       "      <td>Curso Unity parte 1: criação de um jogo de sobrevivência à zumbis para Web</td>\n",
       "      <td>8</td>\n",
       "      <td>22542</td>\n",
       "      <td>9.4</td>\n",
       "    </tr>\n",
       "    <tr>\n",
       "      <th>104</th>\n",
       "      <td>Curso Java: criando a sua primeira aplicação</td>\n",
       "      <td>8</td>\n",
       "      <td>20291</td>\n",
       "      <td>9.5</td>\n",
       "    </tr>\n",
       "    <tr>\n",
       "      <th>190</th>\n",
       "      <td>Curso Quality Assurance: plano de testes e gestão de bugs</td>\n",
       "      <td>8</td>\n",
       "      <td>20154</td>\n",
       "      <td>9.2</td>\n",
       "    </tr>\n",
       "  </tbody>\n",
       "</table>\n",
       "</div>"
      ],
      "text/plain": [
       "                                                                            title  \\\n",
       "0    Curso JavaScript e HTML: desenvolva um jogo e pratique lógica de programação   \n",
       "1      Curso JavaScript e HTML: pratique lógica com desenhos, animações e um jogo   \n",
       "2             Curso Lógica de programação: mergulhe em programação com JavaScript   \n",
       "56                          Curso PHP: conceitos, lidando com dados, loops e mais   \n",
       "120                                     Curso Certificação Java SE 7 Programmer I   \n",
       "18                                Curso Python: avançando na orientação a objetos   \n",
       "224                                Curso C: conhecendo a Linguagem das Linguagens   \n",
       "181    Curso Unity parte 1: criação de um jogo de sobrevivência à zumbis para Web   \n",
       "104                                  Curso Java: criando a sua primeira aplicação   \n",
       "190                     Curso Quality Assurance: plano de testes e gestão de bugs   \n",
       "\n",
       "     workload  registered_people  rating  \n",
       "0          16             167775     9.5  \n",
       "1          10              63513     9.3  \n",
       "2           6              35378     9.6  \n",
       "56          6              30229     9.5  \n",
       "120         8              28319     9.1  \n",
       "18         10              27366     8.9  \n",
       "224         8              26059     9.2  \n",
       "181         8              22542     9.4  \n",
       "104         8              20291     9.5  \n",
       "190         8              20154     9.2  "
      ]
     },
     "execution_count": 26,
     "metadata": {},
     "output_type": "execute_result"
    }
   ],
   "source": [
    "df.query('school == \"Programação\"')[['title', 'workload', 'registered_people', 'rating']].sort_values(by='registered_people', ascending=False).head(10)"
   ]
  },
  {
   "cell_type": "code",
   "execution_count": 27,
   "metadata": {},
   "outputs": [
    {
     "data": {
      "text/html": [
       "<div>\n",
       "<style scoped>\n",
       "    .dataframe tbody tr th:only-of-type {\n",
       "        vertical-align: middle;\n",
       "    }\n",
       "\n",
       "    .dataframe tbody tr th {\n",
       "        vertical-align: top;\n",
       "    }\n",
       "\n",
       "    .dataframe thead th {\n",
       "        text-align: right;\n",
       "    }\n",
       "</style>\n",
       "<table border=\"1\" class=\"dataframe\">\n",
       "  <thead>\n",
       "    <tr style=\"text-align: right;\">\n",
       "      <th></th>\n",
       "      <th>title</th>\n",
       "      <th>workload</th>\n",
       "      <th>registered_people</th>\n",
       "      <th>rating</th>\n",
       "    </tr>\n",
       "  </thead>\n",
       "  <tbody>\n",
       "    <tr>\n",
       "      <th>488</th>\n",
       "      <td>Curso HTML e CSS: ambientes de desenvolvimento, estrutura de arquivos e tags</td>\n",
       "      <td>8</td>\n",
       "      <td>56912</td>\n",
       "      <td>9.5</td>\n",
       "    </tr>\n",
       "    <tr>\n",
       "      <th>586</th>\n",
       "      <td>Curso JavaScript: explorando a linguagem</td>\n",
       "      <td>10</td>\n",
       "      <td>45644</td>\n",
       "      <td>9.1</td>\n",
       "    </tr>\n",
       "    <tr>\n",
       "      <th>598</th>\n",
       "      <td>Curso JavaScript para Web: Crie páginas dinâmicas</td>\n",
       "      <td>10</td>\n",
       "      <td>41448</td>\n",
       "      <td>9.2</td>\n",
       "    </tr>\n",
       "    <tr>\n",
       "      <th>585</th>\n",
       "      <td>Curso JavaScript: programando a Orientação a Objetos</td>\n",
       "      <td>10</td>\n",
       "      <td>38637</td>\n",
       "      <td>9.2</td>\n",
       "    </tr>\n",
       "    <tr>\n",
       "      <th>489</th>\n",
       "      <td>Curso HTML e CSS: Classes, posicionamento e Flexbox</td>\n",
       "      <td>8</td>\n",
       "      <td>35635</td>\n",
       "      <td>9.6</td>\n",
       "    </tr>\n",
       "    <tr>\n",
       "      <th>490</th>\n",
       "      <td>Curso HTML e CSS: cabeçalho, footer e variáveis CSS</td>\n",
       "      <td>6</td>\n",
       "      <td>29164</td>\n",
       "      <td>9.7</td>\n",
       "    </tr>\n",
       "    <tr>\n",
       "      <th>486</th>\n",
       "      <td>Curso HTML e CSS: praticando HTML/CSS</td>\n",
       "      <td>8</td>\n",
       "      <td>27938</td>\n",
       "      <td>9.3</td>\n",
       "    </tr>\n",
       "    <tr>\n",
       "      <th>601</th>\n",
       "      <td>Curso TypeScript parte 1: evoluindo seu JavaScript</td>\n",
       "      <td>10</td>\n",
       "      <td>26857</td>\n",
       "      <td>9.5</td>\n",
       "    </tr>\n",
       "    <tr>\n",
       "      <th>491</th>\n",
       "      <td>Curso HTML e CSS: trabalhando com responsividade e publicação de projetos</td>\n",
       "      <td>6</td>\n",
       "      <td>24264</td>\n",
       "      <td>9.7</td>\n",
       "    </tr>\n",
       "    <tr>\n",
       "      <th>587</th>\n",
       "      <td>Curso JavaScript: interfaces e Herança em Orientação a Objetos</td>\n",
       "      <td>12</td>\n",
       "      <td>22152</td>\n",
       "      <td>8.9</td>\n",
       "    </tr>\n",
       "  </tbody>\n",
       "</table>\n",
       "</div>"
      ],
      "text/plain": [
       "                                                                            title  \\\n",
       "488  Curso HTML e CSS: ambientes de desenvolvimento, estrutura de arquivos e tags   \n",
       "586                                      Curso JavaScript: explorando a linguagem   \n",
       "598                             Curso JavaScript para Web: Crie páginas dinâmicas   \n",
       "585                          Curso JavaScript: programando a Orientação a Objetos   \n",
       "489                           Curso HTML e CSS: Classes, posicionamento e Flexbox   \n",
       "490                           Curso HTML e CSS: cabeçalho, footer e variáveis CSS   \n",
       "486                                         Curso HTML e CSS: praticando HTML/CSS   \n",
       "601                            Curso TypeScript parte 1: evoluindo seu JavaScript   \n",
       "491     Curso HTML e CSS: trabalhando com responsividade e publicação de projetos   \n",
       "587                Curso JavaScript: interfaces e Herança em Orientação a Objetos   \n",
       "\n",
       "     workload  registered_people  rating  \n",
       "488         8              56912     9.5  \n",
       "586        10              45644     9.1  \n",
       "598        10              41448     9.2  \n",
       "585        10              38637     9.2  \n",
       "489         8              35635     9.6  \n",
       "490         6              29164     9.7  \n",
       "486         8              27938     9.3  \n",
       "601        10              26857     9.5  \n",
       "491         6              24264     9.7  \n",
       "587        12              22152     8.9  "
      ]
     },
     "execution_count": 27,
     "metadata": {},
     "output_type": "execute_result"
    }
   ],
   "source": [
    "df.query('school == \"Front-end\"')[['title', 'workload', 'registered_people', 'rating']].sort_values(by='registered_people', ascending=False).head(10)"
   ]
  },
  {
   "cell_type": "code",
   "execution_count": 28,
   "metadata": {},
   "outputs": [
    {
     "data": {
      "text/html": [
       "<div>\n",
       "<style scoped>\n",
       "    .dataframe tbody tr th:only-of-type {\n",
       "        vertical-align: middle;\n",
       "    }\n",
       "\n",
       "    .dataframe tbody tr th {\n",
       "        vertical-align: top;\n",
       "    }\n",
       "\n",
       "    .dataframe thead th {\n",
       "        text-align: right;\n",
       "    }\n",
       "</style>\n",
       "<table border=\"1\" class=\"dataframe\">\n",
       "  <thead>\n",
       "    <tr style=\"text-align: right;\">\n",
       "      <th></th>\n",
       "      <th>title</th>\n",
       "      <th>workload</th>\n",
       "      <th>registered_people</th>\n",
       "      <th>rating</th>\n",
       "    </tr>\n",
       "  </thead>\n",
       "  <tbody>\n",
       "    <tr>\n",
       "      <th>296</th>\n",
       "      <td>Curso Data Science: analise e visualização de dados</td>\n",
       "      <td>6</td>\n",
       "      <td>88599</td>\n",
       "      <td>9.2</td>\n",
       "    </tr>\n",
       "    <tr>\n",
       "      <th>234</th>\n",
       "      <td>Curso SQL com MySQL: manipule e consulte dados</td>\n",
       "      <td>12</td>\n",
       "      <td>57177</td>\n",
       "      <td>9.5</td>\n",
       "    </tr>\n",
       "    <tr>\n",
       "      <th>337</th>\n",
       "      <td>Curso Machine Learning: classificação com SKLearn</td>\n",
       "      <td>8</td>\n",
       "      <td>30310</td>\n",
       "      <td>9.3</td>\n",
       "    </tr>\n",
       "    <tr>\n",
       "      <th>394</th>\n",
       "      <td>Curso Excel: criação de macros e automatização de tarefas</td>\n",
       "      <td>12</td>\n",
       "      <td>29870</td>\n",
       "      <td>9.4</td>\n",
       "    </tr>\n",
       "    <tr>\n",
       "      <th>235</th>\n",
       "      <td>Curso Consultas SQL: avançando no SQL com MySQL</td>\n",
       "      <td>14</td>\n",
       "      <td>27173</td>\n",
       "      <td>9.5</td>\n",
       "    </tr>\n",
       "    <tr>\n",
       "      <th>264</th>\n",
       "      <td>Curso Modelagem de banco de dados: entidades, relacionamentos e atributos</td>\n",
       "      <td>8</td>\n",
       "      <td>22918</td>\n",
       "      <td>9.2</td>\n",
       "    </tr>\n",
       "    <tr>\n",
       "      <th>473</th>\n",
       "      <td>Curso Estatística com Python: frequências e medidas</td>\n",
       "      <td>10</td>\n",
       "      <td>22729</td>\n",
       "      <td>9.4</td>\n",
       "    </tr>\n",
       "    <tr>\n",
       "      <th>243</th>\n",
       "      <td>Curso PostgreSQL</td>\n",
       "      <td>8</td>\n",
       "      <td>22283</td>\n",
       "      <td>9.2</td>\n",
       "    </tr>\n",
       "    <tr>\n",
       "      <th>392</th>\n",
       "      <td>Curso Análise de dados: cálculos, padrões e estratégias com Excel</td>\n",
       "      <td>6</td>\n",
       "      <td>16011</td>\n",
       "      <td>9.1</td>\n",
       "    </tr>\n",
       "    <tr>\n",
       "      <th>391</th>\n",
       "      <td>Curso Excel: simulação e análise de cenários</td>\n",
       "      <td>6</td>\n",
       "      <td>15983</td>\n",
       "      <td>9.5</td>\n",
       "    </tr>\n",
       "  </tbody>\n",
       "</table>\n",
       "</div>"
      ],
      "text/plain": [
       "                                                                         title  \\\n",
       "296                        Curso Data Science: analise e visualização de dados   \n",
       "234                             Curso SQL com MySQL: manipule e consulte dados   \n",
       "337                          Curso Machine Learning: classificação com SKLearn   \n",
       "394                  Curso Excel: criação de macros e automatização de tarefas   \n",
       "235                            Curso Consultas SQL: avançando no SQL com MySQL   \n",
       "264  Curso Modelagem de banco de dados: entidades, relacionamentos e atributos   \n",
       "473                        Curso Estatística com Python: frequências e medidas   \n",
       "243                                                           Curso PostgreSQL   \n",
       "392          Curso Análise de dados: cálculos, padrões e estratégias com Excel   \n",
       "391                               Curso Excel: simulação e análise de cenários   \n",
       "\n",
       "     workload  registered_people  rating  \n",
       "296         6              88599     9.2  \n",
       "234        12              57177     9.5  \n",
       "337         8              30310     9.3  \n",
       "394        12              29870     9.4  \n",
       "235        14              27173     9.5  \n",
       "264         8              22918     9.2  \n",
       "473        10              22729     9.4  \n",
       "243         8              22283     9.2  \n",
       "392         6              16011     9.1  \n",
       "391         6              15983     9.5  "
      ]
     },
     "execution_count": 28,
     "metadata": {},
     "output_type": "execute_result"
    }
   ],
   "source": [
    "df.query('school == \"Data Science\"')[['title', 'workload', 'registered_people', 'rating']].sort_values(by='registered_people', ascending=False).head(10)"
   ]
  },
  {
   "cell_type": "code",
   "execution_count": 30,
   "metadata": {},
   "outputs": [
    {
     "data": {
      "text/html": [
       "<div>\n",
       "<style scoped>\n",
       "    .dataframe tbody tr th:only-of-type {\n",
       "        vertical-align: middle;\n",
       "    }\n",
       "\n",
       "    .dataframe tbody tr th {\n",
       "        vertical-align: top;\n",
       "    }\n",
       "\n",
       "    .dataframe thead th {\n",
       "        text-align: right;\n",
       "    }\n",
       "</style>\n",
       "<table border=\"1\" class=\"dataframe\">\n",
       "  <thead>\n",
       "    <tr style=\"text-align: right;\">\n",
       "      <th></th>\n",
       "      <th>title</th>\n",
       "      <th>workload</th>\n",
       "      <th>registered_people</th>\n",
       "      <th>rating</th>\n",
       "    </tr>\n",
       "  </thead>\n",
       "  <tbody>\n",
       "    <tr>\n",
       "      <th>725</th>\n",
       "      <td>Curso Design Thinking: viabilizando soluções</td>\n",
       "      <td>8</td>\n",
       "      <td>38679</td>\n",
       "      <td>9.3</td>\n",
       "    </tr>\n",
       "    <tr>\n",
       "      <th>713</th>\n",
       "      <td>Curso Adobe Illustrator: desenho vetorial</td>\n",
       "      <td>10</td>\n",
       "      <td>20190</td>\n",
       "      <td>9.4</td>\n",
       "    </tr>\n",
       "    <tr>\n",
       "      <th>817</th>\n",
       "      <td>Curso Produção de vídeo: o que há por trás do mundo do audiovisual</td>\n",
       "      <td>10</td>\n",
       "      <td>15667</td>\n",
       "      <td>9.6</td>\n",
       "    </tr>\n",
       "    <tr>\n",
       "      <th>843</th>\n",
       "      <td>Curso Desenho: esboço e composição de imagens</td>\n",
       "      <td>6</td>\n",
       "      <td>10802</td>\n",
       "      <td>9.1</td>\n",
       "    </tr>\n",
       "    <tr>\n",
       "      <th>809</th>\n",
       "      <td>Curso Adobe Premiere 2020: edição de vídeo</td>\n",
       "      <td>10</td>\n",
       "      <td>10298</td>\n",
       "      <td>9.3</td>\n",
       "    </tr>\n",
       "    <tr>\n",
       "      <th>783</th>\n",
       "      <td>Curso Design de apresentações: trabalhando com o Power Point</td>\n",
       "      <td>14</td>\n",
       "      <td>10037</td>\n",
       "      <td>9.3</td>\n",
       "    </tr>\n",
       "    <tr>\n",
       "      <th>658</th>\n",
       "      <td>Curso Adobe XD: design visual de um site mobile</td>\n",
       "      <td>10</td>\n",
       "      <td>9875</td>\n",
       "      <td>9.3</td>\n",
       "    </tr>\n",
       "    <tr>\n",
       "      <th>753</th>\n",
       "      <td>Curso Tipografia: conhecendo o que há por trás dos tipos</td>\n",
       "      <td>10</td>\n",
       "      <td>9277</td>\n",
       "      <td>9.0</td>\n",
       "    </tr>\n",
       "    <tr>\n",
       "      <th>669</th>\n",
       "      <td>Curso UX: metodologias práticas para designers</td>\n",
       "      <td>10</td>\n",
       "      <td>8933</td>\n",
       "      <td>8.9</td>\n",
       "    </tr>\n",
       "    <tr>\n",
       "      <th>811</th>\n",
       "      <td>Curso Premiere: ritmo de edição e manipulando emoções</td>\n",
       "      <td>10</td>\n",
       "      <td>8552</td>\n",
       "      <td>9.4</td>\n",
       "    </tr>\n",
       "  </tbody>\n",
       "</table>\n",
       "</div>"
      ],
      "text/plain": [
       "                                                                  title  \\\n",
       "725                        Curso Design Thinking: viabilizando soluções   \n",
       "713                           Curso Adobe Illustrator: desenho vetorial   \n",
       "817  Curso Produção de vídeo: o que há por trás do mundo do audiovisual   \n",
       "843                       Curso Desenho: esboço e composição de imagens   \n",
       "809                          Curso Adobe Premiere 2020: edição de vídeo   \n",
       "783        Curso Design de apresentações: trabalhando com o Power Point   \n",
       "658                     Curso Adobe XD: design visual de um site mobile   \n",
       "753            Curso Tipografia: conhecendo o que há por trás dos tipos   \n",
       "669                      Curso UX: metodologias práticas para designers   \n",
       "811               Curso Premiere: ritmo de edição e manipulando emoções   \n",
       "\n",
       "     workload  registered_people  rating  \n",
       "725         8              38679     9.3  \n",
       "713        10              20190     9.4  \n",
       "817        10              15667     9.6  \n",
       "843         6              10802     9.1  \n",
       "809        10              10298     9.3  \n",
       "783        14              10037     9.3  \n",
       "658        10               9875     9.3  \n",
       "753        10               9277     9.0  \n",
       "669        10               8933     8.9  \n",
       "811        10               8552     9.4  "
      ]
     },
     "execution_count": 30,
     "metadata": {},
     "output_type": "execute_result"
    }
   ],
   "source": [
    "df.query('school == \"UX & Design\"')[['title', 'workload', 'registered_people', 'rating']].sort_values(by='registered_people', ascending=False).head(10)"
   ]
  },
  {
   "cell_type": "code",
   "execution_count": 31,
   "metadata": {},
   "outputs": [
    {
     "data": {
      "text/html": [
       "<div>\n",
       "<style scoped>\n",
       "    .dataframe tbody tr th:only-of-type {\n",
       "        vertical-align: middle;\n",
       "    }\n",
       "\n",
       "    .dataframe tbody tr th {\n",
       "        vertical-align: top;\n",
       "    }\n",
       "\n",
       "    .dataframe thead th {\n",
       "        text-align: right;\n",
       "    }\n",
       "</style>\n",
       "<table border=\"1\" class=\"dataframe\">\n",
       "  <thead>\n",
       "    <tr style=\"text-align: right;\">\n",
       "      <th></th>\n",
       "      <th>title</th>\n",
       "      <th>workload</th>\n",
       "      <th>registered_people</th>\n",
       "      <th>rating</th>\n",
       "    </tr>\n",
       "  </thead>\n",
       "  <tbody>\n",
       "    <tr>\n",
       "      <th>1370</th>\n",
       "      <td>Curso Android parte 1: crie um app mobile</td>\n",
       "      <td>10</td>\n",
       "      <td>23902</td>\n",
       "      <td>9.2</td>\n",
       "    </tr>\n",
       "    <tr>\n",
       "      <th>1333</th>\n",
       "      <td>Curso Flutter: criando um app</td>\n",
       "      <td>15</td>\n",
       "      <td>22806</td>\n",
       "      <td>9.2</td>\n",
       "    </tr>\n",
       "    <tr>\n",
       "      <th>1365</th>\n",
       "      <td>Curso Dart: criando e manipulando variáveis e listas</td>\n",
       "      <td>10</td>\n",
       "      <td>9198</td>\n",
       "      <td>9.4</td>\n",
       "    </tr>\n",
       "    <tr>\n",
       "      <th>1342</th>\n",
       "      <td>Curso Flutter: Widgets, Stateless, Stateful, Imagens e Animações</td>\n",
       "      <td>16</td>\n",
       "      <td>8346</td>\n",
       "      <td>9.6</td>\n",
       "    </tr>\n",
       "    <tr>\n",
       "      <th>1331</th>\n",
       "      <td>Curso Persistência com Flutter: crie um app com armazenamento interno</td>\n",
       "      <td>8</td>\n",
       "      <td>7696</td>\n",
       "      <td>9.2</td>\n",
       "    </tr>\n",
       "    <tr>\n",
       "      <th>1374</th>\n",
       "      <td>Curso Android com Kotlin: criando um app</td>\n",
       "      <td>16</td>\n",
       "      <td>6462</td>\n",
       "      <td>9.4</td>\n",
       "    </tr>\n",
       "    <tr>\n",
       "      <th>1312</th>\n",
       "      <td>Curso React Native: utilizando e criando Hooks</td>\n",
       "      <td>10</td>\n",
       "      <td>6163</td>\n",
       "      <td>9.3</td>\n",
       "    </tr>\n",
       "    <tr>\n",
       "      <th>1335</th>\n",
       "      <td>Curso Flutter com Web API: integrando sua app mobile</td>\n",
       "      <td>8</td>\n",
       "      <td>5877</td>\n",
       "      <td>9.2</td>\n",
       "    </tr>\n",
       "    <tr>\n",
       "      <th>1371</th>\n",
       "      <td>Curso Android parte 2: avançando com listeners, menu e UI</td>\n",
       "      <td>10</td>\n",
       "      <td>5360</td>\n",
       "      <td>9.3</td>\n",
       "    </tr>\n",
       "    <tr>\n",
       "      <th>1382</th>\n",
       "      <td>Curso Android parte 1: testes automatizados e TDD</td>\n",
       "      <td>8</td>\n",
       "      <td>5164</td>\n",
       "      <td>9.2</td>\n",
       "    </tr>\n",
       "  </tbody>\n",
       "</table>\n",
       "</div>"
      ],
      "text/plain": [
       "                                                                      title  \\\n",
       "1370                              Curso Android parte 1: crie um app mobile   \n",
       "1333                                          Curso Flutter: criando um app   \n",
       "1365                   Curso Dart: criando e manipulando variáveis e listas   \n",
       "1342       Curso Flutter: Widgets, Stateless, Stateful, Imagens e Animações   \n",
       "1331  Curso Persistência com Flutter: crie um app com armazenamento interno   \n",
       "1374                               Curso Android com Kotlin: criando um app   \n",
       "1312                         Curso React Native: utilizando e criando Hooks   \n",
       "1335                   Curso Flutter com Web API: integrando sua app mobile   \n",
       "1371              Curso Android parte 2: avançando com listeners, menu e UI   \n",
       "1382                      Curso Android parte 1: testes automatizados e TDD   \n",
       "\n",
       "      workload  registered_people  rating  \n",
       "1370        10              23902     9.2  \n",
       "1333        15              22806     9.2  \n",
       "1365        10               9198     9.4  \n",
       "1342        16               8346     9.6  \n",
       "1331         8               7696     9.2  \n",
       "1374        16               6462     9.4  \n",
       "1312        10               6163     9.3  \n",
       "1335         8               5877     9.2  \n",
       "1371        10               5360     9.3  \n",
       "1382         8               5164     9.2  "
      ]
     },
     "execution_count": 31,
     "metadata": {},
     "output_type": "execute_result"
    }
   ],
   "source": [
    "df.query('school == \"Mobile\"')[['title', 'workload', 'registered_people', 'rating']].sort_values(by='registered_people', ascending=False).head(10)"
   ]
  },
  {
   "cell_type": "code",
   "execution_count": 33,
   "metadata": {},
   "outputs": [
    {
     "data": {
      "text/html": [
       "<div>\n",
       "<style scoped>\n",
       "    .dataframe tbody tr th:only-of-type {\n",
       "        vertical-align: middle;\n",
       "    }\n",
       "\n",
       "    .dataframe tbody tr th {\n",
       "        vertical-align: top;\n",
       "    }\n",
       "\n",
       "    .dataframe thead th {\n",
       "        text-align: right;\n",
       "    }\n",
       "</style>\n",
       "<table border=\"1\" class=\"dataframe\">\n",
       "  <thead>\n",
       "    <tr style=\"text-align: right;\">\n",
       "      <th></th>\n",
       "      <th>title</th>\n",
       "      <th>workload</th>\n",
       "      <th>registered_people</th>\n",
       "      <th>rating</th>\n",
       "    </tr>\n",
       "  </thead>\n",
       "  <tbody>\n",
       "    <tr>\n",
       "      <th>614</th>\n",
       "      <td>Curso Inteligência artificial Generativa: Midjourney e ChatGPT</td>\n",
       "      <td>8</td>\n",
       "      <td>11503</td>\n",
       "      <td>8.8</td>\n",
       "    </tr>\n",
       "    <tr>\n",
       "      <th>616</th>\n",
       "      <td>Curso ChatGPT: desvendando a IA em conversas e suas aplicações</td>\n",
       "      <td>8</td>\n",
       "      <td>9657</td>\n",
       "      <td>9.3</td>\n",
       "    </tr>\n",
       "    <tr>\n",
       "      <th>617</th>\n",
       "      <td>Curso ChatGPT: otimizando a qualidade dos resultados</td>\n",
       "      <td>8</td>\n",
       "      <td>5189</td>\n",
       "      <td>9.2</td>\n",
       "    </tr>\n",
       "    <tr>\n",
       "      <th>618</th>\n",
       "      <td>Curso ChatGPT e programação: aumente sua produtividade</td>\n",
       "      <td>8</td>\n",
       "      <td>4461</td>\n",
       "      <td>9.1</td>\n",
       "    </tr>\n",
       "    <tr>\n",
       "      <th>650</th>\n",
       "      <td>Curso Inteligência Artificial e UX: otimize a construção de um produto digital</td>\n",
       "      <td>8</td>\n",
       "      <td>2802</td>\n",
       "      <td>9.2</td>\n",
       "    </tr>\n",
       "    <tr>\n",
       "      <th>615</th>\n",
       "      <td>Curso ChatGPT e JavaScript: construa o jogo Pong</td>\n",
       "      <td>8</td>\n",
       "      <td>2529</td>\n",
       "      <td>9.2</td>\n",
       "    </tr>\n",
       "    <tr>\n",
       "      <th>636</th>\n",
       "      <td>Curso ChatGPT com Excel: automação com macros</td>\n",
       "      <td>10</td>\n",
       "      <td>2456</td>\n",
       "      <td>9.2</td>\n",
       "    </tr>\n",
       "    <tr>\n",
       "      <th>619</th>\n",
       "      <td>Curso GitHub Copilot e ChatGPT: impulsionando seu desenvolvimento com IA</td>\n",
       "      <td>8</td>\n",
       "      <td>2375</td>\n",
       "      <td>9.1</td>\n",
       "    </tr>\n",
       "    <tr>\n",
       "      <th>640</th>\n",
       "      <td>Curso Machine Learning: utilizando ChatGPT como assistente</td>\n",
       "      <td>10</td>\n",
       "      <td>2099</td>\n",
       "      <td>9.2</td>\n",
       "    </tr>\n",
       "    <tr>\n",
       "      <th>651</th>\n",
       "      <td>Curso Inteligência artificial e personas: acelerando o processo de criação</td>\n",
       "      <td>8</td>\n",
       "      <td>2011</td>\n",
       "      <td>9.3</td>\n",
       "    </tr>\n",
       "  </tbody>\n",
       "</table>\n",
       "</div>"
      ],
      "text/plain": [
       "                                                                              title  \\\n",
       "614                  Curso Inteligência artificial Generativa: Midjourney e ChatGPT   \n",
       "616                  Curso ChatGPT: desvendando a IA em conversas e suas aplicações   \n",
       "617                            Curso ChatGPT: otimizando a qualidade dos resultados   \n",
       "618                          Curso ChatGPT e programação: aumente sua produtividade   \n",
       "650  Curso Inteligência Artificial e UX: otimize a construção de um produto digital   \n",
       "615                                Curso ChatGPT e JavaScript: construa o jogo Pong   \n",
       "636                                   Curso ChatGPT com Excel: automação com macros   \n",
       "619        Curso GitHub Copilot e ChatGPT: impulsionando seu desenvolvimento com IA   \n",
       "640                      Curso Machine Learning: utilizando ChatGPT como assistente   \n",
       "651      Curso Inteligência artificial e personas: acelerando o processo de criação   \n",
       "\n",
       "     workload  registered_people  rating  \n",
       "614         8              11503     8.8  \n",
       "616         8               9657     9.3  \n",
       "617         8               5189     9.2  \n",
       "618         8               4461     9.1  \n",
       "650         8               2802     9.2  \n",
       "615         8               2529     9.2  \n",
       "636        10               2456     9.2  \n",
       "619         8               2375     9.1  \n",
       "640        10               2099     9.2  \n",
       "651         8               2011     9.3  "
      ]
     },
     "execution_count": 33,
     "metadata": {},
     "output_type": "execute_result"
    }
   ],
   "source": [
    "df.query('school == \"Inteligência Artificial\"')[['title', 'workload', 'registered_people', 'rating']].sort_values(by='registered_people', ascending=False).head(10)"
   ]
  },
  {
   "cell_type": "markdown",
   "metadata": {},
   "source": [
    "## Agrupamento por Formação"
   ]
  },
  {
   "cell_type": "code",
   "execution_count": 18,
   "metadata": {},
   "outputs": [
    {
     "data": {
      "text/html": [
       "<style type=\"text/css\">\n",
       "#T_4a58b_row1_col0, #T_4a58b_row1_col1, #T_4a58b_row1_col2, #T_4a58b_row1_col3 {\n",
       "  background-color: rgba(0, 255, 0, 0.1);\n",
       "}\n",
       "</style>\n",
       "<table id=\"T_4a58b\">\n",
       "  <thead>\n",
       "    <tr>\n",
       "      <th class=\"blank level0\" >&nbsp;</th>\n",
       "      <th id=\"T_4a58b_level0_col0\" class=\"col_heading level0 col0\" >Formação</th>\n",
       "      <th id=\"T_4a58b_level0_col1\" class=\"col_heading level0 col1\" >Carga horária total</th>\n",
       "      <th id=\"T_4a58b_level0_col2\" class=\"col_heading level0 col2\" >Média de Matrículas</th>\n",
       "      <th id=\"T_4a58b_level0_col3\" class=\"col_heading level0 col3\" >Avaliação Média</th>\n",
       "    </tr>\n",
       "  </thead>\n",
       "  <tbody>\n",
       "    <tr>\n",
       "      <th id=\"T_4a58b_level0_row0\" class=\"row_heading level0 row0\" >3</th>\n",
       "      <td id=\"T_4a58b_row0_col0\" class=\"data row0 col0\" >Inovação & Gestão</td>\n",
       "      <td id=\"T_4a58b_row0_col1\" class=\"data row0 col1\" >2189</td>\n",
       "      <td id=\"T_4a58b_row0_col2\" class=\"data row0 col2\" >2900.000000</td>\n",
       "      <td id=\"T_4a58b_row0_col3\" class=\"data row0 col3\" >9.239310</td>\n",
       "    </tr>\n",
       "    <tr>\n",
       "      <th id=\"T_4a58b_level0_row1\" class=\"row_heading level0 row1\" >1</th>\n",
       "      <td id=\"T_4a58b_row1_col0\" class=\"data row1 col0\" >DevOps</td>\n",
       "      <td id=\"T_4a58b_row1_col1\" class=\"data row1 col1\" >1082</td>\n",
       "      <td id=\"T_4a58b_row1_col2\" class=\"data row1 col2\" >2588.500000</td>\n",
       "      <td id=\"T_4a58b_row1_col3\" class=\"data row1 col3\" >9.206250</td>\n",
       "    </tr>\n",
       "    <tr>\n",
       "      <th id=\"T_4a58b_level0_row2\" class=\"row_heading level0 row2\" >6</th>\n",
       "      <td id=\"T_4a58b_row2_col0\" class=\"data row2 col0\" >Programação</td>\n",
       "      <td id=\"T_4a58b_row2_col1\" class=\"data row2 col1\" >2077</td>\n",
       "      <td id=\"T_4a58b_row2_col2\" class=\"data row2 col2\" >2353.000000</td>\n",
       "      <td id=\"T_4a58b_row2_col3\" class=\"data row2 col3\" >9.259227</td>\n",
       "    </tr>\n",
       "    <tr>\n",
       "      <th id=\"T_4a58b_level0_row3\" class=\"row_heading level0 row3\" >2</th>\n",
       "      <td id=\"T_4a58b_row3_col0\" class=\"data row3 col0\" >Front-end</td>\n",
       "      <td id=\"T_4a58b_row3_col1\" class=\"data row3 col1\" >1072</td>\n",
       "      <td id=\"T_4a58b_row3_col2\" class=\"data row3 col2\" >1722.000000</td>\n",
       "      <td id=\"T_4a58b_row3_col3\" class=\"data row3 col3\" >9.224603</td>\n",
       "    </tr>\n",
       "    <tr>\n",
       "      <th id=\"T_4a58b_level0_row4\" class=\"row_heading level0 row4\" >0</th>\n",
       "      <td id=\"T_4a58b_row4_col0\" class=\"data row4 col0\" >Data Science</td>\n",
       "      <td id=\"T_4a58b_row4_col1\" class=\"data row4 col1\" >2348</td>\n",
       "      <td id=\"T_4a58b_row4_col2\" class=\"data row4 col2\" >1639.500000</td>\n",
       "      <td id=\"T_4a58b_row4_col3\" class=\"data row4 col3\" >9.212302</td>\n",
       "    </tr>\n",
       "    <tr>\n",
       "      <th id=\"T_4a58b_level0_row5\" class=\"row_heading level0 row5\" >7</th>\n",
       "      <td id=\"T_4a58b_row5_col0\" class=\"data row5 col0\" >UX & Design</td>\n",
       "      <td id=\"T_4a58b_row5_col1\" class=\"data row5 col1\" >2150</td>\n",
       "      <td id=\"T_4a58b_row5_col2\" class=\"data row5 col2\" >1226.000000</td>\n",
       "      <td id=\"T_4a58b_row5_col3\" class=\"data row5 col3\" >9.253846</td>\n",
       "    </tr>\n",
       "    <tr>\n",
       "      <th id=\"T_4a58b_level0_row6\" class=\"row_heading level0 row6\" >5</th>\n",
       "      <td id=\"T_4a58b_row6_col0\" class=\"data row6 col0\" >Mobile</td>\n",
       "      <td id=\"T_4a58b_row6_col1\" class=\"data row6 col1\" >1185</td>\n",
       "      <td id=\"T_4a58b_row6_col2\" class=\"data row6 col2\" >879.500000</td>\n",
       "      <td id=\"T_4a58b_row6_col3\" class=\"data row6 col3\" >9.177165</td>\n",
       "    </tr>\n",
       "    <tr>\n",
       "      <th id=\"T_4a58b_level0_row7\" class=\"row_heading level0 row7\" >4</th>\n",
       "      <td id=\"T_4a58b_row7_col0\" class=\"data row7 col0\" >Inteligência Artificial</td>\n",
       "      <td id=\"T_4a58b_row7_col1\" class=\"data row7 col1\" >358</td>\n",
       "      <td id=\"T_4a58b_row7_col2\" class=\"data row7 col2\" >678.000000</td>\n",
       "      <td id=\"T_4a58b_row7_col3\" class=\"data row7 col3\" >9.138636</td>\n",
       "    </tr>\n",
       "  </tbody>\n",
       "</table>\n"
      ],
      "text/plain": [
       "<pandas.io.formats.style.Styler at 0x7fea44166260>"
      ]
     },
     "execution_count": 18,
     "metadata": {},
     "output_type": "execute_result"
    }
   ],
   "source": [
    "school_group = df.groupby('school').agg({'workload': 'sum', 'registered_people': 'median', 'rating': 'mean'}).reset_index().sort_values(by='registered_people', ascending=False)\n",
    "\n",
    "school_group.rename(columns={ 'school': 'Formação', 'workload': \"Carga horária total\", 'registered_people': 'Média de Matrículas', 'rating': 'Avaliação Média' }, inplace=True)\n",
    "\n",
    "school_group.style.apply(lambda x: ['background-color: rgba(0, 255, 0, 0.1)' if x['Formação'] == 'DevOps' else ''] * 4, axis=1)"
   ]
  },
  {
   "cell_type": "code",
   "execution_count": 18,
   "metadata": {},
   "outputs": [
    {
     "data": {
      "text/plain": [
       "<Axes: xlabel='rating'>"
      ]
     },
     "execution_count": 18,
     "metadata": {},
     "output_type": "execute_result"
    },
    {
     "data": {
      "image/png": "[encoded data removed]",
      "text/plain": [
       "<Figure size 1600x800 with 1 Axes>"
      ]
     },
     "metadata": {},
     "output_type": "display_data"
    }
   ],
   "source": [
    "plt.figure(figsize=(16, 8))\n",
    "sns.boxplot(data=df, x='rating', hue='school')"
   ]
  },
  {
   "cell_type": "code",
   "execution_count": 19,
   "metadata": {},
   "outputs": [
    {
     "data": {
      "text/plain": [
       "<Axes: xlabel='rating', ylabel='Count'>"
      ]
     },
     "execution_count": 19,
     "metadata": {},
     "output_type": "execute_result"
    },
    {
     "data": {
      "image/png": "[encoded data removed]",
      "text/plain": [
       "<Figure size 640x480 with 1 Axes>"
      ]
     },
     "metadata": {},
     "output_type": "display_data"
    }
   ],
   "source": [
    "sns.histplot(data=df, x='rating', kde=True, hue='school')"
   ]
  },
  {
   "cell_type": "code",
   "execution_count": 20,
   "metadata": {},
   "outputs": [
    {
     "data": {
      "application/vnd.plotly.v1+json": {
       "config": {
        "plotlyServerURL": "https://plot.ly"
       },
       "data": [
        {
         "alignmentgroup": "True",
         "bingroup": "x",
         "hovertemplate": "school=Programação<br>rating=%{x}<br>count=%{y}<extra></extra>",
         "legendgroup": "Programação",
         "marker": {
          "color": "#636efa",
          "pattern": {
           "shape": ""
          }
         },
         "name": "Programação",
         "offsetgroup": "Programação",
         "orientation": "v",
         "showlegend": true,
         "type": "histogram",
         "x": [
          9.5,
          9.3,
          9.6,
          9.6,
          9.3,
          9.4,
          9.1,
          9.4,
          9.3,
          9.4,
          9.3,
          9.2,
          9.2,
          9.4,
          9.3,
          9.4,
          9.2,
          9.4,
          8.9,
          9.3,
          9.4,
          9,
          9.3,
          9.4,
          9.4,
          9.4,
          9.3,
          9.3,
          9.2,
          9.4,
          9.2,
          9.1,
          8.8,
          9.2,
          9,
          9.3,
          9.2,
          9.3,
          8.7,
          9.2,
          9.5,
          8.7,
          9.1,
          9.2,
          9.2,
          9.4,
          9,
          9,
          9.2,
          9.3,
          9.1,
          9.2,
          8.9,
          9.3,
          9.2,
          null,
          9.5,
          9.5,
          9.5,
          9.5,
          9.4,
          9.6,
          9.5,
          9.4,
          9.4,
          9.5,
          9.5,
          9.2,
          9.4,
          9.3,
          9.3,
          9.5,
          9.4,
          9.6,
          9.4,
          9.4,
          9.2,
          9.4,
          9.4,
          9.4,
          9.4,
          9.4,
          9.4,
          9.4,
          9.5,
          9.3,
          9.5,
          9.3,
          9.5,
          9.5,
          9.5,
          9.5,
          9.4,
          9.5,
          9.3,
          9.4,
          9.4,
          9.1,
          9.4,
          9.2,
          8.8,
          8.9,
          9.3,
          9.2,
          9.5,
          9.5,
          9.4,
          9.4,
          9.4,
          9.4,
          9.4,
          9.2,
          9.2,
          9,
          9.1,
          9.2,
          9.2,
          9.4,
          9.2,
          9.4,
          9.1,
          9.2,
          9.3,
          9.3,
          9.2,
          9.2,
          9.2,
          9.3,
          9.1,
          9.2,
          9.4,
          9.4,
          9.1,
          9.2,
          9.1,
          9.4,
          9.4,
          9.6,
          9.5,
          9.6,
          9.1,
          9.3,
          9.1,
          9.5,
          9.4,
          8.9,
          9.2,
          8.7,
          8.5,
          8.9,
          9.1,
          9.4,
          9.3,
          9.2,
          9.2,
          9,
          9.3,
          8.9,
          9.2,
          9.3,
          8.8,
          9.2,
          9.5,
          9.4,
          9.5,
          9.4,
          9.1,
          9,
          9.5,
          9.5,
          9.4,
          9.4,
          9.3,
          9.2,
          9.4,
          9.2,
          9.2,
          9,
          9.4,
          9,
          9.2,
          9.4,
          9.5,
          9.5,
          9.5,
          9,
          9.1,
          9.1,
          9.3,
          9,
          9.2,
          8.8,
          9.1,
          9.3,
          9.3,
          9.2,
          9.1,
          9,
          9,
          8.8,
          9,
          9,
          9.2,
          9,
          9.4,
          9.4,
          8.7,
          9.3,
          9.2,
          9.1,
          9.3,
          9.5,
          9.4,
          9.1,
          9.2,
          9.3,
          9.2,
          9,
          9.3,
          9,
          9.1,
          9.2,
          9.2,
          9.2,
          9.2,
          9.3,
          9.3,
          9.2,
          9.3,
          9.3,
          9.2,
          9.3,
          9.4,
          9.4
         ],
         "xaxis": "x",
         "yaxis": "y"
        },
        {
         "alignmentgroup": "True",
         "bingroup": "x",
         "hovertemplate": "school=Data Science<br>rating=%{x}<br>count=%{y}<extra></extra>",
         "legendgroup": "Data Science",
         "marker": {
          "color": "#EF553B",
          "pattern": {
           "shape": ""
          }
         },
         "name": "Data Science",
         "offsetgroup": "Data Science",
         "orientation": "v",
         "showlegend": true,
         "type": "histogram",
         "x": [
          9.5,
          9.5,
          9.6,
          9.4,
          9.4,
          9.3,
          9.1,
          9,
          9.3,
          9.2,
          9.4,
          9.4,
          9.4,
          9.3,
          9.2,
          9.1,
          9.5,
          9.5,
          9.4,
          9.4,
          9.5,
          9.5,
          9.5,
          9.3,
          9.3,
          9.3,
          9.3,
          9.5,
          9.4,
          9.4,
          9.2,
          8.7,
          9.3,
          9.6,
          9.4,
          9.4,
          9.1,
          9,
          9.2,
          9.4,
          8.7,
          9,
          9.2,
          9.2,
          9,
          9.2,
          9.4,
          9.3,
          9.4,
          9,
          9.3,
          9.3,
          9.1,
          9.2,
          9.3,
          9.1,
          9.2,
          9.4,
          9.2,
          9.3,
          9.5,
          9.1,
          9.2,
          9.4,
          9.2,
          9.3,
          9.6,
          9.4,
          8.9,
          9.4,
          9.3,
          8.9,
          9.3,
          9.4,
          9.3,
          9,
          8.9,
          9,
          8.9,
          9.1,
          9.2,
          9,
          9.2,
          9.2,
          9.2,
          8.9,
          9,
          9.5,
          8.8,
          9.5,
          9.1,
          9.1,
          9.3,
          9.2,
          9,
          9,
          9.2,
          9.1,
          9.2,
          9,
          9.4,
          9.4,
          9.1,
          9.3,
          9.2,
          9.3,
          9.3,
          9,
          8.9,
          9,
          8.9,
          9,
          9.2,
          8.8,
          8.9,
          9.3,
          8.8,
          9.2,
          9.1,
          8.5,
          8.8,
          9,
          9.1,
          9,
          9.2,
          9,
          9.1,
          9,
          9.3,
          9.3,
          9.3,
          9.1,
          8.9,
          9.3,
          9.1,
          8.9,
          9.1,
          9.1,
          9.2,
          9,
          9,
          9.1,
          9,
          9.3,
          9,
          9.1,
          9.2,
          9.1,
          9.2,
          9.2,
          9.1,
          8.8,
          8.9,
          9.2,
          8.8,
          8.8,
          9.6,
          9.5,
          9.1,
          9.3,
          9.4,
          9.6,
          9.6,
          9.5,
          9.6,
          9.4,
          9.5,
          9.4,
          9.3,
          9.5,
          9.5,
          9.5,
          9.5,
          9.4,
          9.5,
          9.6,
          9.2,
          9.1,
          9,
          9,
          9.4,
          9.3,
          9.3,
          9.3,
          9.3,
          9.3,
          9.4,
          9.3,
          9.4,
          9.4,
          9.4,
          9.2,
          9.2,
          9.4,
          9.4,
          9.2,
          9.6,
          9.2,
          9.3,
          9.4,
          9.3,
          9.3,
          9.5,
          9,
          9.2,
          9.3,
          9.2,
          9.2,
          9.3,
          9.3,
          9.1,
          9.1,
          9.2,
          9.1,
          9,
          9,
          9.1,
          9.1,
          8.9,
          9.2,
          9.1,
          9,
          9.1,
          9.2,
          9.1,
          9,
          9.1,
          9.1,
          9.2,
          9.3,
          9.1,
          9.2,
          9.3,
          9.2,
          9.1,
          9.2,
          9.2,
          8.9,
          9,
          9.4,
          9.3,
          9.3,
          9.2,
          9.2,
          9.3,
          9.3,
          9.2,
          9.2,
          9.3,
          9.3,
          9.3,
          9.1
         ],
         "xaxis": "x",
         "yaxis": "y"
        },
        {
         "alignmentgroup": "True",
         "bingroup": "x",
         "hovertemplate": "school=Front-end<br>rating=%{x}<br>count=%{y}<extra></extra>",
         "legendgroup": "Front-end",
         "marker": {
          "color": "#00cc96",
          "pattern": {
           "shape": ""
          }
         },
         "name": "Front-end",
         "offsetgroup": "Front-end",
         "orientation": "v",
         "showlegend": true,
         "type": "histogram",
         "x": [
          9.3,
          9.5,
          9.5,
          9.6,
          9.7,
          9.7,
          9.3,
          9.3,
          9.3,
          9.4,
          9.2,
          9.1,
          9.2,
          9.3,
          9.2,
          9.3,
          9,
          9.2,
          9.3,
          9.1,
          9.1,
          9.2,
          9.1,
          9.3,
          9.2,
          9.2,
          9.1,
          9.3,
          9.3,
          9.2,
          9.3,
          9.6,
          9.3,
          9.2,
          9.4,
          9,
          9.2,
          9.2,
          9.3,
          9.3,
          9.2,
          9.1,
          9.3,
          9.1,
          9.2,
          9.4,
          9.2,
          9.2,
          9.2,
          9.2,
          9.3,
          9.3,
          9.2,
          9,
          9.1,
          9.3,
          9,
          9,
          9.1,
          8.8,
          9.1,
          8.9,
          9,
          9.1,
          9,
          8.9,
          9.2,
          8.7,
          9.2,
          null,
          9.2,
          9.2,
          9.2,
          9.1,
          9.2,
          9.2,
          9.1,
          9,
          9.3,
          9.4,
          9.2,
          9.3,
          9.4,
          9.3,
          9,
          9,
          9.4,
          9.3,
          9.2,
          9.2,
          8.9,
          9.3,
          9.4,
          9.4,
          9,
          9.4,
          9.4,
          9.4,
          9.4,
          9.2,
          9.1,
          8.9,
          9.3,
          9.6,
          9.6,
          9.3,
          9.3,
          9.2,
          9.2,
          9.2,
          9.4,
          9.3,
          9.2,
          9,
          9.3,
          9.5,
          9.4,
          9.4,
          9.3,
          8.9,
          8.9,
          9,
          9.1,
          null,
          9.4,
          9.3,
          9.3,
          9.3
         ],
         "xaxis": "x",
         "yaxis": "y"
        },
        {
         "alignmentgroup": "True",
         "bingroup": "x",
         "hovertemplate": "school=Inteligência Artificial<br>rating=%{x}<br>count=%{y}<extra></extra>",
         "legendgroup": "Inteligência Artificial",
         "marker": {
          "color": "#ab63fa",
          "pattern": {
           "shape": ""
          }
         },
         "name": "Inteligência Artificial",
         "offsetgroup": "Inteligência Artificial",
         "orientation": "v",
         "showlegend": true,
         "type": "histogram",
         "x": [
          8.8,
          9.2,
          9.3,
          9.2,
          9.1,
          9.1,
          9.2,
          9.3,
          9.4,
          9.1,
          9.3,
          9.1,
          9,
          9.2,
          9.1,
          9.2,
          9.1,
          9.2,
          9.2,
          9.2,
          8.9,
          9.1,
          9.2,
          9.3,
          9,
          8.8,
          9.2,
          9.1,
          9.4,
          8.9,
          9.2,
          9,
          9,
          9.3,
          9,
          9,
          9.2,
          9.3,
          9.3,
          9.2,
          9.2,
          9,
          9.1,
          9.1
         ],
         "xaxis": "x",
         "yaxis": "y"
        },
        {
         "alignmentgroup": "True",
         "bingroup": "x",
         "hovertemplate": "school=UX & Design<br>rating=%{x}<br>count=%{y}<extra></extra>",
         "legendgroup": "UX & Design",
         "marker": {
          "color": "#FFA15A",
          "pattern": {
           "shape": ""
          }
         },
         "name": "UX & Design",
         "offsetgroup": "UX & Design",
         "orientation": "v",
         "showlegend": true,
         "type": "histogram",
         "x": [
          9.3,
          9.3,
          9.4,
          9.3,
          9.1,
          9.1,
          8.9,
          9.5,
          9.6,
          9.6,
          9.3,
          8.9,
          9.5,
          9.4,
          9.3,
          9.3,
          9.4,
          9.3,
          9.2,
          9.4,
          9.4,
          9.2,
          9.3,
          9.1,
          9.3,
          9.3,
          9.1,
          9.2,
          9.2,
          9.2,
          9.2,
          9.2,
          9.2,
          9.5,
          9.2,
          9.2,
          9.2,
          8.7,
          8.7,
          9.3,
          8.9,
          9.4,
          9,
          9.4,
          9.4,
          9.3,
          9.2,
          9.3,
          9.2,
          9.2,
          9.3,
          8.9,
          9,
          9.4,
          9.3,
          9.4,
          9.3,
          9.4,
          9.3,
          9.4,
          8.9,
          9.3,
          9.1,
          9.2,
          9.3,
          9.2,
          9.2,
          9.3,
          9.3,
          9.3,
          8.9,
          9.2,
          9.3,
          9.2,
          9.2,
          9.2,
          9.2,
          9.1,
          9,
          9.3,
          8.9,
          9,
          9.2,
          9.3,
          9.1,
          9.1,
          9.2,
          9.3,
          9.3,
          9.2,
          9.2,
          9.4,
          9.2,
          9.3,
          9.4,
          9,
          9.3,
          9.1,
          9.3,
          9.5,
          9.3,
          9.2,
          9.4,
          9.4,
          9.3,
          9.1,
          9.3,
          9.3,
          9.4,
          9.4,
          9.4,
          9.3,
          9.4,
          9.3,
          9.5,
          9.2,
          9.3,
          9.2,
          9.1,
          9.4,
          9.3,
          9.3,
          9.4,
          9.3,
          9.4,
          9.3,
          9.1,
          9.4,
          9.3,
          9.3,
          9.4,
          9.5,
          9.3,
          9.4,
          9.2,
          9.3,
          9.3,
          9.4,
          9.4,
          9.3,
          9.3,
          9.2,
          9.2,
          9.3,
          9.4,
          9.3,
          9.3,
          9.4,
          9.2,
          9.2,
          9.2,
          9.3,
          9.3,
          9.4,
          9.4,
          9.1,
          9,
          8.8,
          8.8,
          9.6,
          9.3,
          9.4,
          9.3,
          9.3,
          9.3,
          9.2,
          9.1,
          9.4,
          9,
          9.1,
          9.5,
          9.4,
          9.2,
          9,
          9.1,
          9.1,
          9.4,
          8.9,
          9,
          9.1,
          null,
          9.1,
          9.1,
          9.1,
          9,
          9.1,
          9.2,
          9.1,
          9.3,
          9.3,
          9.1,
          9.3,
          9.5,
          9.4,
          9.2,
          9.4,
          9.5,
          9.3,
          9.4,
          9.3,
          9.3,
          9.3,
          9.4,
          9.3,
          9.2,
          9.3,
          9.1,
          9.4,
          9.2,
          9.3,
          9.2,
          9.3,
          9.2,
          9.3,
          9.3,
          9.3,
          9.2,
          9.3,
          9.4,
          9.4,
          9.3,
          9.4,
          9.3,
          9.1,
          9.2,
          9.4,
          9.2,
          9.4,
          9.4,
          9.4,
          9.3,
          9.3,
          9.2,
          9.2,
          9.5
         ],
         "xaxis": "x",
         "yaxis": "y"
        },
        {
         "alignmentgroup": "True",
         "bingroup": "x",
         "hovertemplate": "school=DevOps<br>rating=%{x}<br>count=%{y}<extra></extra>",
         "legendgroup": "DevOps",
         "marker": {
          "color": "#19d3f3",
          "pattern": {
           "shape": ""
          }
         },
         "name": "DevOps",
         "offsetgroup": "DevOps",
         "orientation": "v",
         "showlegend": true,
         "type": "histogram",
         "x": [
          9.3,
          8.9,
          9.2,
          9.2,
          8.9,
          9.1,
          9,
          9,
          9.1,
          9.1,
          9.4,
          9.1,
          9.2,
          9.1,
          9.2,
          9.5,
          8.9,
          9.4,
          9.3,
          9.2,
          9.3,
          9.2,
          9.2,
          9.2,
          9.3,
          9.2,
          9.2,
          9,
          9.1,
          9.2,
          9.2,
          9.2,
          9.3,
          9.2,
          9.3,
          9.3,
          9.2,
          9.3,
          9.4,
          9.4,
          9.3,
          9.3,
          9.4,
          9.5,
          9.5,
          9.4,
          8.9,
          9.1,
          9.1,
          9.1,
          9.1,
          9.4,
          9.1,
          9.3,
          9.2,
          9.2,
          9.3,
          9.1,
          9.1,
          9.2,
          9.1,
          9,
          9.1,
          8.9,
          9.3,
          9.2,
          9.3,
          9.3,
          9.3,
          9.3,
          9.3,
          9.1,
          9.3,
          9.3,
          9.2,
          9.2,
          9.1,
          9.3,
          9,
          9.2,
          8.9,
          9.3,
          9.2,
          9.2,
          9.2,
          9.2,
          9.2,
          9.3,
          9.3,
          9.3,
          9.2,
          9.2,
          9.3,
          9.3,
          9.2,
          9.1,
          9,
          9.1,
          9.5,
          9.4,
          9.4,
          9.2,
          8.8,
          9.2,
          9.3,
          9.1,
          9.1,
          9.2,
          9.2,
          9,
          9.1,
          9,
          9.3,
          9.4,
          9.3,
          9.3,
          8.9,
          9.4,
          9.2,
          9.3,
          9.3,
          9.2,
          9.2,
          9.3,
          9.4,
          9.2,
          9.2,
          9.3
         ],
         "xaxis": "x",
         "yaxis": "y"
        },
        {
         "alignmentgroup": "True",
         "bingroup": "x",
         "hovertemplate": "school=Inovação & Gestão<br>rating=%{x}<br>count=%{y}<extra></extra>",
         "legendgroup": "Inovação & Gestão",
         "marker": {
          "color": "#FF6692",
          "pattern": {
           "shape": ""
          }
         },
         "name": "Inovação & Gestão",
         "offsetgroup": "Inovação & Gestão",
         "orientation": "v",
         "showlegend": true,
         "type": "histogram",
         "x": [
          9.2,
          9.4,
          9.3,
          9.2,
          9.3,
          9.2,
          9.2,
          9.2,
          9.4,
          9.3,
          9.3,
          9.3,
          9.3,
          9.3,
          9.3,
          9.3,
          9.3,
          9.4,
          9.2,
          9.4,
          9.3,
          9.3,
          9.3,
          9.3,
          9.4,
          9.3,
          9,
          9.2,
          9.4,
          9.3,
          9.4,
          9.3,
          9.3,
          9.3,
          9.3,
          9.2,
          9.1,
          9.1,
          9.2,
          9.2,
          9.1,
          9.2,
          9.1,
          9.1,
          9.1,
          9.2,
          9.2,
          9.3,
          9.1,
          9.5,
          9,
          9.4,
          9.2,
          9.3,
          9.3,
          9.3,
          9.1,
          9.2,
          9.2,
          9.4,
          9.3,
          9.3,
          9.3,
          9.4,
          9.4,
          9.3,
          9.4,
          9.4,
          9.3,
          9.3,
          9.3,
          9.4,
          9.1,
          9.2,
          9.3,
          9.3,
          9.4,
          9.4,
          9.4,
          9.4,
          9.3,
          9.3,
          9.2,
          9.2,
          9.3,
          9.2,
          9.2,
          9.3,
          9.3,
          9.3,
          9.3,
          9.3,
          9.2,
          9.3,
          9.3,
          9.3,
          9.3,
          9.4,
          9.5,
          9.3,
          9.3,
          9.3,
          9.3,
          9.3,
          9.3,
          9.2,
          9.1,
          9.2,
          9.4,
          9.3,
          8.5,
          9.1,
          9.2,
          9.2,
          9.3,
          9,
          9,
          9.3,
          9.2,
          9.2,
          9.2,
          9.2,
          9.2,
          9.4,
          9.3,
          9.3,
          9.3,
          9.3,
          9.2,
          9.2,
          9.4,
          9,
          9.2,
          9.3,
          9.4,
          9.4,
          9.3,
          9.3,
          9.3,
          9.4,
          9.4,
          9.3,
          9.3,
          9.3,
          9.3,
          9.2,
          9.1,
          9.2,
          9.3,
          9.4,
          9.3,
          9.3,
          9.3,
          9.3,
          9.3,
          9.3,
          9.4,
          9.3,
          9.2,
          9.2,
          9.1,
          9.3,
          8.4,
          9.2,
          9.3,
          9.3,
          9.2,
          9.1,
          9.3,
          9.3,
          9.2,
          9.3,
          9.3,
          9.2,
          9.4,
          9.3,
          9,
          null,
          9.2,
          9.1,
          9,
          9.2,
          9,
          9.1,
          9,
          9.2,
          9.4,
          9.2,
          9,
          9.1,
          9.4,
          9.2,
          9.2,
          9.3,
          9.1,
          9.1,
          9.2,
          9.2,
          9.1,
          9.3,
          9.2,
          9.2,
          9.2,
          9.2,
          9.2,
          9.3,
          9.2,
          9.1,
          9.3,
          9.2,
          9.1,
          9,
          9.2,
          9.4,
          9.3,
          9.2,
          9,
          9.2,
          9.3,
          9.3,
          9.3,
          9.2,
          9.2,
          9.2,
          9.4,
          9.4,
          9.1,
          9.3,
          9.2,
          9.3,
          9.3,
          9.1,
          9.3,
          9.2,
          9.3,
          9.3,
          9.1,
          9.2,
          9.1,
          9,
          9.2,
          9.2,
          9.3,
          9.3,
          9.2,
          9.2,
          9.4,
          9.4,
          9.4,
          9.5,
          8.9,
          9.2,
          9.3,
          9.2,
          8.9,
          9.2,
          9.2,
          9.1,
          9,
          9,
          9.2,
          9.2,
          9.2,
          9.2,
          9.3,
          9.3,
          8.8,
          9.2,
          9.2,
          9.2,
          9.2,
          9.2,
          9,
          9.3,
          9.2,
          9.4,
          9.2,
          9.3,
          9.2,
          9.4,
          9.2,
          9.3,
          9.3,
          9.3,
          9.3,
          9.3,
          9.2,
          9.2,
          9.3,
          9.3,
          9.3
         ],
         "xaxis": "x",
         "yaxis": "y"
        },
        {
         "alignmentgroup": "True",
         "bingroup": "x",
         "hovertemplate": "school=Mobile<br>rating=%{x}<br>count=%{y}<extra></extra>",
         "legendgroup": "Mobile",
         "marker": {
          "color": "#B6E880",
          "pattern": {
           "shape": ""
          }
         },
         "name": "Mobile",
         "offsetgroup": "Mobile",
         "orientation": "v",
         "showlegend": true,
         "type": "histogram",
         "x": [
          9.3,
          9.2,
          9.1,
          9.2,
          9.3,
          9.3,
          9.3,
          9.1,
          9.2,
          9,
          9.3,
          9.1,
          8.9,
          8.7,
          9.1,
          8.8,
          9.1,
          9,
          null,
          9.2,
          9.1,
          9.2,
          9.1,
          9.2,
          9.2,
          9.3,
          8.8,
          9.1,
          8.8,
          9.2,
          9.6,
          9.5,
          9.3,
          8.8,
          8.8,
          9.2,
          9.4,
          9.3,
          9.2,
          9.1,
          9.2,
          8.8,
          9.3,
          9.4,
          9.4,
          9.3,
          9.1,
          9.2,
          9.1,
          8.9,
          8.8,
          8.9,
          9.2,
          9.4,
          9.4,
          9.3,
          9.3,
          9.3,
          9.2,
          9.3,
          9.3,
          9.5,
          9.4,
          9.4,
          9.4,
          9.3,
          8.9,
          9.1,
          9.3,
          9.1,
          9.2,
          9.1,
          9,
          9.2,
          9.2,
          9.3,
          9.3,
          9.3,
          9.3,
          9.2,
          8.9,
          9.3,
          9.4,
          9.2,
          9.3,
          9.1,
          9.3,
          9.3,
          9.2,
          9.2,
          8.7,
          9.5,
          9.5,
          9.3,
          9.2,
          9.3,
          9,
          9.1,
          9.4,
          9.1,
          9.1,
          8.9,
          8.8,
          9.4,
          9.4,
          9,
          8.9,
          9,
          9,
          9.1,
          9.1,
          9.1,
          9.1,
          9.4,
          9.1,
          9.4,
          9.3,
          9.3,
          9.4,
          9.2,
          9.2,
          9.3,
          9,
          9.2,
          9,
          9.1,
          9.2,
          9.2
         ],
         "xaxis": "x",
         "yaxis": "y"
        }
       ],
       "layout": {
        "barmode": "relative",
        "height": 500,
        "legend": {
         "title": {
          "text": "school"
         },
         "tracegroupgap": 0
        },
        "margin": {
         "t": 60
        },
        "template": {
         "data": {
          "bar": [
           {
            "error_x": {
             "color": "#f2f5fa"
            },
            "error_y": {
             "color": "#f2f5fa"
            },
            "marker": {
             "line": {
              "color": "rgb(17,17,17)",
              "width": 0.5
             },
             "pattern": {
              "fillmode": "overlay",
              "size": 10,
              "solidity": 0.2
             }
            },
            "type": "bar"
           }
          ],
          "barpolar": [
           {
            "marker": {
             "line": {
              "color": "rgb(17,17,17)",
              "width": 0.5
             },
             "pattern": {
              "fillmode": "overlay",
              "size": 10,
              "solidity": 0.2
             }
            },
            "type": "barpolar"
           }
          ],
          "carpet": [
           {
            "aaxis": {
             "endlinecolor": "#A2B1C6",
             "gridcolor": "#506784",
             "linecolor": "#506784",
             "minorgridcolor": "#506784",
             "startlinecolor": "#A2B1C6"
            },
            "baxis": {
             "endlinecolor": "#A2B1C6",
             "gridcolor": "#506784",
             "linecolor": "#506784",
             "minorgridcolor": "#506784",
             "startlinecolor": "#A2B1C6"
            },
            "type": "carpet"
           }
          ],
          "choropleth": [
           {
            "colorbar": {
             "outlinewidth": 0,
             "ticks": ""
            },
            "type": "choropleth"
           }
          ],
          "contour": [
           {
            "colorbar": {
             "outlinewidth": 0,
             "ticks": ""
            },
            "colorscale": [
             [
              0,
              "#0d0887"
             ],
             [
              0.1111111111111111,
              "#46039f"
             ],
             [
              0.2222222222222222,
              "#7201a8"
             ],
             [
              0.3333333333333333,
              "#9c179e"
             ],
             [
              0.4444444444444444,
              "#bd3786"
             ],
             [
              0.5555555555555556,
              "#d8576b"
             ],
             [
              0.6666666666666666,
              "#ed7953"
             ],
             [
              0.7777777777777778,
              "#fb9f3a"
             ],
             [
              0.8888888888888888,
              "#fdca26"
             ],
             [
              1,
              "#f0f921"
             ]
            ],
            "type": "contour"
           }
          ],
          "contourcarpet": [
           {
            "colorbar": {
             "outlinewidth": 0,
             "ticks": ""
            },
            "type": "contourcarpet"
           }
          ],
          "heatmap": [
           {
            "colorbar": {
             "outlinewidth": 0,
             "ticks": ""
            },
            "colorscale": [
             [
              0,
              "#0d0887"
             ],
             [
              0.1111111111111111,
              "#46039f"
             ],
             [
              0.2222222222222222,
              "#7201a8"
             ],
             [
              0.3333333333333333,
              "#9c179e"
             ],
             [
              0.4444444444444444,
              "#bd3786"
             ],
             [
              0.5555555555555556,
              "#d8576b"
             ],
             [
              0.6666666666666666,
              "#ed7953"
             ],
             [
              0.7777777777777778,
              "#fb9f3a"
             ],
             [
              0.8888888888888888,
              "#fdca26"
             ],
             [
              1,
              "#f0f921"
             ]
            ],
            "type": "heatmap"
           }
          ],
          "heatmapgl": [
           {
            "colorbar": {
             "outlinewidth": 0,
             "ticks": ""
            },
            "colorscale": [
             [
              0,
              "#0d0887"
             ],
             [
              0.1111111111111111,
              "#46039f"
             ],
             [
              0.2222222222222222,
              "#7201a8"
             ],
             [
              0.3333333333333333,
              "#9c179e"
             ],
             [
              0.4444444444444444,
              "#bd3786"
             ],
             [
              0.5555555555555556,
              "#d8576b"
             ],
             [
              0.6666666666666666,
              "#ed7953"
             ],
             [
              0.7777777777777778,
              "#fb9f3a"
             ],
             [
              0.8888888888888888,
              "#fdca26"
             ],
             [
              1,
              "#f0f921"
             ]
            ],
            "type": "heatmapgl"
           }
          ],
          "histogram": [
           {
            "marker": {
             "pattern": {
              "fillmode": "overlay",
              "size": 10,
              "solidity": 0.2
             }
            },
            "type": "histogram"
           }
          ],
          "histogram2d": [
           {
            "colorbar": {
             "outlinewidth": 0,
             "ticks": ""
            },
            "colorscale": [
             [
              0,
              "#0d0887"
             ],
             [
              0.1111111111111111,
              "#46039f"
             ],
             [
              0.2222222222222222,
              "#7201a8"
             ],
             [
              0.3333333333333333,
              "#9c179e"
             ],
             [
              0.4444444444444444,
              "#bd3786"
             ],
             [
              0.5555555555555556,
              "#d8576b"
             ],
             [
              0.6666666666666666,
              "#ed7953"
             ],
             [
              0.7777777777777778,
              "#fb9f3a"
             ],
             [
              0.8888888888888888,
              "#fdca26"
             ],
             [
              1,
              "#f0f921"
             ]
            ],
            "type": "histogram2d"
           }
          ],
          "histogram2dcontour": [
           {
            "colorbar": {
             "outlinewidth": 0,
             "ticks": ""
            },
            "colorscale": [
             [
              0,
              "#0d0887"
             ],
             [
              0.1111111111111111,
              "#46039f"
             ],
             [
              0.2222222222222222,
              "#7201a8"
             ],
             [
              0.3333333333333333,
              "#9c179e"
             ],
             [
              0.4444444444444444,
              "#bd3786"
             ],
             [
              0.5555555555555556,
              "#d8576b"
             ],
             [
              0.6666666666666666,
              "#ed7953"
             ],
             [
              0.7777777777777778,
              "#fb9f3a"
             ],
             [
              0.8888888888888888,
              "#fdca26"
             ],
             [
              1,
              "#f0f921"
             ]
            ],
            "type": "histogram2dcontour"
           }
          ],
          "mesh3d": [
           {
            "colorbar": {
             "outlinewidth": 0,
             "ticks": ""
            },
            "type": "mesh3d"
           }
          ],
          "parcoords": [
           {
            "line": {
             "colorbar": {
              "outlinewidth": 0,
              "ticks": ""
             }
            },
            "type": "parcoords"
           }
          ],
          "pie": [
           {
            "automargin": true,
            "type": "pie"
           }
          ],
          "scatter": [
           {
            "marker": {
             "line": {
              "color": "#283442"
             }
            },
            "type": "scatter"
           }
          ],
          "scatter3d": [
           {
            "line": {
             "colorbar": {
              "outlinewidth": 0,
              "ticks": ""
             }
            },
            "marker": {
             "colorbar": {
              "outlinewidth": 0,
              "ticks": ""
             }
            },
            "type": "scatter3d"
           }
          ],
          "scattercarpet": [
           {
            "marker": {
             "colorbar": {
              "outlinewidth": 0,
              "ticks": ""
             }
            },
            "type": "scattercarpet"
           }
          ],
          "scattergeo": [
           {
            "marker": {
             "colorbar": {
              "outlinewidth": 0,
              "ticks": ""
             }
            },
            "type": "scattergeo"
           }
          ],
          "scattergl": [
           {
            "marker": {
             "line": {
              "color": "#283442"
             }
            },
            "type": "scattergl"
           }
          ],
          "scattermapbox": [
           {
            "marker": {
             "colorbar": {
              "outlinewidth": 0,
              "ticks": ""
             }
            },
            "type": "scattermapbox"
           }
          ],
          "scatterpolar": [
           {
            "marker": {
             "colorbar": {
              "outlinewidth": 0,
              "ticks": ""
             }
            },
            "type": "scatterpolar"
           }
          ],
          "scatterpolargl": [
           {
            "marker": {
             "colorbar": {
              "outlinewidth": 0,
              "ticks": ""
             }
            },
            "type": "scatterpolargl"
           }
          ],
          "scatterternary": [
           {
            "marker": {
             "colorbar": {
              "outlinewidth": 0,
              "ticks": ""
             }
            },
            "type": "scatterternary"
           }
          ],
          "surface": [
           {
            "colorbar": {
             "outlinewidth": 0,
             "ticks": ""
            },
            "colorscale": [
             [
              0,
              "#0d0887"
             ],
             [
              0.1111111111111111,
              "#46039f"
             ],
             [
              0.2222222222222222,
              "#7201a8"
             ],
             [
              0.3333333333333333,
              "#9c179e"
             ],
             [
              0.4444444444444444,
              "#bd3786"
             ],
             [
              0.5555555555555556,
              "#d8576b"
             ],
             [
              0.6666666666666666,
              "#ed7953"
             ],
             [
              0.7777777777777778,
              "#fb9f3a"
             ],
             [
              0.8888888888888888,
              "#fdca26"
             ],
             [
              1,
              "#f0f921"
             ]
            ],
            "type": "surface"
           }
          ],
          "table": [
           {
            "cells": {
             "fill": {
              "color": "#506784"
             },
             "line": {
              "color": "rgb(17,17,17)"
             }
            },
            "header": {
             "fill": {
              "color": "#2a3f5f"
             },
             "line": {
              "color": "rgb(17,17,17)"
             }
            },
            "type": "table"
           }
          ]
         },
         "layout": {
          "annotationdefaults": {
           "arrowcolor": "#f2f5fa",
           "arrowhead": 0,
           "arrowwidth": 1
          },
          "autotypenumbers": "strict",
          "coloraxis": {
           "colorbar": {
            "outlinewidth": 0,
            "ticks": ""
           }
          },
          "colorscale": {
           "diverging": [
            [
             0,
             "#8e0152"
            ],
            [
             0.1,
             "#c51b7d"
            ],
            [
             0.2,
             "#de77ae"
            ],
            [
             0.3,
             "#f1b6da"
            ],
            [
             0.4,
             "#fde0ef"
            ],
            [
             0.5,
             "#f7f7f7"
            ],
            [
             0.6,
             "#e6f5d0"
            ],
            [
             0.7,
             "#b8e186"
            ],
            [
             0.8,
             "#7fbc41"
            ],
            [
             0.9,
             "#4d9221"
            ],
            [
             1,
             "#276419"
            ]
           ],
           "sequential": [
            [
             0,
             "#0d0887"
            ],
            [
             0.1111111111111111,
             "#46039f"
            ],
            [
             0.2222222222222222,
             "#7201a8"
            ],
            [
             0.3333333333333333,
             "#9c179e"
            ],
            [
             0.4444444444444444,
             "#bd3786"
            ],
            [
             0.5555555555555556,
             "#d8576b"
            ],
            [
             0.6666666666666666,
             "#ed7953"
            ],
            [
             0.7777777777777778,
             "#fb9f3a"
            ],
            [
             0.8888888888888888,
             "#fdca26"
            ],
            [
             1,
             "#f0f921"
            ]
           ],
           "sequentialminus": [
            [
             0,
             "#0d0887"
            ],
            [
             0.1111111111111111,
             "#46039f"
            ],
            [
             0.2222222222222222,
             "#7201a8"
            ],
            [
             0.3333333333333333,
             "#9c179e"
            ],
            [
             0.4444444444444444,
             "#bd3786"
            ],
            [
             0.5555555555555556,
             "#d8576b"
            ],
            [
             0.6666666666666666,
             "#ed7953"
            ],
            [
             0.7777777777777778,
             "#fb9f3a"
            ],
            [
             0.8888888888888888,
             "#fdca26"
            ],
            [
             1,
             "#f0f921"
            ]
           ]
          },
          "colorway": [
           "#636efa",
           "#EF553B",
           "#00cc96",
           "#ab63fa",
           "#FFA15A",
           "#19d3f3",
           "#FF6692",
           "#B6E880",
           "#FF97FF",
           "#FECB52"
          ],
          "font": {
           "color": "#f2f5fa"
          },
          "geo": {
           "bgcolor": "rgb(17,17,17)",
           "lakecolor": "rgb(17,17,17)",
           "landcolor": "rgb(17,17,17)",
           "showlakes": true,
           "showland": true,
           "subunitcolor": "#506784"
          },
          "hoverlabel": {
           "align": "left"
          },
          "hovermode": "closest",
          "mapbox": {
           "style": "dark"
          },
          "paper_bgcolor": "rgb(17,17,17)",
          "plot_bgcolor": "rgb(17,17,17)",
          "polar": {
           "angularaxis": {
            "gridcolor": "#506784",
            "linecolor": "#506784",
            "ticks": ""
           },
           "bgcolor": "rgb(17,17,17)",
           "radialaxis": {
            "gridcolor": "#506784",
            "linecolor": "#506784",
            "ticks": ""
           }
          },
          "scene": {
           "xaxis": {
            "backgroundcolor": "rgb(17,17,17)",
            "gridcolor": "#506784",
            "gridwidth": 2,
            "linecolor": "#506784",
            "showbackground": true,
            "ticks": "",
            "zerolinecolor": "#C8D4E3"
           },
           "yaxis": {
            "backgroundcolor": "rgb(17,17,17)",
            "gridcolor": "#506784",
            "gridwidth": 2,
            "linecolor": "#506784",
            "showbackground": true,
            "ticks": "",
            "zerolinecolor": "#C8D4E3"
           },
           "zaxis": {
            "backgroundcolor": "rgb(17,17,17)",
            "gridcolor": "#506784",
            "gridwidth": 2,
            "linecolor": "#506784",
            "showbackground": true,
            "ticks": "",
            "zerolinecolor": "#C8D4E3"
           }
          },
          "shapedefaults": {
           "line": {
            "color": "#f2f5fa"
           }
          },
          "sliderdefaults": {
           "bgcolor": "#C8D4E3",
           "bordercolor": "rgb(17,17,17)",
           "borderwidth": 1,
           "tickwidth": 0
          },
          "ternary": {
           "aaxis": {
            "gridcolor": "#506784",
            "linecolor": "#506784",
            "ticks": ""
           },
           "baxis": {
            "gridcolor": "#506784",
            "linecolor": "#506784",
            "ticks": ""
           },
           "bgcolor": "rgb(17,17,17)",
           "caxis": {
            "gridcolor": "#506784",
            "linecolor": "#506784",
            "ticks": ""
           }
          },
          "title": {
           "x": 0.05
          },
          "updatemenudefaults": {
           "bgcolor": "#506784",
           "borderwidth": 0
          },
          "xaxis": {
           "automargin": true,
           "gridcolor": "#283442",
           "linecolor": "#506784",
           "ticks": "",
           "title": {
            "standoff": 15
           },
           "zerolinecolor": "#283442",
           "zerolinewidth": 2
          },
          "yaxis": {
           "automargin": true,
           "gridcolor": "#283442",
           "linecolor": "#506784",
           "ticks": "",
           "title": {
            "standoff": 15
           },
           "zerolinecolor": "#283442",
           "zerolinewidth": 2
          }
         }
        },
        "xaxis": {
         "anchor": "y",
         "domain": [
          0,
          1
         ],
         "title": {
          "text": "rating"
         }
        },
        "yaxis": {
         "anchor": "x",
         "domain": [
          0,
          1
         ],
         "title": {
          "text": "count"
         }
        }
       }
      }
     },
     "metadata": {},
     "output_type": "display_data"
    }
   ],
   "source": [
    "px.histogram(df, x=\"rating\", color=\"school\", height=500,\n",
    "               hover_data=df.columns)"
   ]
  },
  {
   "cell_type": "code",
   "execution_count": 29,
   "metadata": {},
   "outputs": [
    {
     "data": {
      "application/vnd.plotly.v1+json": {
       "config": {
        "plotlyServerURL": "https://plot.ly"
       },
       "data": [
        {
         "alignmentgroup": "True",
         "hovertemplate": "school=Programação<br>rating=%{x}<extra></extra>",
         "legendgroup": "Programação",
         "marker": {
          "color": "#636efa"
         },
         "name": "Programação",
         "notched": false,
         "offsetgroup": "Programação",
         "orientation": "h",
         "showlegend": true,
         "type": "box",
         "x": [
          9.5,
          9.3,
          9.6,
          9.6,
          9.3,
          9.4,
          9.1,
          9.4,
          9.3,
          9.4,
          9.3,
          9.2,
          9.2,
          9.4,
          9.3,
          9.4,
          9.2,
          9.4,
          8.9,
          9.3,
          9.4,
          9,
          9.3,
          9.4,
          9.4,
          9.4,
          9.3,
          9.3,
          9.2,
          9.4,
          9.2,
          9.1,
          8.8,
          9.2,
          9,
          9.3,
          9.2,
          9.3,
          8.7,
          9.2,
          9.5,
          8.7,
          9.1,
          9.2,
          9.2,
          9.4,
          9,
          9,
          9.2,
          9.3,
          9.1,
          9.2,
          8.9,
          9.3,
          9.2,
          null,
          9.5,
          9.5,
          9.5,
          9.5,
          9.4,
          9.6,
          9.5,
          9.4,
          9.4,
          9.5,
          9.5,
          9.2,
          9.4,
          9.3,
          9.3,
          9.5,
          9.4,
          9.6,
          9.4,
          9.4,
          9.2,
          9.4,
          9.4,
          9.4,
          9.4,
          9.4,
          9.4,
          9.4,
          9.5,
          9.3,
          9.5,
          9.3,
          9.5,
          9.5,
          9.5,
          9.5,
          9.4,
          9.5,
          9.3,
          9.4,
          9.4,
          9.1,
          9.4,
          9.2,
          8.8,
          8.9,
          9.3,
          9.2,
          9.5,
          9.5,
          9.4,
          9.4,
          9.4,
          9.4,
          9.4,
          9.2,
          9.2,
          9,
          9.1,
          9.2,
          9.2,
          9.4,
          9.2,
          9.4,
          9.1,
          9.2,
          9.3,
          9.3,
          9.2,
          9.2,
          9.2,
          9.3,
          9.1,
          9.2,
          9.4,
          9.4,
          9.1,
          9.2,
          9.1,
          9.4,
          9.4,
          9.6,
          9.5,
          9.6,
          9.1,
          9.3,
          9.1,
          9.5,
          9.4,
          8.9,
          9.2,
          8.7,
          8.5,
          8.9,
          9.1,
          9.4,
          9.3,
          9.2,
          9.2,
          9,
          9.3,
          8.9,
          9.2,
          9.3,
          8.8,
          9.2,
          9.5,
          9.4,
          9.5,
          9.4,
          9.1,
          9,
          9.5,
          9.5,
          9.4,
          9.4,
          9.3,
          9.2,
          9.4,
          9.2,
          9.2,
          9,
          9.4,
          9,
          9.2,
          9.4,
          9.5,
          9.5,
          9.5,
          9,
          9.1,
          9.1,
          9.3,
          9,
          9.2,
          8.8,
          9.1,
          9.3,
          9.3,
          9.2,
          9.1,
          9,
          9,
          8.8,
          9,
          9,
          9.2,
          9,
          9.4,
          9.4,
          8.7,
          9.3,
          9.2,
          9.1,
          9.3,
          9.5,
          9.4,
          9.1,
          9.2,
          9.3,
          9.2,
          9,
          9.3,
          9,
          9.1,
          9.2,
          9.2,
          9.2,
          9.2,
          9.3,
          9.3,
          9.2,
          9.3,
          9.3,
          9.2,
          9.3,
          9.4,
          9.4
         ],
         "x0": " ",
         "xaxis": "x",
         "y0": " ",
         "yaxis": "y"
        },
        {
         "alignmentgroup": "True",
         "hovertemplate": "school=Data Science<br>rating=%{x}<extra></extra>",
         "legendgroup": "Data Science",
         "marker": {
          "color": "#EF553B"
         },
         "name": "Data Science",
         "notched": false,
         "offsetgroup": "Data Science",
         "orientation": "h",
         "showlegend": true,
         "type": "box",
         "x": [
          9.5,
          9.5,
          9.6,
          9.4,
          9.4,
          9.3,
          9.1,
          9,
          9.3,
          9.2,
          9.4,
          9.4,
          9.4,
          9.3,
          9.2,
          9.1,
          9.5,
          9.5,
          9.4,
          9.4,
          9.5,
          9.5,
          9.5,
          9.3,
          9.3,
          9.3,
          9.3,
          9.5,
          9.4,
          9.4,
          9.2,
          8.7,
          9.3,
          9.6,
          9.4,
          9.4,
          9.1,
          9,
          9.2,
          9.4,
          8.7,
          9,
          9.2,
          9.2,
          9,
          9.2,
          9.4,
          9.3,
          9.4,
          9,
          9.3,
          9.3,
          9.1,
          9.2,
          9.3,
          9.1,
          9.2,
          9.4,
          9.2,
          9.3,
          9.5,
          9.1,
          9.2,
          9.4,
          9.2,
          9.3,
          9.6,
          9.4,
          8.9,
          9.4,
          9.3,
          8.9,
          9.3,
          9.4,
          9.3,
          9,
          8.9,
          9,
          8.9,
          9.1,
          9.2,
          9,
          9.2,
          9.2,
          9.2,
          8.9,
          9,
          9.5,
          8.8,
          9.5,
          9.1,
          9.1,
          9.3,
          9.2,
          9,
          9,
          9.2,
          9.1,
          9.2,
          9,
          9.4,
          9.4,
          9.1,
          9.3,
          9.2,
          9.3,
          9.3,
          9,
          8.9,
          9,
          8.9,
          9,
          9.2,
          8.8,
          8.9,
          9.3,
          8.8,
          9.2,
          9.1,
          8.5,
          8.8,
          9,
          9.1,
          9,
          9.2,
          9,
          9.1,
          9,
          9.3,
          9.3,
          9.3,
          9.1,
          8.9,
          9.3,
          9.1,
          8.9,
          9.1,
          9.1,
          9.2,
          9,
          9,
          9.1,
          9,
          9.3,
          9,
          9.1,
          9.2,
          9.1,
          9.2,
          9.2,
          9.1,
          8.8,
          8.9,
          9.2,
          8.8,
          8.8,
          9.6,
          9.5,
          9.1,
          9.3,
          9.4,
          9.6,
          9.6,
          9.5,
          9.6,
          9.4,
          9.5,
          9.4,
          9.3,
          9.5,
          9.5,
          9.5,
          9.5,
          9.4,
          9.5,
          9.6,
          9.2,
          9.1,
          9,
          9,
          9.4,
          9.3,
          9.3,
          9.3,
          9.3,
          9.3,
          9.4,
          9.3,
          9.4,
          9.4,
          9.4,
          9.2,
          9.2,
          9.4,
          9.4,
          9.2,
          9.6,
          9.2,
          9.3,
          9.4,
          9.3,
          9.3,
          9.5,
          9,
          9.2,
          9.3,
          9.2,
          9.2,
          9.3,
          9.3,
          9.1,
          9.1,
          9.2,
          9.1,
          9,
          9,
          9.1,
          9.1,
          8.9,
          9.2,
          9.1,
          9,
          9.1,
          9.2,
          9.1,
          9,
          9.1,
          9.1,
          9.2,
          9.3,
          9.1,
          9.2,
          9.3,
          9.2,
          9.1,
          9.2,
          9.2,
          8.9,
          9,
          9.4,
          9.3,
          9.3,
          9.2,
          9.2,
          9.3,
          9.3,
          9.2,
          9.2,
          9.3,
          9.3,
          9.3,
          9.1
         ],
         "x0": " ",
         "xaxis": "x",
         "y0": " ",
         "yaxis": "y"
        },
        {
         "alignmentgroup": "True",
         "hovertemplate": "school=Front-end<br>rating=%{x}<extra></extra>",
         "legendgroup": "Front-end",
         "marker": {
          "color": "#00cc96"
         },
         "name": "Front-end",
         "notched": false,
         "offsetgroup": "Front-end",
         "orientation": "h",
         "showlegend": true,
         "type": "box",
         "x": [
          9.3,
          9.5,
          9.5,
          9.6,
          9.7,
          9.7,
          9.3,
          9.3,
          9.3,
          9.4,
          9.2,
          9.1,
          9.2,
          9.3,
          9.2,
          9.3,
          9,
          9.2,
          9.3,
          9.1,
          9.1,
          9.2,
          9.1,
          9.3,
          9.2,
          9.2,
          9.1,
          9.3,
          9.3,
          9.2,
          9.3,
          9.6,
          9.3,
          9.2,
          9.4,
          9,
          9.2,
          9.2,
          9.3,
          9.3,
          9.2,
          9.1,
          9.3,
          9.1,
          9.2,
          9.4,
          9.2,
          9.2,
          9.2,
          9.2,
          9.3,
          9.3,
          9.2,
          9,
          9.1,
          9.3,
          9,
          9,
          9.1,
          8.8,
          9.1,
          8.9,
          9,
          9.1,
          9,
          8.9,
          9.2,
          8.7,
          9.2,
          null,
          9.2,
          9.2,
          9.2,
          9.1,
          9.2,
          9.2,
          9.1,
          9,
          9.3,
          9.4,
          9.2,
          9.3,
          9.4,
          9.3,
          9,
          9,
          9.4,
          9.3,
          9.2,
          9.2,
          8.9,
          9.3,
          9.4,
          9.4,
          9,
          9.4,
          9.4,
          9.4,
          9.4,
          9.2,
          9.1,
          8.9,
          9.3,
          9.6,
          9.6,
          9.3,
          9.3,
          9.2,
          9.2,
          9.2,
          9.4,
          9.3,
          9.2,
          9,
          9.3,
          9.5,
          9.4,
          9.4,
          9.3,
          8.9,
          8.9,
          9,
          9.1,
          null,
          9.4,
          9.3,
          9.3,
          9.3
         ],
         "x0": " ",
         "xaxis": "x",
         "y0": " ",
         "yaxis": "y"
        },
        {
         "alignmentgroup": "True",
         "hovertemplate": "school=Inteligência Artificial<br>rating=%{x}<extra></extra>",
         "legendgroup": "Inteligência Artificial",
         "marker": {
          "color": "#ab63fa"
         },
         "name": "Inteligência Artificial",
         "notched": false,
         "offsetgroup": "Inteligência Artificial",
         "orientation": "h",
         "showlegend": true,
         "type": "box",
         "x": [
          8.8,
          9.2,
          9.3,
          9.2,
          9.1,
          9.1,
          9.2,
          9.3,
          9.4,
          9.1,
          9.3,
          9.1,
          9,
          9.2,
          9.1,
          9.2,
          9.1,
          9.2,
          9.2,
          9.2,
          8.9,
          9.1,
          9.2,
          9.3,
          9,
          8.8,
          9.2,
          9.1,
          9.4,
          8.9,
          9.2,
          9,
          9,
          9.3,
          9,
          9,
          9.2,
          9.3,
          9.3,
          9.2,
          9.2,
          9,
          9.1,
          9.1
         ],
         "x0": " ",
         "xaxis": "x",
         "y0": " ",
         "yaxis": "y"
        },
        {
         "alignmentgroup": "True",
         "hovertemplate": "school=UX & Design<br>rating=%{x}<extra></extra>",
         "legendgroup": "UX & Design",
         "marker": {
          "color": "#FFA15A"
         },
         "name": "UX & Design",
         "notched": false,
         "offsetgroup": "UX & Design",
         "orientation": "h",
         "showlegend": true,
         "type": "box",
         "x": [
          9.3,
          9.3,
          9.4,
          9.3,
          9.1,
          9.1,
          8.9,
          9.5,
          9.6,
          9.6,
          9.3,
          8.9,
          9.5,
          9.4,
          9.3,
          9.3,
          9.4,
          9.3,
          9.2,
          9.4,
          9.4,
          9.2,
          9.3,
          9.1,
          9.3,
          9.3,
          9.1,
          9.2,
          9.2,
          9.2,
          9.2,
          9.2,
          9.2,
          9.5,
          9.2,
          9.2,
          9.2,
          8.7,
          8.7,
          9.3,
          8.9,
          9.4,
          9,
          9.4,
          9.4,
          9.3,
          9.2,
          9.3,
          9.2,
          9.2,
          9.3,
          8.9,
          9,
          9.4,
          9.3,
          9.4,
          9.3,
          9.4,
          9.3,
          9.4,
          8.9,
          9.3,
          9.1,
          9.2,
          9.3,
          9.2,
          9.2,
          9.3,
          9.3,
          9.3,
          8.9,
          9.2,
          9.3,
          9.2,
          9.2,
          9.2,
          9.2,
          9.1,
          9,
          9.3,
          8.9,
          9,
          9.2,
          9.3,
          9.1,
          9.1,
          9.2,
          9.3,
          9.3,
          9.2,
          9.2,
          9.4,
          9.2,
          9.3,
          9.4,
          9,
          9.3,
          9.1,
          9.3,
          9.5,
          9.3,
          9.2,
          9.4,
          9.4,
          9.3,
          9.1,
          9.3,
          9.3,
          9.4,
          9.4,
          9.4,
          9.3,
          9.4,
          9.3,
          9.5,
          9.2,
          9.3,
          9.2,
          9.1,
          9.4,
          9.3,
          9.3,
          9.4,
          9.3,
          9.4,
          9.3,
          9.1,
          9.4,
          9.3,
          9.3,
          9.4,
          9.5,
          9.3,
          9.4,
          9.2,
          9.3,
          9.3,
          9.4,
          9.4,
          9.3,
          9.3,
          9.2,
          9.2,
          9.3,
          9.4,
          9.3,
          9.3,
          9.4,
          9.2,
          9.2,
          9.2,
          9.3,
          9.3,
          9.4,
          9.4,
          9.1,
          9,
          8.8,
          8.8,
          9.6,
          9.3,
          9.4,
          9.3,
          9.3,
          9.3,
          9.2,
          9.1,
          9.4,
          9,
          9.1,
          9.5,
          9.4,
          9.2,
          9,
          9.1,
          9.1,
          9.4,
          8.9,
          9,
          9.1,
          null,
          9.1,
          9.1,
          9.1,
          9,
          9.1,
          9.2,
          9.1,
          9.3,
          9.3,
          9.1,
          9.3,
          9.5,
          9.4,
          9.2,
          9.4,
          9.5,
          9.3,
          9.4,
          9.3,
          9.3,
          9.3,
          9.4,
          9.3,
          9.2,
          9.3,
          9.1,
          9.4,
          9.2,
          9.3,
          9.2,
          9.3,
          9.2,
          9.3,
          9.3,
          9.3,
          9.2,
          9.3,
          9.4,
          9.4,
          9.3,
          9.4,
          9.3,
          9.1,
          9.2,
          9.4,
          9.2,
          9.4,
          9.4,
          9.4,
          9.3,
          9.3,
          9.2,
          9.2,
          9.5
         ],
         "x0": " ",
         "xaxis": "x",
         "y0": " ",
         "yaxis": "y"
        },
        {
         "alignmentgroup": "True",
         "hovertemplate": "school=DevOps<br>rating=%{x}<extra></extra>",
         "legendgroup": "DevOps",
         "marker": {
          "color": "#19d3f3"
         },
         "name": "DevOps",
         "notched": false,
         "offsetgroup": "DevOps",
         "orientation": "h",
         "showlegend": true,
         "type": "box",
         "x": [
          9.3,
          8.9,
          9.2,
          9.2,
          8.9,
          9.1,
          9,
          9,
          9.1,
          9.1,
          9.4,
          9.1,
          9.2,
          9.1,
          9.2,
          9.5,
          8.9,
          9.4,
          9.3,
          9.2,
          9.3,
          9.2,
          9.2,
          9.2,
          9.3,
          9.2,
          9.2,
          9,
          9.1,
          9.2,
          9.2,
          9.2,
          9.3,
          9.2,
          9.3,
          9.3,
          9.2,
          9.3,
          9.4,
          9.4,
          9.3,
          9.3,
          9.4,
          9.5,
          9.5,
          9.4,
          8.9,
          9.1,
          9.1,
          9.1,
          9.1,
          9.4,
          9.1,
          9.3,
          9.2,
          9.2,
          9.3,
          9.1,
          9.1,
          9.2,
          9.1,
          9,
          9.1,
          8.9,
          9.3,
          9.2,
          9.3,
          9.3,
          9.3,
          9.3,
          9.3,
          9.1,
          9.3,
          9.3,
          9.2,
          9.2,
          9.1,
          9.3,
          9,
          9.2,
          8.9,
          9.3,
          9.2,
          9.2,
          9.2,
          9.2,
          9.2,
          9.3,
          9.3,
          9.3,
          9.2,
          9.2,
          9.3,
          9.3,
          9.2,
          9.1,
          9,
          9.1,
          9.5,
          9.4,
          9.4,
          9.2,
          8.8,
          9.2,
          9.3,
          9.1,
          9.1,
          9.2,
          9.2,
          9,
          9.1,
          9,
          9.3,
          9.4,
          9.3,
          9.3,
          8.9,
          9.4,
          9.2,
          9.3,
          9.3,
          9.2,
          9.2,
          9.3,
          9.4,
          9.2,
          9.2,
          9.3
         ],
         "x0": " ",
         "xaxis": "x",
         "y0": " ",
         "yaxis": "y"
        },
        {
         "alignmentgroup": "True",
         "hovertemplate": "school=Inovação & Gestão<br>rating=%{x}<extra></extra>",
         "legendgroup": "Inovação & Gestão",
         "marker": {
          "color": "#FF6692"
         },
         "name": "Inovação & Gestão",
         "notched": false,
         "offsetgroup": "Inovação & Gestão",
         "orientation": "h",
         "showlegend": true,
         "type": "box",
         "x": [
          9.2,
          9.4,
          9.3,
          9.2,
          9.3,
          9.2,
          9.2,
          9.2,
          9.4,
          9.3,
          9.3,
          9.3,
          9.3,
          9.3,
          9.3,
          9.3,
          9.3,
          9.4,
          9.2,
          9.4,
          9.3,
          9.3,
          9.3,
          9.3,
          9.4,
          9.3,
          9,
          9.2,
          9.4,
          9.3,
          9.4,
          9.3,
          9.3,
          9.3,
          9.3,
          9.2,
          9.1,
          9.1,
          9.2,
          9.2,
          9.1,
          9.2,
          9.1,
          9.1,
          9.1,
          9.2,
          9.2,
          9.3,
          9.1,
          9.5,
          9,
          9.4,
          9.2,
          9.3,
          9.3,
          9.3,
          9.1,
          9.2,
          9.2,
          9.4,
          9.3,
          9.3,
          9.3,
          9.4,
          9.4,
          9.3,
          9.4,
          9.4,
          9.3,
          9.3,
          9.3,
          9.4,
          9.1,
          9.2,
          9.3,
          9.3,
          9.4,
          9.4,
          9.4,
          9.4,
          9.3,
          9.3,
          9.2,
          9.2,
          9.3,
          9.2,
          9.2,
          9.3,
          9.3,
          9.3,
          9.3,
          9.3,
          9.2,
          9.3,
          9.3,
          9.3,
          9.3,
          9.4,
          9.5,
          9.3,
          9.3,
          9.3,
          9.3,
          9.3,
          9.3,
          9.2,
          9.1,
          9.2,
          9.4,
          9.3,
          8.5,
          9.1,
          9.2,
          9.2,
          9.3,
          9,
          9,
          9.3,
          9.2,
          9.2,
          9.2,
          9.2,
          9.2,
          9.4,
          9.3,
          9.3,
          9.3,
          9.3,
          9.2,
          9.2,
          9.4,
          9,
          9.2,
          9.3,
          9.4,
          9.4,
          9.3,
          9.3,
          9.3,
          9.4,
          9.4,
          9.3,
          9.3,
          9.3,
          9.3,
          9.2,
          9.1,
          9.2,
          9.3,
          9.4,
          9.3,
          9.3,
          9.3,
          9.3,
          9.3,
          9.3,
          9.4,
          9.3,
          9.2,
          9.2,
          9.1,
          9.3,
          8.4,
          9.2,
          9.3,
          9.3,
          9.2,
          9.1,
          9.3,
          9.3,
          9.2,
          9.3,
          9.3,
          9.2,
          9.4,
          9.3,
          9,
          null,
          9.2,
          9.1,
          9,
          9.2,
          9,
          9.1,
          9,
          9.2,
          9.4,
          9.2,
          9,
          9.1,
          9.4,
          9.2,
          9.2,
          9.3,
          9.1,
          9.1,
          9.2,
          9.2,
          9.1,
          9.3,
          9.2,
          9.2,
          9.2,
          9.2,
          9.2,
          9.3,
          9.2,
          9.1,
          9.3,
          9.2,
          9.1,
          9,
          9.2,
          9.4,
          9.3,
          9.2,
          9,
          9.2,
          9.3,
          9.3,
          9.3,
          9.2,
          9.2,
          9.2,
          9.4,
          9.4,
          9.1,
          9.3,
          9.2,
          9.3,
          9.3,
          9.1,
          9.3,
          9.2,
          9.3,
          9.3,
          9.1,
          9.2,
          9.1,
          9,
          9.2,
          9.2,
          9.3,
          9.3,
          9.2,
          9.2,
          9.4,
          9.4,
          9.4,
          9.5,
          8.9,
          9.2,
          9.3,
          9.2,
          8.9,
          9.2,
          9.2,
          9.1,
          9,
          9,
          9.2,
          9.2,
          9.2,
          9.2,
          9.3,
          9.3,
          8.8,
          9.2,
          9.2,
          9.2,
          9.2,
          9.2,
          9,
          9.3,
          9.2,
          9.4,
          9.2,
          9.3,
          9.2,
          9.4,
          9.2,
          9.3,
          9.3,
          9.3,
          9.3,
          9.3,
          9.2,
          9.2,
          9.3,
          9.3,
          9.3
         ],
         "x0": " ",
         "xaxis": "x",
         "y0": " ",
         "yaxis": "y"
        },
        {
         "alignmentgroup": "True",
         "hovertemplate": "school=Mobile<br>rating=%{x}<extra></extra>",
         "legendgroup": "Mobile",
         "marker": {
          "color": "#B6E880"
         },
         "name": "Mobile",
         "notched": false,
         "offsetgroup": "Mobile",
         "orientation": "h",
         "showlegend": true,
         "type": "box",
         "x": [
          9.3,
          9.2,
          9.1,
          9.2,
          9.3,
          9.3,
          9.3,
          9.1,
          9.2,
          9,
          9.3,
          9.1,
          8.9,
          8.7,
          9.1,
          8.8,
          9.1,
          9,
          null,
          9.2,
          9.1,
          9.2,
          9.1,
          9.2,
          9.2,
          9.3,
          8.8,
          9.1,
          8.8,
          9.2,
          9.6,
          9.5,
          9.3,
          8.8,
          8.8,
          9.2,
          9.4,
          9.3,
          9.2,
          9.1,
          9.2,
          8.8,
          9.3,
          9.4,
          9.4,
          9.3,
          9.1,
          9.2,
          9.1,
          8.9,
          8.8,
          8.9,
          9.2,
          9.4,
          9.4,
          9.3,
          9.3,
          9.3,
          9.2,
          9.3,
          9.3,
          9.5,
          9.4,
          9.4,
          9.4,
          9.3,
          8.9,
          9.1,
          9.3,
          9.1,
          9.2,
          9.1,
          9,
          9.2,
          9.2,
          9.3,
          9.3,
          9.3,
          9.3,
          9.2,
          8.9,
          9.3,
          9.4,
          9.2,
          9.3,
          9.1,
          9.3,
          9.3,
          9.2,
          9.2,
          8.7,
          9.5,
          9.5,
          9.3,
          9.2,
          9.3,
          9,
          9.1,
          9.4,
          9.1,
          9.1,
          8.9,
          8.8,
          9.4,
          9.4,
          9,
          8.9,
          9,
          9,
          9.1,
          9.1,
          9.1,
          9.1,
          9.4,
          9.1,
          9.4,
          9.3,
          9.3,
          9.4,
          9.2,
          9.2,
          9.3,
          9,
          9.2,
          9,
          9.1,
          9.2,
          9.2
         ],
         "x0": " ",
         "xaxis": "x",
         "y0": " ",
         "yaxis": "y"
        }
       ],
       "layout": {
        "boxmode": "group",
        "height": 500,
        "legend": {
         "title": {
          "text": "school"
         },
         "tracegroupgap": 0
        },
        "margin": {
         "t": 60
        },
        "template": {
         "data": {
          "bar": [
           {
            "error_x": {
             "color": "#f2f5fa"
            },
            "error_y": {
             "color": "#f2f5fa"
            },
            "marker": {
             "line": {
              "color": "rgb(17,17,17)",
              "width": 0.5
             },
             "pattern": {
              "fillmode": "overlay",
              "size": 10,
              "solidity": 0.2
             }
            },
            "type": "bar"
           }
          ],
          "barpolar": [
           {
            "marker": {
             "line": {
              "color": "rgb(17,17,17)",
              "width": 0.5
             },
             "pattern": {
              "fillmode": "overlay",
              "size": 10,
              "solidity": 0.2
             }
            },
            "type": "barpolar"
           }
          ],
          "carpet": [
           {
            "aaxis": {
             "endlinecolor": "#A2B1C6",
             "gridcolor": "#506784",
             "linecolor": "#506784",
             "minorgridcolor": "#506784",
             "startlinecolor": "#A2B1C6"
            },
            "baxis": {
             "endlinecolor": "#A2B1C6",
             "gridcolor": "#506784",
             "linecolor": "#506784",
             "minorgridcolor": "#506784",
             "startlinecolor": "#A2B1C6"
            },
            "type": "carpet"
           }
          ],
          "choropleth": [
           {
            "colorbar": {
             "outlinewidth": 0,
             "ticks": ""
            },
            "type": "choropleth"
           }
          ],
          "contour": [
           {
            "colorbar": {
             "outlinewidth": 0,
             "ticks": ""
            },
            "colorscale": [
             [
              0,
              "#0d0887"
             ],
             [
              0.1111111111111111,
              "#46039f"
             ],
             [
              0.2222222222222222,
              "#7201a8"
             ],
             [
              0.3333333333333333,
              "#9c179e"
             ],
             [
              0.4444444444444444,
              "#bd3786"
             ],
             [
              0.5555555555555556,
              "#d8576b"
             ],
             [
              0.6666666666666666,
              "#ed7953"
             ],
             [
              0.7777777777777778,
              "#fb9f3a"
             ],
             [
              0.8888888888888888,
              "#fdca26"
             ],
             [
              1,
              "#f0f921"
             ]
            ],
            "type": "contour"
           }
          ],
          "contourcarpet": [
           {
            "colorbar": {
             "outlinewidth": 0,
             "ticks": ""
            },
            "type": "contourcarpet"
           }
          ],
          "heatmap": [
           {
            "colorbar": {
             "outlinewidth": 0,
             "ticks": ""
            },
            "colorscale": [
             [
              0,
              "#0d0887"
             ],
             [
              0.1111111111111111,
              "#46039f"
             ],
             [
              0.2222222222222222,
              "#7201a8"
             ],
             [
              0.3333333333333333,
              "#9c179e"
             ],
             [
              0.4444444444444444,
              "#bd3786"
             ],
             [
              0.5555555555555556,
              "#d8576b"
             ],
             [
              0.6666666666666666,
              "#ed7953"
             ],
             [
              0.7777777777777778,
              "#fb9f3a"
             ],
             [
              0.8888888888888888,
              "#fdca26"
             ],
             [
              1,
              "#f0f921"
             ]
            ],
            "type": "heatmap"
           }
          ],
          "heatmapgl": [
           {
            "colorbar": {
             "outlinewidth": 0,
             "ticks": ""
            },
            "colorscale": [
             [
              0,
              "#0d0887"
             ],
             [
              0.1111111111111111,
              "#46039f"
             ],
             [
              0.2222222222222222,
              "#7201a8"
             ],
             [
              0.3333333333333333,
              "#9c179e"
             ],
             [
              0.4444444444444444,
              "#bd3786"
             ],
             [
              0.5555555555555556,
              "#d8576b"
             ],
             [
              0.6666666666666666,
              "#ed7953"
             ],
             [
              0.7777777777777778,
              "#fb9f3a"
             ],
             [
              0.8888888888888888,
              "#fdca26"
             ],
             [
              1,
              "#f0f921"
             ]
            ],
            "type": "heatmapgl"
           }
          ],
          "histogram": [
           {
            "marker": {
             "pattern": {
              "fillmode": "overlay",
              "size": 10,
              "solidity": 0.2
             }
            },
            "type": "histogram"
           }
          ],
          "histogram2d": [
           {
            "colorbar": {
             "outlinewidth": 0,
             "ticks": ""
            },
            "colorscale": [
             [
              0,
              "#0d0887"
             ],
             [
              0.1111111111111111,
              "#46039f"
             ],
             [
              0.2222222222222222,
              "#7201a8"
             ],
             [
              0.3333333333333333,
              "#9c179e"
             ],
             [
              0.4444444444444444,
              "#bd3786"
             ],
             [
              0.5555555555555556,
              "#d8576b"
             ],
             [
              0.6666666666666666,
              "#ed7953"
             ],
             [
              0.7777777777777778,
              "#fb9f3a"
             ],
             [
              0.8888888888888888,
              "#fdca26"
             ],
             [
              1,
              "#f0f921"
             ]
            ],
            "type": "histogram2d"
           }
          ],
          "histogram2dcontour": [
           {
            "colorbar": {
             "outlinewidth": 0,
             "ticks": ""
            },
            "colorscale": [
             [
              0,
              "#0d0887"
             ],
             [
              0.1111111111111111,
              "#46039f"
             ],
             [
              0.2222222222222222,
              "#7201a8"
             ],
             [
              0.3333333333333333,
              "#9c179e"
             ],
             [
              0.4444444444444444,
              "#bd3786"
             ],
             [
              0.5555555555555556,
              "#d8576b"
             ],
             [
              0.6666666666666666,
              "#ed7953"
             ],
             [
              0.7777777777777778,
              "#fb9f3a"
             ],
             [
              0.8888888888888888,
              "#fdca26"
             ],
             [
              1,
              "#f0f921"
             ]
            ],
            "type": "histogram2dcontour"
           }
          ],
          "mesh3d": [
           {
            "colorbar": {
             "outlinewidth": 0,
             "ticks": ""
            },
            "type": "mesh3d"
           }
          ],
          "parcoords": [
           {
            "line": {
             "colorbar": {
              "outlinewidth": 0,
              "ticks": ""
             }
            },
            "type": "parcoords"
           }
          ],
          "pie": [
           {
            "automargin": true,
            "type": "pie"
           }
          ],
          "scatter": [
           {
            "marker": {
             "line": {
              "color": "#283442"
             }
            },
            "type": "scatter"
           }
          ],
          "scatter3d": [
           {
            "line": {
             "colorbar": {
              "outlinewidth": 0,
              "ticks": ""
             }
            },
            "marker": {
             "colorbar": {
              "outlinewidth": 0,
              "ticks": ""
             }
            },
            "type": "scatter3d"
           }
          ],
          "scattercarpet": [
           {
            "marker": {
             "colorbar": {
              "outlinewidth": 0,
              "ticks": ""
             }
            },
            "type": "scattercarpet"
           }
          ],
          "scattergeo": [
           {
            "marker": {
             "colorbar": {
              "outlinewidth": 0,
              "ticks": ""
             }
            },
            "type": "scattergeo"
           }
          ],
          "scattergl": [
           {
            "marker": {
             "line": {
              "color": "#283442"
             }
            },
            "type": "scattergl"
           }
          ],
          "scattermapbox": [
           {
            "marker": {
             "colorbar": {
              "outlinewidth": 0,
              "ticks": ""
             }
            },
            "type": "scattermapbox"
           }
          ],
          "scatterpolar": [
           {
            "marker": {
             "colorbar": {
              "outlinewidth": 0,
              "ticks": ""
             }
            },
            "type": "scatterpolar"
           }
          ],
          "scatterpolargl": [
           {
            "marker": {
             "colorbar": {
              "outlinewidth": 0,
              "ticks": ""
             }
            },
            "type": "scatterpolargl"
           }
          ],
          "scatterternary": [
           {
            "marker": {
             "colorbar": {
              "outlinewidth": 0,
              "ticks": ""
             }
            },
            "type": "scatterternary"
           }
          ],
          "surface": [
           {
            "colorbar": {
             "outlinewidth": 0,
             "ticks": ""
            },
            "colorscale": [
             [
              0,
              "#0d0887"
             ],
             [
              0.1111111111111111,
              "#46039f"
             ],
             [
              0.2222222222222222,
              "#7201a8"
             ],
             [
              0.3333333333333333,
              "#9c179e"
             ],
             [
              0.4444444444444444,
              "#bd3786"
             ],
             [
              0.5555555555555556,
              "#d8576b"
             ],
             [
              0.6666666666666666,
              "#ed7953"
             ],
             [
              0.7777777777777778,
              "#fb9f3a"
             ],
             [
              0.8888888888888888,
              "#fdca26"
             ],
             [
              1,
              "#f0f921"
             ]
            ],
            "type": "surface"
           }
          ],
          "table": [
           {
            "cells": {
             "fill": {
              "color": "#506784"
             },
             "line": {
              "color": "rgb(17,17,17)"
             }
            },
            "header": {
             "fill": {
              "color": "#2a3f5f"
             },
             "line": {
              "color": "rgb(17,17,17)"
             }
            },
            "type": "table"
           }
          ]
         },
         "layout": {
          "annotationdefaults": {
           "arrowcolor": "#f2f5fa",
           "arrowhead": 0,
           "arrowwidth": 1
          },
          "autotypenumbers": "strict",
          "coloraxis": {
           "colorbar": {
            "outlinewidth": 0,
            "ticks": ""
           }
          },
          "colorscale": {
           "diverging": [
            [
             0,
             "#8e0152"
            ],
            [
             0.1,
             "#c51b7d"
            ],
            [
             0.2,
             "#de77ae"
            ],
            [
             0.3,
             "#f1b6da"
            ],
            [
             0.4,
             "#fde0ef"
            ],
            [
             0.5,
             "#f7f7f7"
            ],
            [
             0.6,
             "#e6f5d0"
            ],
            [
             0.7,
             "#b8e186"
            ],
            [
             0.8,
             "#7fbc41"
            ],
            [
             0.9,
             "#4d9221"
            ],
            [
             1,
             "#276419"
            ]
           ],
           "sequential": [
            [
             0,
             "#0d0887"
            ],
            [
             0.1111111111111111,
             "#46039f"
            ],
            [
             0.2222222222222222,
             "#7201a8"
            ],
            [
             0.3333333333333333,
             "#9c179e"
            ],
            [
             0.4444444444444444,
             "#bd3786"
            ],
            [
             0.5555555555555556,
             "#d8576b"
            ],
            [
             0.6666666666666666,
             "#ed7953"
            ],
            [
             0.7777777777777778,
             "#fb9f3a"
            ],
            [
             0.8888888888888888,
             "#fdca26"
            ],
            [
             1,
             "#f0f921"
            ]
           ],
           "sequentialminus": [
            [
             0,
             "#0d0887"
            ],
            [
             0.1111111111111111,
             "#46039f"
            ],
            [
             0.2222222222222222,
             "#7201a8"
            ],
            [
             0.3333333333333333,
             "#9c179e"
            ],
            [
             0.4444444444444444,
             "#bd3786"
            ],
            [
             0.5555555555555556,
             "#d8576b"
            ],
            [
             0.6666666666666666,
             "#ed7953"
            ],
            [
             0.7777777777777778,
             "#fb9f3a"
            ],
            [
             0.8888888888888888,
             "#fdca26"
            ],
            [
             1,
             "#f0f921"
            ]
           ]
          },
          "colorway": [
           "#636efa",
           "#EF553B",
           "#00cc96",
           "#ab63fa",
           "#FFA15A",
           "#19d3f3",
           "#FF6692",
           "#B6E880",
           "#FF97FF",
           "#FECB52"
          ],
          "font": {
           "color": "#f2f5fa"
          },
          "geo": {
           "bgcolor": "rgb(17,17,17)",
           "lakecolor": "rgb(17,17,17)",
           "landcolor": "rgb(17,17,17)",
           "showlakes": true,
           "showland": true,
           "subunitcolor": "#506784"
          },
          "hoverlabel": {
           "align": "left"
          },
          "hovermode": "closest",
          "mapbox": {
           "style": "dark"
          },
          "paper_bgcolor": "rgb(17,17,17)",
          "plot_bgcolor": "rgb(17,17,17)",
          "polar": {
           "angularaxis": {
            "gridcolor": "#506784",
            "linecolor": "#506784",
            "ticks": ""
           },
           "bgcolor": "rgb(17,17,17)",
           "radialaxis": {
            "gridcolor": "#506784",
            "linecolor": "#506784",
            "ticks": ""
           }
          },
          "scene": {
           "xaxis": {
            "backgroundcolor": "rgb(17,17,17)",
            "gridcolor": "#506784",
            "gridwidth": 2,
            "linecolor": "#506784",
            "showbackground": true,
            "ticks": "",
            "zerolinecolor": "#C8D4E3"
           },
           "yaxis": {
            "backgroundcolor": "rgb(17,17,17)",
            "gridcolor": "#506784",
            "gridwidth": 2,
            "linecolor": "#506784",
            "showbackground": true,
            "ticks": "",
            "zerolinecolor": "#C8D4E3"
           },
           "zaxis": {
            "backgroundcolor": "rgb(17,17,17)",
            "gridcolor": "#506784",
            "gridwidth": 2,
            "linecolor": "#506784",
            "showbackground": true,
            "ticks": "",
            "zerolinecolor": "#C8D4E3"
           }
          },
          "shapedefaults": {
           "line": {
            "color": "#f2f5fa"
           }
          },
          "sliderdefaults": {
           "bgcolor": "#C8D4E3",
           "bordercolor": "rgb(17,17,17)",
           "borderwidth": 1,
           "tickwidth": 0
          },
          "ternary": {
           "aaxis": {
            "gridcolor": "#506784",
            "linecolor": "#506784",
            "ticks": ""
           },
           "baxis": {
            "gridcolor": "#506784",
            "linecolor": "#506784",
            "ticks": ""
           },
           "bgcolor": "rgb(17,17,17)",
           "caxis": {
            "gridcolor": "#506784",
            "linecolor": "#506784",
            "ticks": ""
           }
          },
          "title": {
           "x": 0.05
          },
          "updatemenudefaults": {
           "bgcolor": "#506784",
           "borderwidth": 0
          },
          "xaxis": {
           "automargin": true,
           "gridcolor": "#283442",
           "linecolor": "#506784",
           "ticks": "",
           "title": {
            "standoff": 15
           },
           "zerolinecolor": "#283442",
           "zerolinewidth": 2
          },
          "yaxis": {
           "automargin": true,
           "gridcolor": "#283442",
           "linecolor": "#506784",
           "ticks": "",
           "title": {
            "standoff": 15
           },
           "zerolinecolor": "#283442",
           "zerolinewidth": 2
          }
         }
        },
        "xaxis": {
         "anchor": "y",
         "domain": [
          0,
          1
         ],
         "title": {
          "text": "rating"
         }
        },
        "yaxis": {
         "anchor": "x",
         "domain": [
          0,
          1
         ]
        }
       }
      }
     },
     "metadata": {},
     "output_type": "display_data"
    }
   ],
   "source": [
    "px.box(df, x=\"rating\", color=\"school\", height=500)"
   ]
  },
  {
   "cell_type": "code",
   "execution_count": 23,
   "metadata": {},
   "outputs": [
    {
     "data": {
      "application/vnd.plotly.v1+json": {
       "config": {
        "plotlyServerURL": "https://plot.ly"
       },
       "data": [
        {
         "alignmentgroup": "True",
         "hovertemplate": "Formação=%{y}<br>Média de Matrículas=%{x}<extra></extra>",
         "legendgroup": "Inovação & Gestão",
         "marker": {
          "color": "#636efa",
          "pattern": {
           "shape": ""
          }
         },
         "name": "Inovação & Gestão",
         "offsetgroup": "Inovação & Gestão",
         "orientation": "h",
         "showlegend": true,
         "textposition": "auto",
         "type": "bar",
         "x": [
          2900
         ],
         "xaxis": "x",
         "y": [
          "Inovação & Gestão"
         ],
         "yaxis": "y"
        },
        {
         "alignmentgroup": "True",
         "hovertemplate": "Formação=%{y}<br>Média de Matrículas=%{x}<extra></extra>",
         "legendgroup": "DevOps",
         "marker": {
          "color": "#EF553B",
          "pattern": {
           "shape": ""
          }
         },
         "name": "DevOps",
         "offsetgroup": "DevOps",
         "orientation": "h",
         "showlegend": true,
         "textposition": "auto",
         "type": "bar",
         "x": [
          2588.5
         ],
         "xaxis": "x",
         "y": [
          "DevOps"
         ],
         "yaxis": "y"
        },
        {
         "alignmentgroup": "True",
         "hovertemplate": "Formação=%{y}<br>Média de Matrículas=%{x}<extra></extra>",
         "legendgroup": "Programação",
         "marker": {
          "color": "#00cc96",
          "pattern": {
           "shape": ""
          }
         },
         "name": "Programação",
         "offsetgroup": "Programação",
         "orientation": "h",
         "showlegend": true,
         "textposition": "auto",
         "type": "bar",
         "x": [
          2353
         ],
         "xaxis": "x",
         "y": [
          "Programação"
         ],
         "yaxis": "y"
        },
        {
         "alignmentgroup": "True",
         "hovertemplate": "Formação=%{y}<br>Média de Matrículas=%{x}<extra></extra>",
         "legendgroup": "Front-end",
         "marker": {
          "color": "#ab63fa",
          "pattern": {
           "shape": ""
          }
         },
         "name": "Front-end",
         "offsetgroup": "Front-end",
         "orientation": "h",
         "showlegend": true,
         "textposition": "auto",
         "type": "bar",
         "x": [
          1722
         ],
         "xaxis": "x",
         "y": [
          "Front-end"
         ],
         "yaxis": "y"
        },
        {
         "alignmentgroup": "True",
         "hovertemplate": "Formação=%{y}<br>Média de Matrículas=%{x}<extra></extra>",
         "legendgroup": "Data Science",
         "marker": {
          "color": "#FFA15A",
          "pattern": {
           "shape": ""
          }
         },
         "name": "Data Science",
         "offsetgroup": "Data Science",
         "orientation": "h",
         "showlegend": true,
         "textposition": "auto",
         "type": "bar",
         "x": [
          1639.5
         ],
         "xaxis": "x",
         "y": [
          "Data Science"
         ],
         "yaxis": "y"
        },
        {
         "alignmentgroup": "True",
         "hovertemplate": "Formação=%{y}<br>Média de Matrículas=%{x}<extra></extra>",
         "legendgroup": "UX & Design",
         "marker": {
          "color": "#19d3f3",
          "pattern": {
           "shape": ""
          }
         },
         "name": "UX & Design",
         "offsetgroup": "UX & Design",
         "orientation": "h",
         "showlegend": true,
         "textposition": "auto",
         "type": "bar",
         "x": [
          1226
         ],
         "xaxis": "x",
         "y": [
          "UX & Design"
         ],
         "yaxis": "y"
        },
        {
         "alignmentgroup": "True",
         "hovertemplate": "Formação=%{y}<br>Média de Matrículas=%{x}<extra></extra>",
         "legendgroup": "Mobile",
         "marker": {
          "color": "#FF6692",
          "pattern": {
           "shape": ""
          }
         },
         "name": "Mobile",
         "offsetgroup": "Mobile",
         "orientation": "h",
         "showlegend": true,
         "textposition": "auto",
         "type": "bar",
         "x": [
          879.5
         ],
         "xaxis": "x",
         "y": [
          "Mobile"
         ],
         "yaxis": "y"
        },
        {
         "alignmentgroup": "True",
         "hovertemplate": "Formação=%{y}<br>Média de Matrículas=%{x}<extra></extra>",
         "legendgroup": "Inteligência Artificial",
         "marker": {
          "color": "#B6E880",
          "pattern": {
           "shape": ""
          }
         },
         "name": "Inteligência Artificial",
         "offsetgroup": "Inteligência Artificial",
         "orientation": "h",
         "showlegend": true,
         "textposition": "auto",
         "type": "bar",
         "x": [
          678
         ],
         "xaxis": "x",
         "y": [
          "Inteligência Artificial"
         ],
         "yaxis": "y"
        }
       ],
       "layout": {
        "barmode": "relative",
        "legend": {
         "title": {
          "text": "Formação"
         },
         "tracegroupgap": 0
        },
        "margin": {
         "t": 60
        },
        "template": {
         "data": {
          "bar": [
           {
            "error_x": {
             "color": "#f2f5fa"
            },
            "error_y": {
             "color": "#f2f5fa"
            },
            "marker": {
             "line": {
              "color": "rgb(17,17,17)",
              "width": 0.5
             },
             "pattern": {
              "fillmode": "overlay",
              "size": 10,
              "solidity": 0.2
             }
            },
            "type": "bar"
           }
          ],
          "barpolar": [
           {
            "marker": {
             "line": {
              "color": "rgb(17,17,17)",
              "width": 0.5
             },
             "pattern": {
              "fillmode": "overlay",
              "size": 10,
              "solidity": 0.2
             }
            },
            "type": "barpolar"
           }
          ],
          "carpet": [
           {
            "aaxis": {
             "endlinecolor": "#A2B1C6",
             "gridcolor": "#506784",
             "linecolor": "#506784",
             "minorgridcolor": "#506784",
             "startlinecolor": "#A2B1C6"
            },
            "baxis": {
             "endlinecolor": "#A2B1C6",
             "gridcolor": "#506784",
             "linecolor": "#506784",
             "minorgridcolor": "#506784",
             "startlinecolor": "#A2B1C6"
            },
            "type": "carpet"
           }
          ],
          "choropleth": [
           {
            "colorbar": {
             "outlinewidth": 0,
             "ticks": ""
            },
            "type": "choropleth"
           }
          ],
          "contour": [
           {
            "colorbar": {
             "outlinewidth": 0,
             "ticks": ""
            },
            "colorscale": [
             [
              0,
              "#0d0887"
             ],
             [
              0.1111111111111111,
              "#46039f"
             ],
             [
              0.2222222222222222,
              "#7201a8"
             ],
             [
              0.3333333333333333,
              "#9c179e"
             ],
             [
              0.4444444444444444,
              "#bd3786"
             ],
             [
              0.5555555555555556,
              "#d8576b"
             ],
             [
              0.6666666666666666,
              "#ed7953"
             ],
             [
              0.7777777777777778,
              "#fb9f3a"
             ],
             [
              0.8888888888888888,
              "#fdca26"
             ],
             [
              1,
              "#f0f921"
             ]
            ],
            "type": "contour"
           }
          ],
          "contourcarpet": [
           {
            "colorbar": {
             "outlinewidth": 0,
             "ticks": ""
            },
            "type": "contourcarpet"
           }
          ],
          "heatmap": [
           {
            "colorbar": {
             "outlinewidth": 0,
             "ticks": ""
            },
            "colorscale": [
             [
              0,
              "#0d0887"
             ],
             [
              0.1111111111111111,
              "#46039f"
             ],
             [
              0.2222222222222222,
              "#7201a8"
             ],
             [
              0.3333333333333333,
              "#9c179e"
             ],
             [
              0.4444444444444444,
              "#bd3786"
             ],
             [
              0.5555555555555556,
              "#d8576b"
             ],
             [
              0.6666666666666666,
              "#ed7953"
             ],
             [
              0.7777777777777778,
              "#fb9f3a"
             ],
             [
              0.8888888888888888,
              "#fdca26"
             ],
             [
              1,
              "#f0f921"
             ]
            ],
            "type": "heatmap"
           }
          ],
          "heatmapgl": [
           {
            "colorbar": {
             "outlinewidth": 0,
             "ticks": ""
            },
            "colorscale": [
             [
              0,
              "#0d0887"
             ],
             [
              0.1111111111111111,
              "#46039f"
             ],
             [
              0.2222222222222222,
              "#7201a8"
             ],
             [
              0.3333333333333333,
              "#9c179e"
             ],
             [
              0.4444444444444444,
              "#bd3786"
             ],
             [
              0.5555555555555556,
              "#d8576b"
             ],
             [
              0.6666666666666666,
              "#ed7953"
             ],
             [
              0.7777777777777778,
              "#fb9f3a"
             ],
             [
              0.8888888888888888,
              "#fdca26"
             ],
             [
              1,
              "#f0f921"
             ]
            ],
            "type": "heatmapgl"
           }
          ],
          "histogram": [
           {
            "marker": {
             "pattern": {
              "fillmode": "overlay",
              "size": 10,
              "solidity": 0.2
             }
            },
            "type": "histogram"
           }
          ],
          "histogram2d": [
           {
            "colorbar": {
             "outlinewidth": 0,
             "ticks": ""
            },
            "colorscale": [
             [
              0,
              "#0d0887"
             ],
             [
              0.1111111111111111,
              "#46039f"
             ],
             [
              0.2222222222222222,
              "#7201a8"
             ],
             [
              0.3333333333333333,
              "#9c179e"
             ],
             [
              0.4444444444444444,
              "#bd3786"
             ],
             [
              0.5555555555555556,
              "#d8576b"
             ],
             [
              0.6666666666666666,
              "#ed7953"
             ],
             [
              0.7777777777777778,
              "#fb9f3a"
             ],
             [
              0.8888888888888888,
              "#fdca26"
             ],
             [
              1,
              "#f0f921"
             ]
            ],
            "type": "histogram2d"
           }
          ],
          "histogram2dcontour": [
           {
            "colorbar": {
             "outlinewidth": 0,
             "ticks": ""
            },
            "colorscale": [
             [
              0,
              "#0d0887"
             ],
             [
              0.1111111111111111,
              "#46039f"
             ],
             [
              0.2222222222222222,
              "#7201a8"
             ],
             [
              0.3333333333333333,
              "#9c179e"
             ],
             [
              0.4444444444444444,
              "#bd3786"
             ],
             [
              0.5555555555555556,
              "#d8576b"
             ],
             [
              0.6666666666666666,
              "#ed7953"
             ],
             [
              0.7777777777777778,
              "#fb9f3a"
             ],
             [
              0.8888888888888888,
              "#fdca26"
             ],
             [
              1,
              "#f0f921"
             ]
            ],
            "type": "histogram2dcontour"
           }
          ],
          "mesh3d": [
           {
            "colorbar": {
             "outlinewidth": 0,
             "ticks": ""
            },
            "type": "mesh3d"
           }
          ],
          "parcoords": [
           {
            "line": {
             "colorbar": {
              "outlinewidth": 0,
              "ticks": ""
             }
            },
            "type": "parcoords"
           }
          ],
          "pie": [
           {
            "automargin": true,
            "type": "pie"
           }
          ],
          "scatter": [
           {
            "marker": {
             "line": {
              "color": "#283442"
             }
            },
            "type": "scatter"
           }
          ],
          "scatter3d": [
           {
            "line": {
             "colorbar": {
              "outlinewidth": 0,
              "ticks": ""
             }
            },
            "marker": {
             "colorbar": {
              "outlinewidth": 0,
              "ticks": ""
             }
            },
            "type": "scatter3d"
           }
          ],
          "scattercarpet": [
           {
            "marker": {
             "colorbar": {
              "outlinewidth": 0,
              "ticks": ""
             }
            },
            "type": "scattercarpet"
           }
          ],
          "scattergeo": [
           {
            "marker": {
             "colorbar": {
              "outlinewidth": 0,
              "ticks": ""
             }
            },
            "type": "scattergeo"
           }
          ],
          "scattergl": [
           {
            "marker": {
             "line": {
              "color": "#283442"
             }
            },
            "type": "scattergl"
           }
          ],
          "scattermapbox": [
           {
            "marker": {
             "colorbar": {
              "outlinewidth": 0,
              "ticks": ""
             }
            },
            "type": "scattermapbox"
           }
          ],
          "scatterpolar": [
           {
            "marker": {
             "colorbar": {
              "outlinewidth": 0,
              "ticks": ""
             }
            },
            "type": "scatterpolar"
           }
          ],
          "scatterpolargl": [
           {
            "marker": {
             "colorbar": {
              "outlinewidth": 0,
              "ticks": ""
             }
            },
            "type": "scatterpolargl"
           }
          ],
          "scatterternary": [
           {
            "marker": {
             "colorbar": {
              "outlinewidth": 0,
              "ticks": ""
             }
            },
            "type": "scatterternary"
           }
          ],
          "surface": [
           {
            "colorbar": {
             "outlinewidth": 0,
             "ticks": ""
            },
            "colorscale": [
             [
              0,
              "#0d0887"
             ],
             [
              0.1111111111111111,
              "#46039f"
             ],
             [
              0.2222222222222222,
              "#7201a8"
             ],
             [
              0.3333333333333333,
              "#9c179e"
             ],
             [
              0.4444444444444444,
              "#bd3786"
             ],
             [
              0.5555555555555556,
              "#d8576b"
             ],
             [
              0.6666666666666666,
              "#ed7953"
             ],
             [
              0.7777777777777778,
              "#fb9f3a"
             ],
             [
              0.8888888888888888,
              "#fdca26"
             ],
             [
              1,
              "#f0f921"
             ]
            ],
            "type": "surface"
           }
          ],
          "table": [
           {
            "cells": {
             "fill": {
              "color": "#506784"
             },
             "line": {
              "color": "rgb(17,17,17)"
             }
            },
            "header": {
             "fill": {
              "color": "#2a3f5f"
             },
             "line": {
              "color": "rgb(17,17,17)"
             }
            },
            "type": "table"
           }
          ]
         },
         "layout": {
          "annotationdefaults": {
           "arrowcolor": "#f2f5fa",
           "arrowhead": 0,
           "arrowwidth": 1
          },
          "autotypenumbers": "strict",
          "coloraxis": {
           "colorbar": {
            "outlinewidth": 0,
            "ticks": ""
           }
          },
          "colorscale": {
           "diverging": [
            [
             0,
             "#8e0152"
            ],
            [
             0.1,
             "#c51b7d"
            ],
            [
             0.2,
             "#de77ae"
            ],
            [
             0.3,
             "#f1b6da"
            ],
            [
             0.4,
             "#fde0ef"
            ],
            [
             0.5,
             "#f7f7f7"
            ],
            [
             0.6,
             "#e6f5d0"
            ],
            [
             0.7,
             "#b8e186"
            ],
            [
             0.8,
             "#7fbc41"
            ],
            [
             0.9,
             "#4d9221"
            ],
            [
             1,
             "#276419"
            ]
           ],
           "sequential": [
            [
             0,
             "#0d0887"
            ],
            [
             0.1111111111111111,
             "#46039f"
            ],
            [
             0.2222222222222222,
             "#7201a8"
            ],
            [
             0.3333333333333333,
             "#9c179e"
            ],
            [
             0.4444444444444444,
             "#bd3786"
            ],
            [
             0.5555555555555556,
             "#d8576b"
            ],
            [
             0.6666666666666666,
             "#ed7953"
            ],
            [
             0.7777777777777778,
             "#fb9f3a"
            ],
            [
             0.8888888888888888,
             "#fdca26"
            ],
            [
             1,
             "#f0f921"
            ]
           ],
           "sequentialminus": [
            [
             0,
             "#0d0887"
            ],
            [
             0.1111111111111111,
             "#46039f"
            ],
            [
             0.2222222222222222,
             "#7201a8"
            ],
            [
             0.3333333333333333,
             "#9c179e"
            ],
            [
             0.4444444444444444,
             "#bd3786"
            ],
            [
             0.5555555555555556,
             "#d8576b"
            ],
            [
             0.6666666666666666,
             "#ed7953"
            ],
            [
             0.7777777777777778,
             "#fb9f3a"
            ],
            [
             0.8888888888888888,
             "#fdca26"
            ],
            [
             1,
             "#f0f921"
            ]
           ]
          },
          "colorway": [
           "#636efa",
           "#EF553B",
           "#00cc96",
           "#ab63fa",
           "#FFA15A",
           "#19d3f3",
           "#FF6692",
           "#B6E880",
           "#FF97FF",
           "#FECB52"
          ],
          "font": {
           "color": "#f2f5fa"
          },
          "geo": {
           "bgcolor": "rgb(17,17,17)",
           "lakecolor": "rgb(17,17,17)",
           "landcolor": "rgb(17,17,17)",
           "showlakes": true,
           "showland": true,
           "subunitcolor": "#506784"
          },
          "hoverlabel": {
           "align": "left"
          },
          "hovermode": "closest",
          "mapbox": {
           "style": "dark"
          },
          "paper_bgcolor": "rgb(17,17,17)",
          "plot_bgcolor": "rgb(17,17,17)",
          "polar": {
           "angularaxis": {
            "gridcolor": "#506784",
            "linecolor": "#506784",
            "ticks": ""
           },
           "bgcolor": "rgb(17,17,17)",
           "radialaxis": {
            "gridcolor": "#506784",
            "linecolor": "#506784",
            "ticks": ""
           }
          },
          "scene": {
           "xaxis": {
            "backgroundcolor": "rgb(17,17,17)",
            "gridcolor": "#506784",
            "gridwidth": 2,
            "linecolor": "#506784",
            "showbackground": true,
            "ticks": "",
            "zerolinecolor": "#C8D4E3"
           },
           "yaxis": {
            "backgroundcolor": "rgb(17,17,17)",
            "gridcolor": "#506784",
            "gridwidth": 2,
            "linecolor": "#506784",
            "showbackground": true,
            "ticks": "",
            "zerolinecolor": "#C8D4E3"
           },
           "zaxis": {
            "backgroundcolor": "rgb(17,17,17)",
            "gridcolor": "#506784",
            "gridwidth": 2,
            "linecolor": "#506784",
            "showbackground": true,
            "ticks": "",
            "zerolinecolor": "#C8D4E3"
           }
          },
          "shapedefaults": {
           "line": {
            "color": "#f2f5fa"
           }
          },
          "sliderdefaults": {
           "bgcolor": "#C8D4E3",
           "bordercolor": "rgb(17,17,17)",
           "borderwidth": 1,
           "tickwidth": 0
          },
          "ternary": {
           "aaxis": {
            "gridcolor": "#506784",
            "linecolor": "#506784",
            "ticks": ""
           },
           "baxis": {
            "gridcolor": "#506784",
            "linecolor": "#506784",
            "ticks": ""
           },
           "bgcolor": "rgb(17,17,17)",
           "caxis": {
            "gridcolor": "#506784",
            "linecolor": "#506784",
            "ticks": ""
           }
          },
          "title": {
           "x": 0.05
          },
          "updatemenudefaults": {
           "bgcolor": "#506784",
           "borderwidth": 0
          },
          "xaxis": {
           "automargin": true,
           "gridcolor": "#283442",
           "linecolor": "#506784",
           "ticks": "",
           "title": {
            "standoff": 15
           },
           "zerolinecolor": "#283442",
           "zerolinewidth": 2
          },
          "yaxis": {
           "automargin": true,
           "gridcolor": "#283442",
           "linecolor": "#506784",
           "ticks": "",
           "title": {
            "standoff": 15
           },
           "zerolinecolor": "#283442",
           "zerolinewidth": 2
          }
         }
        },
        "xaxis": {
         "anchor": "y",
         "domain": [
          0,
          1
         ],
         "title": {
          "text": "Média de Matrículas"
         }
        },
        "yaxis": {
         "anchor": "x",
         "categoryarray": [
          "Inteligência Artificial",
          "Mobile",
          "UX & Design",
          "Data Science",
          "Front-end",
          "Programação",
          "DevOps",
          "Inovação & Gestão"
         ],
         "categoryorder": "array",
         "domain": [
          0,
          1
         ],
         "title": {
          "text": "Formação"
         }
        }
       }
      }
     },
     "metadata": {},
     "output_type": "display_data"
    }
   ],
   "source": [
    "fig = px.bar(data_frame=school_group, y='Formação', x='Média de Matrículas', orientation=\"h\", color=\"Formação\")\n",
    "fig.show()"
   ]
  },
  {
   "cell_type": "code",
   "execution_count": 30,
   "metadata": {},
   "outputs": [
    {
     "data": {
      "text/html": [
       "<div>\n",
       "<style scoped>\n",
       "    .dataframe tbody tr th:only-of-type {\n",
       "        vertical-align: middle;\n",
       "    }\n",
       "\n",
       "    .dataframe tbody tr th {\n",
       "        vertical-align: top;\n",
       "    }\n",
       "\n",
       "    .dataframe thead th {\n",
       "        text-align: right;\n",
       "    }\n",
       "</style>\n",
       "<table border=\"1\" class=\"dataframe\">\n",
       "  <thead>\n",
       "    <tr style=\"text-align: right;\">\n",
       "      <th></th>\n",
       "      <th>title</th>\n",
       "      <th>workload</th>\n",
       "      <th>url</th>\n",
       "      <th>school</th>\n",
       "      <th>registered_people</th>\n",
       "      <th>rating</th>\n",
       "      <th>instructor</th>\n",
       "    </tr>\n",
       "  </thead>\n",
       "  <tbody>\n",
       "    <tr>\n",
       "      <th>0</th>\n",
       "      <td>Curso JavaScript e HTML: desenvolva um jogo e pratique lógica de programação</td>\n",
       "      <td>16</td>\n",
       "      <td>https://www.alura.com.br/curso-online-logica-programacao-javascript-html</td>\n",
       "      <td>Programação</td>\n",
       "      <td>167775</td>\n",
       "      <td>9.5</td>\n",
       "      <td>Flavio Henrique de Souza Almeida</td>\n",
       "    </tr>\n",
       "    <tr>\n",
       "      <th>1147</th>\n",
       "      <td>Curso Comunicação não violenta: consciência para agir</td>\n",
       "      <td>8</td>\n",
       "      <td>https://www.alura.com.br/curso-online-comunicacao-nao-violenta</td>\n",
       "      <td>Inovação &amp; Gestão</td>\n",
       "      <td>93768</td>\n",
       "      <td>9.3</td>\n",
       "      <td>Priscila Stuani</td>\n",
       "    </tr>\n",
       "    <tr>\n",
       "      <th>296</th>\n",
       "      <td>Curso Data Science: analise e visualização de dados</td>\n",
       "      <td>6</td>\n",
       "      <td>https://www.alura.com.br/curso-online-data-science-primeiros-passos</td>\n",
       "      <td>Data Science</td>\n",
       "      <td>88599</td>\n",
       "      <td>9.2</td>\n",
       "      <td>Guilherme Silveira</td>\n",
       "    </tr>\n",
       "    <tr>\n",
       "      <th>1207</th>\n",
       "      <td>Curso Aprender a aprender: técnicas para seu autodesenvolvimento</td>\n",
       "      <td>8</td>\n",
       "      <td>https://www.alura.com.br/curso-online-aprender-a-aprender-tecnicas-para-seu-autodesenvolvimento</td>\n",
       "      <td>Inovação &amp; Gestão</td>\n",
       "      <td>84675</td>\n",
       "      <td>9.4</td>\n",
       "      <td>Suzana Braga Lisboa</td>\n",
       "    </tr>\n",
       "    <tr>\n",
       "      <th>1176</th>\n",
       "      <td>Curso Comunicação assertiva: reduzindo conflitos e frustrações</td>\n",
       "      <td>6</td>\n",
       "      <td>https://www.alura.com.br/curso-online-comunicacao-assertiva-reduzindo-conflitos-e-frustracaoes</td>\n",
       "      <td>Inovação &amp; Gestão</td>\n",
       "      <td>74648</td>\n",
       "      <td>9.3</td>\n",
       "      <td>Cintia Amianti</td>\n",
       "    </tr>\n",
       "    <tr>\n",
       "      <th>...</th>\n",
       "      <td>...</td>\n",
       "      <td>...</td>\n",
       "      <td>...</td>\n",
       "      <td>...</td>\n",
       "      <td>...</td>\n",
       "      <td>...</td>\n",
       "      <td>...</td>\n",
       "    </tr>\n",
       "    <tr>\n",
       "      <th>1131</th>\n",
       "      <td>Curso COBIT 2019: compreendendo princípios e estrutura</td>\n",
       "      <td>8</td>\n",
       "      <td>https://www.alura.com.br/curso-online-cobit-2019-compreendendo-principios-estrutura</td>\n",
       "      <td>Inovação &amp; Gestão</td>\n",
       "      <td>84</td>\n",
       "      <td>8.5</td>\n",
       "      <td>Roberto Sabino</td>\n",
       "    </tr>\n",
       "    <tr>\n",
       "      <th>1330</th>\n",
       "      <td>Curso React Native: criando menu e navegando entre telas</td>\n",
       "      <td>6</td>\n",
       "      <td>https://www.alura.com.br/curso-online-react-native-menu-navegando-entre-telas</td>\n",
       "      <td>Mobile</td>\n",
       "      <td>79</td>\n",
       "      <td>NaN</td>\n",
       "      <td>Mônica Mazzochi Hillman</td>\n",
       "    </tr>\n",
       "    <tr>\n",
       "      <th>1329</th>\n",
       "      <td>Curso React native: domine middlewares com Redux Saga</td>\n",
       "      <td>8</td>\n",
       "      <td>https://www.alura.com.br/curso-online-react-native-domine-middlewares-redux-saga</td>\n",
       "      <td>Mobile</td>\n",
       "      <td>76</td>\n",
       "      <td>9.0</td>\n",
       "      <td>Luiz Fernando Ribeiro</td>\n",
       "    </tr>\n",
       "    <tr>\n",
       "      <th>55</th>\n",
       "      <td>Curso JavaScript: conhecendo objetos</td>\n",
       "      <td>8</td>\n",
       "      <td>https://www.alura.com.br/curso-online-javascript-conhecendo-objetos</td>\n",
       "      <td>Programação</td>\n",
       "      <td>58</td>\n",
       "      <td>NaN</td>\n",
       "      <td>Juliana Amoasei</td>\n",
       "    </tr>\n",
       "    <tr>\n",
       "      <th>838</th>\n",
       "      <td>Curso Game design: entenda estratégias para viabilizar e monetizar o seu jogo</td>\n",
       "      <td>8</td>\n",
       "      <td>https://www.alura.com.br/curso-online-game-design-estrategias-viabilizar-monetizar-seu-jogo</td>\n",
       "      <td>UX &amp; Design</td>\n",
       "      <td>52</td>\n",
       "      <td>NaN</td>\n",
       "      <td>Julio Matos</td>\n",
       "    </tr>\n",
       "  </tbody>\n",
       "</table>\n",
       "<p>1440 rows × 7 columns</p>\n",
       "</div>"
      ],
      "text/plain": [
       "                                                                              title  \\\n",
       "0      Curso JavaScript e HTML: desenvolva um jogo e pratique lógica de programação   \n",
       "1147                          Curso Comunicação não violenta: consciência para agir   \n",
       "296                             Curso Data Science: analise e visualização de dados   \n",
       "1207               Curso Aprender a aprender: técnicas para seu autodesenvolvimento   \n",
       "1176                 Curso Comunicação assertiva: reduzindo conflitos e frustrações   \n",
       "...                                                                             ...   \n",
       "1131                         Curso COBIT 2019: compreendendo princípios e estrutura   \n",
       "1330                       Curso React Native: criando menu e navegando entre telas   \n",
       "1329                          Curso React native: domine middlewares com Redux Saga   \n",
       "55                                             Curso JavaScript: conhecendo objetos   \n",
       "838   Curso Game design: entenda estratégias para viabilizar e monetizar o seu jogo   \n",
       "\n",
       "      workload  \\\n",
       "0           16   \n",
       "1147         8   \n",
       "296          6   \n",
       "1207         8   \n",
       "1176         6   \n",
       "...        ...   \n",
       "1131         8   \n",
       "1330         6   \n",
       "1329         8   \n",
       "55           8   \n",
       "838          8   \n",
       "\n",
       "                                                                                                  url  \\\n",
       "0                            https://www.alura.com.br/curso-online-logica-programacao-javascript-html   \n",
       "1147                                   https://www.alura.com.br/curso-online-comunicacao-nao-violenta   \n",
       "296                               https://www.alura.com.br/curso-online-data-science-primeiros-passos   \n",
       "1207  https://www.alura.com.br/curso-online-aprender-a-aprender-tecnicas-para-seu-autodesenvolvimento   \n",
       "1176   https://www.alura.com.br/curso-online-comunicacao-assertiva-reduzindo-conflitos-e-frustracaoes   \n",
       "...                                                                                               ...   \n",
       "1131              https://www.alura.com.br/curso-online-cobit-2019-compreendendo-principios-estrutura   \n",
       "1330                    https://www.alura.com.br/curso-online-react-native-menu-navegando-entre-telas   \n",
       "1329                 https://www.alura.com.br/curso-online-react-native-domine-middlewares-redux-saga   \n",
       "55                                https://www.alura.com.br/curso-online-javascript-conhecendo-objetos   \n",
       "838       https://www.alura.com.br/curso-online-game-design-estrategias-viabilizar-monetizar-seu-jogo   \n",
       "\n",
       "                 school  registered_people  rating  \\\n",
       "0           Programação             167775     9.5   \n",
       "1147  Inovação & Gestão              93768     9.3   \n",
       "296        Data Science              88599     9.2   \n",
       "1207  Inovação & Gestão              84675     9.4   \n",
       "1176  Inovação & Gestão              74648     9.3   \n",
       "...                 ...                ...     ...   \n",
       "1131  Inovação & Gestão                 84     8.5   \n",
       "1330             Mobile                 79     NaN   \n",
       "1329             Mobile                 76     9.0   \n",
       "55          Programação                 58     NaN   \n",
       "838         UX & Design                 52     NaN   \n",
       "\n",
       "                            instructor  \n",
       "0     Flavio Henrique de Souza Almeida  \n",
       "1147                   Priscila Stuani  \n",
       "296                 Guilherme Silveira  \n",
       "1207               Suzana Braga Lisboa  \n",
       "1176                    Cintia Amianti  \n",
       "...                                ...  \n",
       "1131                    Roberto Sabino  \n",
       "1330           Mônica Mazzochi Hillman  \n",
       "1329             Luiz Fernando Ribeiro  \n",
       "55                     Juliana Amoasei  \n",
       "838                        Julio Matos  \n",
       "\n",
       "[1440 rows x 7 columns]"
      ]
     },
     "execution_count": 30,
     "metadata": {},
     "output_type": "execute_result"
    }
   ],
   "source": [
    "df.sort_values(by='registered_people', ascending=False)"
   ]
  },
  {
   "cell_type": "code",
   "execution_count": 28,
   "metadata": {},
   "outputs": [
    {
     "data": {
      "text/html": [
       "<div>\n",
       "<style scoped>\n",
       "    .dataframe tbody tr th:only-of-type {\n",
       "        vertical-align: middle;\n",
       "    }\n",
       "\n",
       "    .dataframe tbody tr th {\n",
       "        vertical-align: top;\n",
       "    }\n",
       "\n",
       "    .dataframe thead th {\n",
       "        text-align: right;\n",
       "    }\n",
       "</style>\n",
       "<table border=\"1\" class=\"dataframe\">\n",
       "  <thead>\n",
       "    <tr style=\"text-align: right;\">\n",
       "      <th></th>\n",
       "      <th>workload</th>\n",
       "      <th>rating</th>\n",
       "      <th>registered_people</th>\n",
       "    </tr>\n",
       "  </thead>\n",
       "  <tbody>\n",
       "    <tr>\n",
       "      <th>workload</th>\n",
       "      <td>1.000000</td>\n",
       "      <td>0.081078</td>\n",
       "      <td>-0.024966</td>\n",
       "    </tr>\n",
       "    <tr>\n",
       "      <th>rating</th>\n",
       "      <td>0.081078</td>\n",
       "      <td>1.000000</td>\n",
       "      <td>0.157065</td>\n",
       "    </tr>\n",
       "    <tr>\n",
       "      <th>registered_people</th>\n",
       "      <td>-0.024966</td>\n",
       "      <td>0.157065</td>\n",
       "      <td>1.000000</td>\n",
       "    </tr>\n",
       "  </tbody>\n",
       "</table>\n",
       "</div>"
      ],
      "text/plain": [
       "                   workload    rating  registered_people\n",
       "workload           1.000000  0.081078          -0.024966\n",
       "rating             0.081078  1.000000           0.157065\n",
       "registered_people -0.024966  0.157065           1.000000"
      ]
     },
     "execution_count": 28,
     "metadata": {},
     "output_type": "execute_result"
    }
   ],
   "source": [
    "df[['workload', 'rating', 'registered_people']].corr()"
   ]
  },
  {
   "cell_type": "code",
   "execution_count": 30,
   "metadata": {},
   "outputs": [
    {
     "data": {
      "text/plain": [
       "<Axes: >"
      ]
     },
     "execution_count": 30,
     "metadata": {},
     "output_type": "execute_result"
    },
    {
     "data": {
      "image/png": "[encoded data removed]",
      "text/plain": [
       "<Figure size 640x480 with 2 Axes>"
      ]
     },
     "metadata": {},
     "output_type": "display_data"
    }
   ],
   "source": [
    "sns.heatmap(df[['workload', 'rating', 'registered_people']].corr(), annot=True, cmap='coolwarm', vmin=-1, vmax=1)"
   ]
  },
  {
   "cell_type": "code",
   "execution_count": null,
   "metadata": {},
   "outputs": [],
   "source": []
  }
 ],
 "metadata": {
  "kernelspec": {
   "display_name": "Python 3 (ipykernel)",
   "language": "python",
   "name": "python3"
  },
  "language_info": {
   "codemirror_mode": {
    "name": "ipython",
    "version": 3
   },
   "file_extension": ".py",
   "mimetype": "text/x-python",
   "name": "python",
   "nbconvert_exporter": "python",
   "pygments_lexer": "ipython3",
   "version": "3.10.12"
  }
 },
 "nbformat": 4,
 "nbformat_minor": 4
}
